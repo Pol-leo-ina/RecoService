{
 "cells": [
  {
   "cell_type": "markdown",
   "metadata": {},
   "source": [
    "# Модели первого уровня"
   ]
  },
  {
   "cell_type": "markdown",
   "metadata": {},
   "source": [
    "Будем использовать lightFM с подобранными параметрами из предыдущего дз, потом добавим в нее популярную модель для работы с холодными юзерами"
   ]
  },
  {
   "cell_type": "markdown",
   "metadata": {},
   "source": [
    "## Импорты"
   ]
  },
  {
   "cell_type": "code",
   "execution_count": 1,
   "metadata": {},
   "outputs": [],
   "source": [
    "import warnings\n",
    "warnings.simplefilter('ignore')\n",
    "\n",
    "import dill\n",
    "import numpy as np\n",
    "import pandas as pd\n",
    "\n",
    "import rectools\n",
    "from rectools.models import PopularModel\n",
    "from lightfm import LightFM\n",
    "from lightfm.data import Dataset\n",
    "from pathlib import Path\n",
    "from rectools.metrics import calc_metrics, NDCG, MAP, Precision, Recall, MeanInvUserFreq\n",
    "from rectools import Columns\n",
    "from sklearn.model_selection import train_test_split\n",
    "from typing import Any, Dict\n",
    "from tqdm.auto import tqdm\n",
    "from notebooks.tools  import generate_lightfm_recs_mapper"
   ]
  },
  {
   "cell_type": "markdown",
   "metadata": {},
   "source": [
    "## Подготовка данных (из 4 дз + дополнения из 6 практики)"
   ]
  },
  {
   "cell_type": "code",
   "execution_count": 2,
   "metadata": {},
   "outputs": [],
   "source": [
    "DATA_PATH = Path(\"data_original\")"
   ]
  },
  {
   "cell_type": "code",
   "execution_count": 3,
   "metadata": {},
   "outputs": [
    {
     "name": "stdout",
     "output_type": "stream",
     "text": [
      "CPU times: total: 1.33 s\n",
      "Wall time: 2.02 s\n"
     ]
    }
   ],
   "source": [
    "%%time\n",
    "users = pd.read_csv(DATA_PATH / 'users.csv')\n",
    "items = pd.read_csv(DATA_PATH / 'items.csv')\n",
    "interactions = pd.read_csv(DATA_PATH / 'interactions.csv')"
   ]
  },
  {
   "cell_type": "code",
   "execution_count": 4,
   "metadata": {},
   "outputs": [],
   "source": [
    "# Меняем названия колонок для использования rectools\n",
    "interactions.rename(\n",
    "    columns={\n",
    "        'last_watch_dt': Columns.Datetime,\n",
    "        \"watched_pct\": Columns.Weight,\n",
    "    },\n",
    "    inplace=True,\n",
    ")\n",
    "\n",
    "interactions[Columns.Datetime] = pd.to_datetime(interactions[Columns.Datetime], format='%Y-%m-%d')\n",
    "\n",
    "# Заполняем пропуски\n",
    "interactions_default_values: Dict[str, Any] = {\n",
    "   Columns.Datetime: interactions[Columns.Datetime].median(),\n",
    "    Columns.Weight: 0.,\n",
    "    'total_dur': 0,\n",
    "}\n",
    "interactions.fillna(interactions_default_values, inplace=True)\n",
    "\n",
    "max_date = interactions[Columns.Datetime].max()\n",
    "#вставим сюда только тот промежуток, на котором не учится ранкер\n",
    "ranker_days_count = 30\n",
    "train = interactions[(interactions[Columns.Datetime] < max_date - pd.Timedelta(days=ranker_days_count))]\n"
   ]
  },
  {
   "cell_type": "code",
   "execution_count": 5,
   "metadata": {},
   "outputs": [
    {
     "data": {
      "text/html": [
       "<div>\n",
       "<style scoped>\n",
       "    .dataframe tbody tr th:only-of-type {\n",
       "        vertical-align: middle;\n",
       "    }\n",
       "\n",
       "    .dataframe tbody tr th {\n",
       "        vertical-align: top;\n",
       "    }\n",
       "\n",
       "    .dataframe thead th {\n",
       "        text-align: right;\n",
       "    }\n",
       "</style>\n",
       "<table border=\"1\" class=\"dataframe\">\n",
       "  <thead>\n",
       "    <tr style=\"text-align: right;\">\n",
       "      <th></th>\n",
       "      <th>user_id</th>\n",
       "      <th>item_id</th>\n",
       "      <th>datetime</th>\n",
       "      <th>total_dur</th>\n",
       "      <th>weight</th>\n",
       "    </tr>\n",
       "  </thead>\n",
       "  <tbody>\n",
       "    <tr>\n",
       "      <th>0</th>\n",
       "      <td>176549</td>\n",
       "      <td>9506</td>\n",
       "      <td>2021-05-11</td>\n",
       "      <td>4250</td>\n",
       "      <td>72.0</td>\n",
       "    </tr>\n",
       "    <tr>\n",
       "      <th>1</th>\n",
       "      <td>699317</td>\n",
       "      <td>1659</td>\n",
       "      <td>2021-05-29</td>\n",
       "      <td>8317</td>\n",
       "      <td>100.0</td>\n",
       "    </tr>\n",
       "    <tr>\n",
       "      <th>2</th>\n",
       "      <td>656683</td>\n",
       "      <td>7107</td>\n",
       "      <td>2021-05-09</td>\n",
       "      <td>10</td>\n",
       "      <td>0.0</td>\n",
       "    </tr>\n",
       "    <tr>\n",
       "      <th>3</th>\n",
       "      <td>864613</td>\n",
       "      <td>7638</td>\n",
       "      <td>2021-07-05</td>\n",
       "      <td>14483</td>\n",
       "      <td>100.0</td>\n",
       "    </tr>\n",
       "    <tr>\n",
       "      <th>4</th>\n",
       "      <td>964868</td>\n",
       "      <td>9506</td>\n",
       "      <td>2021-04-30</td>\n",
       "      <td>6725</td>\n",
       "      <td>100.0</td>\n",
       "    </tr>\n",
       "    <tr>\n",
       "      <th>...</th>\n",
       "      <td>...</td>\n",
       "      <td>...</td>\n",
       "      <td>...</td>\n",
       "      <td>...</td>\n",
       "      <td>...</td>\n",
       "    </tr>\n",
       "    <tr>\n",
       "      <th>5476242</th>\n",
       "      <td>268216</td>\n",
       "      <td>3071</td>\n",
       "      <td>2021-04-21</td>\n",
       "      <td>5752</td>\n",
       "      <td>98.0</td>\n",
       "    </tr>\n",
       "    <tr>\n",
       "      <th>5476243</th>\n",
       "      <td>497899</td>\n",
       "      <td>9629</td>\n",
       "      <td>2021-05-29</td>\n",
       "      <td>45</td>\n",
       "      <td>1.0</td>\n",
       "    </tr>\n",
       "    <tr>\n",
       "      <th>5476245</th>\n",
       "      <td>786732</td>\n",
       "      <td>4880</td>\n",
       "      <td>2021-05-12</td>\n",
       "      <td>753</td>\n",
       "      <td>0.0</td>\n",
       "    </tr>\n",
       "    <tr>\n",
       "      <th>5476247</th>\n",
       "      <td>546862</td>\n",
       "      <td>9673</td>\n",
       "      <td>2021-04-13</td>\n",
       "      <td>2308</td>\n",
       "      <td>49.0</td>\n",
       "    </tr>\n",
       "    <tr>\n",
       "      <th>5476249</th>\n",
       "      <td>384202</td>\n",
       "      <td>16197</td>\n",
       "      <td>2021-04-19</td>\n",
       "      <td>6203</td>\n",
       "      <td>100.0</td>\n",
       "    </tr>\n",
       "  </tbody>\n",
       "</table>\n",
       "<p>3740952 rows × 5 columns</p>\n",
       "</div>"
      ],
      "text/plain": [
       "         user_id  item_id   datetime  total_dur  weight\n",
       "0         176549     9506 2021-05-11       4250    72.0\n",
       "1         699317     1659 2021-05-29       8317   100.0\n",
       "2         656683     7107 2021-05-09         10     0.0\n",
       "3         864613     7638 2021-07-05      14483   100.0\n",
       "4         964868     9506 2021-04-30       6725   100.0\n",
       "...          ...      ...        ...        ...     ...\n",
       "5476242   268216     3071 2021-04-21       5752    98.0\n",
       "5476243   497899     9629 2021-05-29         45     1.0\n",
       "5476245   786732     4880 2021-05-12        753     0.0\n",
       "5476247   546862     9673 2021-04-13       2308    49.0\n",
       "5476249   384202    16197 2021-04-19       6203   100.0\n",
       "\n",
       "[3740952 rows x 5 columns]"
      ]
     },
     "execution_count": 5,
     "metadata": {},
     "output_type": "execute_result"
    }
   ],
   "source": [
    "train"
   ]
  },
  {
   "cell_type": "code",
   "execution_count": 6,
   "metadata": {},
   "outputs": [],
   "source": [
    "# Обучать ранжирование будем на последнем месяце (30 дней) не считая отложенной недели\n",
    "# Лучше зафиксировать временной диапазон если на проде планируется переобучать модель\n",
    "ranker_days_count = 30\n",
    "\n",
    "ranker_data = interactions[\n",
    "    (interactions[Columns.Datetime] >= max_date - pd.Timedelta(days=ranker_days_count))\n",
    "]\n",
    "\n",
    "# В дальнейшем ranker_data разбиваем по юзерам\n",
    "#  на train val test для обучения, валидации и тестирования ранкера\n",
    "train_size = 0.7\n",
    "val_size = 0.15\n",
    "test_size = 0.15\n",
    "\n",
    "# В train_test_split очень удобно можно сохранить исходное распределение по нужным факторам,\n",
    "#  задав параметр stratify. Правда мы на это пока забьем)\n",
    "\n",
    "train_val_users, test_users = train_test_split(\n",
    "    ranker_data['user_id'].unique(), random_state=42, test_size=test_size\n",
    ")\n",
    "\n",
    "train_users, val_users = train_test_split(\n",
    "    train_val_users, random_state=42, test_size=val_size / (train_size + val_size)  # 15% от общего размера\n",
    ")"
   ]
  },
  {
   "cell_type": "markdown",
   "metadata": {},
   "source": [
    "## Обучаем модель первого уровня"
   ]
  },
  {
   "cell_type": "markdown",
   "metadata": {},
   "source": [
    "### Обучаем LightFM"
   ]
  },
  {
   "cell_type": "code",
   "execution_count": 7,
   "metadata": {},
   "outputs": [],
   "source": [
    "lightfm_dataset = Dataset()\n",
    "lightfm_user_ids = train['user_id'].unique()\n",
    "lightfm_item_ids = train['item_id'].unique()\n",
    "lightfm_dataset.fit(lightfm_user_ids, lightfm_item_ids)"
   ]
  },
  {
   "cell_type": "code",
   "execution_count": 8,
   "metadata": {},
   "outputs": [],
   "source": [
    "# Тогда матрицу интеракций и весов можно получить следующим образом:\n",
    "interactions_matrix, weights_matrix = lightfm_dataset.build_interactions(\n",
    "    zip(*train[['user_id', 'item_id', Columns.Weight]].values.T)\n",
    ")\n",
    "weights_matrix = weights_matrix.tocsr()"
   ]
  },
  {
   "cell_type": "code",
   "execution_count": 9,
   "metadata": {},
   "outputs": [
    {
     "data": {
      "application/vnd.jupyter.widget-view+json": {
       "model_id": "6f7db1c09ba8422f97f31d6c90d5cdf1",
       "version_major": 2,
       "version_minor": 0
      },
      "text/plain": [
       "  0%|          | 0/20 [00:00<?, ?it/s]"
      ]
     },
     "metadata": {},
     "output_type": "display_data"
    }
   ],
   "source": [
    "# Обучаем модель\n",
    "# Не используем доступные фичи юзеров и айтемов, оставим это на этап реранжирования\n",
    "\n",
    "lfm_model = LightFM(\n",
    "    no_components=48,\n",
    "    learning_rate=0.0099,\n",
    "    loss='warp',\n",
    "    max_sampled=5,\n",
    "    random_state=42,\n",
    ")\n",
    "\n",
    "num_epochs = 20\n",
    "\n",
    "for _ in tqdm(range(num_epochs)):\n",
    "    lfm_model.fit_partial(weights_matrix)"
   ]
  },
  {
   "cell_type": "code",
   "execution_count": 10,
   "metadata": {},
   "outputs": [],
   "source": [
    "# save model\n",
    "with open(f'lightfm_model_.dill', 'wb') as f:\n",
    "    dill.dump(lfm_model, f)"
   ]
  },
  {
   "cell_type": "markdown",
   "metadata": {},
   "source": [
    "### Кандидаты LightFm"
   ]
  },
  {
   "cell_type": "code",
   "execution_count": 11,
   "metadata": {},
   "outputs": [],
   "source": [
    "# Маппинги обычных айдишников во внутренние индексы lightfm для юзеров и айтемов\n",
    "lightfm_mapping = lightfm_dataset.mapping()\n",
    "lightfm_mapping = {\n",
    "    'user_id_to_iid': lightfm_mapping[0],  # iid - internal lfm id\n",
    "    'item_id_to_iid': lightfm_mapping[2],\n",
    "}\n",
    "# Маппинги внутренние индексов lightfm в обычные айдишники для юзеров и айтемов\n",
    "lightfm_mapping['user_iid_to_id'] = {v: k for k, v in lightfm_mapping['user_id_to_iid'].items()}\n",
    "lightfm_mapping['item_iid_to_id'] = {v: k for k, v in lightfm_mapping['item_id_to_iid'].items()}"
   ]
  },
  {
   "cell_type": "code",
   "execution_count": 12,
   "metadata": {},
   "outputs": [],
   "source": [
    "# Топ 50 кандидатов\n",
    "top_N = 50\n",
    "\n",
    "# Внутренние индексы юзеров и айтемов lightfm (индексы матрицы user-item)\n",
    "user_lfm_index = np.array(list(lightfm_mapping['user_id_to_iid'].values()))\n",
    "item_lfm_index = np.array(list(lightfm_mapping['item_id_to_iid'].values()))\n",
    "\n",
    "# Делаем предикт, ограничиваем его сверху top_N\n",
    "# и сразу переводим в настоящие айдишники\n",
    "mapper = generate_lightfm_recs_mapper(\n",
    "    model=lfm_model,\n",
    "    N=top_N,\n",
    "    item_iids=item_lfm_index,\n",
    "    user_id_to_iid=lightfm_mapping['user_id_to_iid'],\n",
    "    item_iid_to_id=lightfm_mapping['item_iid_to_id'],\n",
    "    known_item_ids=dict(),  # тут можно добавить уже просмотренный контент для его исключения\n",
    "    num_threads=4,\n",
    ")"
   ]
  },
  {
   "cell_type": "code",
   "execution_count": 13,
   "metadata": {},
   "outputs": [],
   "source": [
    "# Генерируем предсказания и получаем скоры и ранги lightfm\n",
    "\n",
    "candidates = pd.DataFrame({'user_id': lightfm_user_ids})\n",
    "candidates['item_id'], candidates['lfm_score'] = zip(*candidates['user_id'].map(mapper))\n",
    "candidates = candidates.explode(['item_id', 'lfm_score'], ignore_index=True)\n",
    "candidates['lfm_rank'] = candidates.groupby('user_id').cumcount() + 1"
   ]
  },
  {
   "cell_type": "markdown",
   "metadata": {},
   "source": [
    "candidates= pd.read_csv('candidates.csv')"
   ]
  },
  {
   "cell_type": "markdown",
   "metadata": {},
   "source": [
    "### Обучаем популярную модель как в одной из прошлых дз"
   ]
  },
  {
   "cell_type": "markdown",
   "metadata": {},
   "source": [
    "Так как мы дополняем лайт фм, то будем использовать популярное для холодных юзеров"
   ]
  },
  {
   "cell_type": "code",
   "execution_count": 14,
   "metadata": {},
   "outputs": [
    {
     "data": {
      "text/plain": [
       "<rectools.models.popular.PopularModel at 0x22f67735670>"
      ]
     },
     "execution_count": 14,
     "metadata": {},
     "output_type": "execute_result"
    }
   ],
   "source": [
    "popular_dataset = rectools.dataset.Dataset.construct(train)\n",
    "popular_model = PopularModel()\n",
    "popular_model.fit(popular_dataset)"
   ]
  },
  {
   "cell_type": "code",
   "execution_count": 15,
   "metadata": {},
   "outputs": [
    {
     "data": {
      "text/html": [
       "<div>\n",
       "<style scoped>\n",
       "    .dataframe tbody tr th:only-of-type {\n",
       "        vertical-align: middle;\n",
       "    }\n",
       "\n",
       "    .dataframe tbody tr th {\n",
       "        vertical-align: top;\n",
       "    }\n",
       "\n",
       "    .dataframe thead th {\n",
       "        text-align: right;\n",
       "    }\n",
       "</style>\n",
       "<table border=\"1\" class=\"dataframe\">\n",
       "  <thead>\n",
       "    <tr style=\"text-align: right;\">\n",
       "      <th></th>\n",
       "      <th>item_id</th>\n",
       "      <th>popular_score</th>\n",
       "      <th>popular_rank</th>\n",
       "    </tr>\n",
       "  </thead>\n",
       "  <tbody>\n",
       "    <tr>\n",
       "      <th>0</th>\n",
       "      <td>10440</td>\n",
       "      <td>141889.0</td>\n",
       "      <td>1</td>\n",
       "    </tr>\n",
       "    <tr>\n",
       "      <th>1</th>\n",
       "      <td>15297</td>\n",
       "      <td>137128.0</td>\n",
       "      <td>2</td>\n",
       "    </tr>\n",
       "    <tr>\n",
       "      <th>2</th>\n",
       "      <td>13865</td>\n",
       "      <td>93403.0</td>\n",
       "      <td>3</td>\n",
       "    </tr>\n",
       "    <tr>\n",
       "      <th>3</th>\n",
       "      <td>4151</td>\n",
       "      <td>69641.0</td>\n",
       "      <td>4</td>\n",
       "    </tr>\n",
       "    <tr>\n",
       "      <th>4</th>\n",
       "      <td>2657</td>\n",
       "      <td>55146.0</td>\n",
       "      <td>5</td>\n",
       "    </tr>\n",
       "    <tr>\n",
       "      <th>...</th>\n",
       "      <td>...</td>\n",
       "      <td>...</td>\n",
       "      <td>...</td>\n",
       "    </tr>\n",
       "    <tr>\n",
       "      <th>14936</th>\n",
       "      <td>15235</td>\n",
       "      <td>1.0</td>\n",
       "      <td>14937</td>\n",
       "    </tr>\n",
       "    <tr>\n",
       "      <th>14937</th>\n",
       "      <td>87</td>\n",
       "      <td>1.0</td>\n",
       "      <td>14938</td>\n",
       "    </tr>\n",
       "    <tr>\n",
       "      <th>14938</th>\n",
       "      <td>7457</td>\n",
       "      <td>1.0</td>\n",
       "      <td>14939</td>\n",
       "    </tr>\n",
       "    <tr>\n",
       "      <th>14939</th>\n",
       "      <td>6270</td>\n",
       "      <td>1.0</td>\n",
       "      <td>14940</td>\n",
       "    </tr>\n",
       "    <tr>\n",
       "      <th>14940</th>\n",
       "      <td>6258</td>\n",
       "      <td>1.0</td>\n",
       "      <td>14941</td>\n",
       "    </tr>\n",
       "  </tbody>\n",
       "</table>\n",
       "<p>14941 rows × 3 columns</p>\n",
       "</div>"
      ],
      "text/plain": [
       "       item_id  popular_score  popular_rank\n",
       "0        10440       141889.0             1\n",
       "1        15297       137128.0             2\n",
       "2        13865        93403.0             3\n",
       "3         4151        69641.0             4\n",
       "4         2657        55146.0             5\n",
       "...        ...            ...           ...\n",
       "14936    15235            1.0         14937\n",
       "14937       87            1.0         14938\n",
       "14938     7457            1.0         14939\n",
       "14939     6270            1.0         14940\n",
       "14940     6258            1.0         14941\n",
       "\n",
       "[14941 rows x 3 columns]"
      ]
     },
     "execution_count": 15,
     "metadata": {},
     "output_type": "execute_result"
    }
   ],
   "source": [
    "k = items[Columns.Item].nunique()\n",
    "popular_recos = popular_model.recommend(\n",
    "    popular_dataset.user_id_map.external_ids[:1], popular_dataset, k, True\n",
    ")\n",
    "popular_recos.rename({\"rank\": \"popular_rank\", \"score\": \"popular_score\"}, axis=1, inplace=True)\n",
    "popular_recos.drop(Columns.User, axis=1, inplace=True)\n",
    "popular_recos"
   ]
  },
  {
   "cell_type": "markdown",
   "metadata": {},
   "source": [
    "## Результат моделей первого уровня"
   ]
  },
  {
   "cell_type": "code",
   "execution_count": 16,
   "metadata": {},
   "outputs": [],
   "source": [
    "recos_result = candidates.merge(popular_recos, how=\"left\", on=[Columns.Item])\n"
   ]
  },
  {
   "cell_type": "code",
   "execution_count": 17,
   "metadata": {},
   "outputs": [
    {
     "data": {
      "text/plain": [
       "{'Precision@10': 0.02438567679155219,\n",
       " 'recall@10': 0.0809703106614082,\n",
       " 'ndcg@10': 0.02903718748141727,\n",
       " 'map@10': 0.03701412518139648,\n",
       " 'novelty@10': 3.1777199914123955}"
      ]
     },
     "execution_count": 17,
     "metadata": {},
     "output_type": "execute_result"
    }
   ],
   "source": [
    "# Считаем метрики\n",
    "def calc_metrics_(candidates_df, rank_col: str) -> Dict[str, float]:\n",
    "    metrics = {\n",
    "        'ndcg@10': NDCG(k = 10),\n",
    "        'map@10': MAP(k = 10),\n",
    "        'Precision@10': Precision(k = 10),\n",
    "        'recall@10': Recall(k = 10),\n",
    "        'novelty@10': MeanInvUserFreq(k = 10),\n",
    "    }\n",
    "    return calc_metrics(\n",
    "        metrics=metrics,\n",
    "        reco=(\n",
    "            candidates_df\n",
    "            .rename(columns={rank_col: Columns.Rank})\n",
    "            [[Columns.User, Columns.Item, Columns.Rank]]\n",
    "            [candidates_df[Columns.User].isin(test_users)]\n",
    "        ),\n",
    "        interactions=(\n",
    "            ranker_data\n",
    "            [[Columns.User, Columns.Item, Columns.Datetime, Columns.Weight]]\n",
    "            [ranker_data[Columns.User].isin(test_users)]\n",
    "        ),\n",
    "        prev_interactions=(\n",
    "            train\n",
    "            [[Columns.User, Columns.Item, Columns.Datetime, Columns.Weight]]\n",
    "            [train[Columns.User].isin(test_users)]\n",
    "        ),\n",
    "        catalog=items['item_id'].unique()\n",
    "    )\n",
    "\n",
    "models_metrics: Dict[str, Dict[str, float]] = dict()\n",
    "models_metrics['lfm'] = calc_metrics_(candidates, 'lfm_rank')\n",
    "models_metrics['lfm']"
   ]
  },
  {
   "cell_type": "code",
   "execution_count": 18,
   "metadata": {},
   "outputs": [],
   "source": [
    "models_metrics['popular'] = calc_metrics_(recos_result, \"popular_rank\")"
   ]
  },
  {
   "cell_type": "code",
   "execution_count": 19,
   "metadata": {},
   "outputs": [
    {
     "data": {
      "text/html": [
       "<div>\n",
       "<style scoped>\n",
       "    .dataframe tbody tr th:only-of-type {\n",
       "        vertical-align: middle;\n",
       "    }\n",
       "\n",
       "    .dataframe tbody tr th {\n",
       "        vertical-align: top;\n",
       "    }\n",
       "\n",
       "    .dataframe thead th {\n",
       "        text-align: right;\n",
       "    }\n",
       "</style>\n",
       "<table border=\"1\" class=\"dataframe\">\n",
       "  <thead>\n",
       "    <tr style=\"text-align: right;\">\n",
       "      <th></th>\n",
       "      <th>lfm</th>\n",
       "      <th>popular</th>\n",
       "    </tr>\n",
       "  </thead>\n",
       "  <tbody>\n",
       "    <tr>\n",
       "      <th>Precision@10</th>\n",
       "      <td>0.024386</td>\n",
       "      <td>0.019285</td>\n",
       "    </tr>\n",
       "    <tr>\n",
       "      <th>recall@10</th>\n",
       "      <td>0.080970</td>\n",
       "      <td>0.065335</td>\n",
       "    </tr>\n",
       "    <tr>\n",
       "      <th>ndcg@10</th>\n",
       "      <td>0.029037</td>\n",
       "      <td>0.023902</td>\n",
       "    </tr>\n",
       "    <tr>\n",
       "      <th>map@10</th>\n",
       "      <td>0.037014</td>\n",
       "      <td>0.031254</td>\n",
       "    </tr>\n",
       "    <tr>\n",
       "      <th>novelty@10</th>\n",
       "      <td>3.177720</td>\n",
       "      <td>3.025827</td>\n",
       "    </tr>\n",
       "  </tbody>\n",
       "</table>\n",
       "</div>"
      ],
      "text/plain": [
       "                   lfm   popular\n",
       "Precision@10  0.024386  0.019285\n",
       "recall@10     0.080970  0.065335\n",
       "ndcg@10       0.029037  0.023902\n",
       "map@10        0.037014  0.031254\n",
       "novelty@10    3.177720  3.025827"
      ]
     },
     "execution_count": 19,
     "metadata": {},
     "output_type": "execute_result"
    }
   ],
   "source": [
    "pd.DataFrame(models_metrics)[[\"lfm\", \"popular\"]]"
   ]
  },
  {
   "cell_type": "code",
   "execution_count": 20,
   "metadata": {},
   "outputs": [],
   "source": [
    "# Делаем чекпоинт - сохраняем кандидатов\n",
    "recos_result.to_csv('candidates_ranker.csv', index=False)\n"
   ]
  },
  {
   "cell_type": "code",
   "execution_count": 21,
   "metadata": {},
   "outputs": [
    {
     "data": {
      "text/html": [
       "<div>\n",
       "<style scoped>\n",
       "    .dataframe tbody tr th:only-of-type {\n",
       "        vertical-align: middle;\n",
       "    }\n",
       "\n",
       "    .dataframe tbody tr th {\n",
       "        vertical-align: top;\n",
       "    }\n",
       "\n",
       "    .dataframe thead th {\n",
       "        text-align: right;\n",
       "    }\n",
       "</style>\n",
       "<table border=\"1\" class=\"dataframe\">\n",
       "  <thead>\n",
       "    <tr style=\"text-align: right;\">\n",
       "      <th></th>\n",
       "      <th>user_id</th>\n",
       "      <th>item_id</th>\n",
       "      <th>lfm_score</th>\n",
       "      <th>lfm_rank</th>\n",
       "      <th>popular_score</th>\n",
       "      <th>popular_rank</th>\n",
       "    </tr>\n",
       "  </thead>\n",
       "  <tbody>\n",
       "    <tr>\n",
       "      <th>0</th>\n",
       "      <td>176549</td>\n",
       "      <td>9728</td>\n",
       "      <td>4.125431</td>\n",
       "      <td>1</td>\n",
       "      <td>NaN</td>\n",
       "      <td>NaN</td>\n",
       "    </tr>\n",
       "    <tr>\n",
       "      <th>1</th>\n",
       "      <td>176549</td>\n",
       "      <td>12173</td>\n",
       "      <td>4.028789</td>\n",
       "      <td>2</td>\n",
       "      <td>10182.0</td>\n",
       "      <td>28.0</td>\n",
       "    </tr>\n",
       "    <tr>\n",
       "      <th>2</th>\n",
       "      <td>176549</td>\n",
       "      <td>13865</td>\n",
       "      <td>4.011769</td>\n",
       "      <td>3</td>\n",
       "      <td>93403.0</td>\n",
       "      <td>3.0</td>\n",
       "    </tr>\n",
       "    <tr>\n",
       "      <th>3</th>\n",
       "      <td>176549</td>\n",
       "      <td>7626</td>\n",
       "      <td>4.011071</td>\n",
       "      <td>4</td>\n",
       "      <td>NaN</td>\n",
       "      <td>NaN</td>\n",
       "    </tr>\n",
       "    <tr>\n",
       "      <th>4</th>\n",
       "      <td>176549</td>\n",
       "      <td>13018</td>\n",
       "      <td>3.934987</td>\n",
       "      <td>5</td>\n",
       "      <td>NaN</td>\n",
       "      <td>NaN</td>\n",
       "    </tr>\n",
       "    <tr>\n",
       "      <th>...</th>\n",
       "      <td>...</td>\n",
       "      <td>...</td>\n",
       "      <td>...</td>\n",
       "      <td>...</td>\n",
       "      <td>...</td>\n",
       "      <td>...</td>\n",
       "    </tr>\n",
       "    <tr>\n",
       "      <th>36043745</th>\n",
       "      <td>805174</td>\n",
       "      <td>12463</td>\n",
       "      <td>1.480902</td>\n",
       "      <td>46</td>\n",
       "      <td>7447.0</td>\n",
       "      <td>41.0</td>\n",
       "    </tr>\n",
       "    <tr>\n",
       "      <th>36043746</th>\n",
       "      <td>805174</td>\n",
       "      <td>7829</td>\n",
       "      <td>1.463453</td>\n",
       "      <td>47</td>\n",
       "      <td>6028.0</td>\n",
       "      <td>58.0</td>\n",
       "    </tr>\n",
       "    <tr>\n",
       "      <th>36043747</th>\n",
       "      <td>805174</td>\n",
       "      <td>6402</td>\n",
       "      <td>1.461368</td>\n",
       "      <td>48</td>\n",
       "      <td>7761.0</td>\n",
       "      <td>40.0</td>\n",
       "    </tr>\n",
       "    <tr>\n",
       "      <th>36043748</th>\n",
       "      <td>805174</td>\n",
       "      <td>12501</td>\n",
       "      <td>1.45889</td>\n",
       "      <td>49</td>\n",
       "      <td>7387.0</td>\n",
       "      <td>45.0</td>\n",
       "    </tr>\n",
       "    <tr>\n",
       "      <th>36043749</th>\n",
       "      <td>805174</td>\n",
       "      <td>12981</td>\n",
       "      <td>1.454041</td>\n",
       "      <td>50</td>\n",
       "      <td>9306.0</td>\n",
       "      <td>32.0</td>\n",
       "    </tr>\n",
       "  </tbody>\n",
       "</table>\n",
       "<p>36043750 rows × 6 columns</p>\n",
       "</div>"
      ],
      "text/plain": [
       "          user_id item_id lfm_score  lfm_rank  popular_score  popular_rank\n",
       "0          176549    9728  4.125431         1            NaN           NaN\n",
       "1          176549   12173  4.028789         2        10182.0          28.0\n",
       "2          176549   13865  4.011769         3        93403.0           3.0\n",
       "3          176549    7626  4.011071         4            NaN           NaN\n",
       "4          176549   13018  3.934987         5            NaN           NaN\n",
       "...           ...     ...       ...       ...            ...           ...\n",
       "36043745   805174   12463  1.480902        46         7447.0          41.0\n",
       "36043746   805174    7829  1.463453        47         6028.0          58.0\n",
       "36043747   805174    6402  1.461368        48         7761.0          40.0\n",
       "36043748   805174   12501   1.45889        49         7387.0          45.0\n",
       "36043749   805174   12981  1.454041        50         9306.0          32.0\n",
       "\n",
       "[36043750 rows x 6 columns]"
      ]
     },
     "execution_count": 21,
     "metadata": {},
     "output_type": "execute_result"
    }
   ],
   "source": [
    "recos_result"
   ]
  },
  {
   "cell_type": "code",
   "execution_count": null,
   "metadata": {},
   "outputs": [],
   "source": []
  }
 ],
 "metadata": {
  "kernelspec": {
   "display_name": "Python 3 (ipykernel)",
   "language": "python",
   "name": "python3"
  },
  "language_info": {
   "codemirror_mode": {
    "name": "ipython",
    "version": 3
   },
   "file_extension": ".py",
   "mimetype": "text/x-python",
   "name": "python",
   "nbconvert_exporter": "python",
   "pygments_lexer": "ipython3",
   "version": "3.9.18"
  },
  "toc-autonumbering": false,
  "toc-showmarkdowntxt": true,
  "vscode": {
   "interpreter": {
    "hash": "e1f50835d4d846301c2a6cf272c7592be0337e07912c3141799623767e50deba"
   }
  }
 },
 "nbformat": 4,
 "nbformat_minor": 4
}
