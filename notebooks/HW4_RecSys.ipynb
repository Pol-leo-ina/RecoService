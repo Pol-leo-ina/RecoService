{
 "cells": [
  {
   "cell_type": "markdown",
   "id": "ef95d2d2-9030-479c-9618-4dce121be61b",
   "metadata": {},
   "source": [
    "## Домашнее задание \n",
    "#### 1. Побейте метрику на лидерборде map@10 = 0.075 c моделью из implicit, lightfm или rectools, в том числе используя ANN **(5 баллов)**\n",
    "#### 2. Реализуйте эксперименты с кастомной моделю kNN с семинара. Результат - ноутбук(и) **(максимум 12 баллов)**\n",
    "Что можно сделать в ноутбуке:\n",
    "- Реализовать тюнинг гиперпараметров для моделей из implicit, lightfm или rectools **(3 балла)**\n",
    "  - Для перебора гиперпараметров можно использовать [`Optuna`](https://github.com/optuna/optuna), [`Hyperopt`](https://github.com/hyperopt/hyperopt)\n",
    "- Воспользоваться методом приближенного поиска соседей для выдачи рекомендаций. **(3 балла)**\n",
    "    - Можно использовать любые удобные: [`Annoy`](https://github.com/spotify/annoy), [`nmslib`](https://github.com/nmslib/nmslib) и.т.д\n",
    "- Сделать рекомендации для холодных пользователей используя их фичи (для кого нет фичей - там другим способом) **(3 балла)**\n",
    "\n",
    "  ------------------------------------"
   ]
  },
  {
   "cell_type": "code",
   "execution_count": 1,
   "id": "a9f5afa7-e9c1-4c96-a3c6-4fa8b930fbd7",
   "metadata": {},
   "outputs": [],
   "source": [
    "import os\n",
    "os.environ[\"OPENBLAS_NUM_THREADS\"] = \"1\"  # For implicit ALS"
   ]
  },
  {
   "cell_type": "code",
   "execution_count": 2,
   "id": "582af06c-3e46-4ce6-97fa-dab59eb5616a",
   "metadata": {},
   "outputs": [],
   "source": [
    "import warnings\n",
    "warnings.filterwarnings('ignore')"
   ]
  },
  {
   "cell_type": "code",
   "execution_count": 3,
   "id": "e332a4a1-f158-47c7-b72f-8be3832f259f",
   "metadata": {},
   "outputs": [],
   "source": [
    "!pip install optuna -q"
   ]
  },
  {
   "cell_type": "code",
   "execution_count": 84,
   "id": "61b8ae5a-172c-4f37-9453-c48379cc4de6",
   "metadata": {},
   "outputs": [],
   "source": [
    "!pip install dill -q"
   ]
  },
  {
   "cell_type": "code",
   "execution_count": 85,
   "id": "2b3e1c20-ee0b-4358-bf90-6e426016ec77",
   "metadata": {},
   "outputs": [],
   "source": [
    "import pandas as pd\n",
    "import numpy as np\n",
    "\n",
    "from implicit.als import AlternatingLeastSquares\n",
    "\n",
    "from rectools.metrics import Precision, Recall, MAP, MRR,  MeanInvUserFreq, Serendipity, calc_metrics\n",
    "from rectools.models import PopularModel, RandomModel, ImplicitALSWrapperModel\n",
    "from rectools import Columns\n",
    "from rectools.dataset import Dataset\n",
    "from rectools.models import ImplicitALSWrapperModel, LightFMWrapperModel\n",
    "\n",
    "import matplotlib.pyplot as plt\n",
    "import seaborn as sns\n",
    "import optuna\n",
    "\n",
    "import matplotlib.pyplot as plt\n",
    "import dill\n",
    "import pickle\n",
    "from pathlib import Path\n",
    "import typing as tp\n",
    "from tqdm import tqdm\n",
    "\n",
    "from lightfm import LightFM\n",
    "\n",
    "from implicit.bpr import BayesianPersonalizedRanking\n",
    "\n",
    "from implicit.lmf import LogisticMatrixFactorization"
   ]
  },
  {
   "cell_type": "code",
   "execution_count": 83,
   "id": "30f83ffe-218d-4a0d-aebe-5ebb8f23aaa0",
   "metadata": {},
   "outputs": [],
   "source": [
    "DATA_PATH = Path(\"data_original\")"
   ]
  },
  {
   "cell_type": "markdown",
   "id": "bdb311c3-696a-43c7-8e92-7010fdf0de95",
   "metadata": {},
   "source": [
    "# Load Data"
   ]
  },
  {
   "cell_type": "code",
   "execution_count": 122,
   "id": "95c699d3-cb43-4621-b190-5d018d489673",
   "metadata": {},
   "outputs": [
    {
     "name": "stdout",
     "output_type": "stream",
     "text": [
      "CPU times: total: 1.94 s\n",
      "Wall time: 3.6 s\n"
     ]
    }
   ],
   "source": [
    "%%time\n",
    "users = pd.read_csv(DATA_PATH / 'users.csv')\n",
    "items = pd.read_csv(DATA_PATH / 'items.csv')\n",
    "interactions = pd.read_csv(DATA_PATH / 'interactions.csv')"
   ]
  },
  {
   "cell_type": "code",
   "execution_count": 123,
   "id": "4bde3b30-b4cd-4e55-8efb-773ae2f1b036",
   "metadata": {},
   "outputs": [],
   "source": [
    "Columns.Datetime = 'last_watch_dt'\n",
    "interactions.drop(interactions[interactions[Columns.Datetime].str.len() != 10].index, inplace=True)\n",
    "interactions[Columns.Datetime] = pd.to_datetime(interactions[Columns.Datetime], format='%Y-%m-%d')\n",
    "max_date = interactions[Columns.Datetime].max()"
   ]
  },
  {
   "cell_type": "code",
   "execution_count": 124,
   "id": "b0d0699a-7738-4c59-b958-b338c80311b4",
   "metadata": {},
   "outputs": [],
   "source": [
    "interactions[Columns.Weight] = np.where(interactions['watched_pct'] > 10, 3, 1)"
   ]
  },
  {
   "cell_type": "code",
   "execution_count": 125,
   "id": "c755cce2-c4ca-4d4e-a5fc-2e6128609e77",
   "metadata": {},
   "outputs": [
    {
     "name": "stdout",
     "output_type": "stream",
     "text": [
      "train: (4985269, 6)\n",
      "test: (490982, 6)\n"
     ]
    }
   ],
   "source": [
    "train = interactions[interactions[Columns.Datetime] < max_date - pd.Timedelta(days=7)].copy()\n",
    "test = interactions[interactions[Columns.Datetime] >= max_date - pd.Timedelta(days=7)].copy()\n",
    "\n",
    "print(f\"train: {train.shape}\")\n",
    "print(f\"test: {test.shape}\")"
   ]
  },
  {
   "cell_type": "code",
   "execution_count": 126,
   "id": "effddf94-5c67-4a29-8314-ebfcc69db466",
   "metadata": {},
   "outputs": [],
   "source": [
    "# фильтруем тех кто посмотрел меньше 300 секунд\n",
    "train.drop(train.query(\"total_dur < 300\").index, inplace=True)"
   ]
  },
  {
   "cell_type": "code",
   "execution_count": 127,
   "id": "eec25856-c61d-41aa-8562-5d011b244b97",
   "metadata": {},
   "outputs": [],
   "source": [
    "# фильтруем холодных пользователей из теста\n",
    "cold_users = set(test[Columns.User]) - set(train[Columns.User])"
   ]
  },
  {
   "cell_type": "code",
   "execution_count": 130,
   "id": "deec4c47-c34d-4c33-a4da-5ffc2646faef",
   "metadata": {},
   "outputs": [],
   "source": [
    "test.drop(test[test[Columns.User].isin(cold_users)].index, inplace=True)"
   ]
  },
  {
   "cell_type": "markdown",
   "id": "a33ded5b-8921-44cc-adb2-c7c8959bee09",
   "metadata": {},
   "source": [
    "# Features"
   ]
  },
  {
   "cell_type": "code",
   "execution_count": 131,
   "id": "02923510-9372-499a-8b62-912db1f55b11",
   "metadata": {},
   "outputs": [
    {
     "data": {
      "text/plain": [
       "user_id         0\n",
       "age         14095\n",
       "income      14776\n",
       "sex         13831\n",
       "kids_flg        0\n",
       "dtype: int64"
      ]
     },
     "execution_count": 131,
     "metadata": {},
     "output_type": "execute_result"
    }
   ],
   "source": [
    "users.isnull().sum()"
   ]
  },
  {
   "cell_type": "code",
   "execution_count": 132,
   "id": "78b91d61-fe08-446e-89c8-b6a41d9b6796",
   "metadata": {},
   "outputs": [],
   "source": [
    "users.fillna('Unknown', inplace=True)"
   ]
  },
  {
   "cell_type": "code",
   "execution_count": 133,
   "id": "fa428662-59d1-4087-b6c3-50cb7a888551",
   "metadata": {},
   "outputs": [
    {
     "data": {
      "text/plain": [
       "user_id     840197\n",
       "age              7\n",
       "income           7\n",
       "sex              3\n",
       "kids_flg         2\n",
       "dtype: int64"
      ]
     },
     "execution_count": 133,
     "metadata": {},
     "output_type": "execute_result"
    }
   ],
   "source": [
    "users.nunique()"
   ]
  },
  {
   "cell_type": "code",
   "execution_count": 134,
   "id": "033ca398-756e-4dd2-8c4a-7b72605543e0",
   "metadata": {},
   "outputs": [
    {
     "data": {
      "text/html": [
       "<div>\n",
       "<style scoped>\n",
       "    .dataframe tbody tr th:only-of-type {\n",
       "        vertical-align: middle;\n",
       "    }\n",
       "\n",
       "    .dataframe tbody tr th {\n",
       "        vertical-align: top;\n",
       "    }\n",
       "\n",
       "    .dataframe thead th {\n",
       "        text-align: right;\n",
       "    }\n",
       "</style>\n",
       "<table border=\"1\" class=\"dataframe\">\n",
       "  <thead>\n",
       "    <tr style=\"text-align: right;\">\n",
       "      <th></th>\n",
       "      <th>user_id</th>\n",
       "      <th>age</th>\n",
       "      <th>income</th>\n",
       "      <th>sex</th>\n",
       "      <th>kids_flg</th>\n",
       "    </tr>\n",
       "  </thead>\n",
       "  <tbody>\n",
       "    <tr>\n",
       "      <th>0</th>\n",
       "      <td>973171</td>\n",
       "      <td>age_25_34</td>\n",
       "      <td>income_60_90</td>\n",
       "      <td>М</td>\n",
       "      <td>1</td>\n",
       "    </tr>\n",
       "    <tr>\n",
       "      <th>1</th>\n",
       "      <td>962099</td>\n",
       "      <td>age_18_24</td>\n",
       "      <td>income_20_40</td>\n",
       "      <td>М</td>\n",
       "      <td>0</td>\n",
       "    </tr>\n",
       "    <tr>\n",
       "      <th>3</th>\n",
       "      <td>721985</td>\n",
       "      <td>age_45_54</td>\n",
       "      <td>income_20_40</td>\n",
       "      <td>Ж</td>\n",
       "      <td>0</td>\n",
       "    </tr>\n",
       "    <tr>\n",
       "      <th>4</th>\n",
       "      <td>704055</td>\n",
       "      <td>age_35_44</td>\n",
       "      <td>income_60_90</td>\n",
       "      <td>Ж</td>\n",
       "      <td>0</td>\n",
       "    </tr>\n",
       "    <tr>\n",
       "      <th>5</th>\n",
       "      <td>1037719</td>\n",
       "      <td>age_45_54</td>\n",
       "      <td>income_60_90</td>\n",
       "      <td>М</td>\n",
       "      <td>0</td>\n",
       "    </tr>\n",
       "    <tr>\n",
       "      <th>...</th>\n",
       "      <td>...</td>\n",
       "      <td>...</td>\n",
       "      <td>...</td>\n",
       "      <td>...</td>\n",
       "      <td>...</td>\n",
       "    </tr>\n",
       "    <tr>\n",
       "      <th>840184</th>\n",
       "      <td>529394</td>\n",
       "      <td>age_25_34</td>\n",
       "      <td>income_40_60</td>\n",
       "      <td>Ж</td>\n",
       "      <td>0</td>\n",
       "    </tr>\n",
       "    <tr>\n",
       "      <th>840186</th>\n",
       "      <td>80113</td>\n",
       "      <td>age_25_34</td>\n",
       "      <td>income_40_60</td>\n",
       "      <td>Ж</td>\n",
       "      <td>0</td>\n",
       "    </tr>\n",
       "    <tr>\n",
       "      <th>840188</th>\n",
       "      <td>312839</td>\n",
       "      <td>age_65_inf</td>\n",
       "      <td>income_60_90</td>\n",
       "      <td>Ж</td>\n",
       "      <td>0</td>\n",
       "    </tr>\n",
       "    <tr>\n",
       "      <th>840189</th>\n",
       "      <td>191349</td>\n",
       "      <td>age_45_54</td>\n",
       "      <td>income_40_60</td>\n",
       "      <td>М</td>\n",
       "      <td>1</td>\n",
       "    </tr>\n",
       "    <tr>\n",
       "      <th>840190</th>\n",
       "      <td>393868</td>\n",
       "      <td>age_25_34</td>\n",
       "      <td>income_20_40</td>\n",
       "      <td>М</td>\n",
       "      <td>0</td>\n",
       "    </tr>\n",
       "  </tbody>\n",
       "</table>\n",
       "<p>586668 rows × 5 columns</p>\n",
       "</div>"
      ],
      "text/plain": [
       "        user_id         age        income sex  kids_flg\n",
       "0        973171   age_25_34  income_60_90   М         1\n",
       "1        962099   age_18_24  income_20_40   М         0\n",
       "3        721985   age_45_54  income_20_40   Ж         0\n",
       "4        704055   age_35_44  income_60_90   Ж         0\n",
       "5       1037719   age_45_54  income_60_90   М         0\n",
       "...         ...         ...           ...  ..       ...\n",
       "840184   529394   age_25_34  income_40_60   Ж         0\n",
       "840186    80113   age_25_34  income_40_60   Ж         0\n",
       "840188   312839  age_65_inf  income_60_90   Ж         0\n",
       "840189   191349   age_45_54  income_40_60   М         1\n",
       "840190   393868   age_25_34  income_20_40   М         0\n",
       "\n",
       "[586668 rows x 5 columns]"
      ]
     },
     "execution_count": 134,
     "metadata": {},
     "output_type": "execute_result"
    }
   ],
   "source": [
    "users = users.loc[users[Columns.User].isin(train[Columns.User])].copy()\n",
    "users"
   ]
  },
  {
   "cell_type": "code",
   "execution_count": 135,
   "id": "bb3765a3-acd7-4b34-b146-de901c970f4e",
   "metadata": {},
   "outputs": [
    {
     "data": {
      "text/html": [
       "<div>\n",
       "<style scoped>\n",
       "    .dataframe tbody tr th:only-of-type {\n",
       "        vertical-align: middle;\n",
       "    }\n",
       "\n",
       "    .dataframe tbody tr th {\n",
       "        vertical-align: top;\n",
       "    }\n",
       "\n",
       "    .dataframe thead th {\n",
       "        text-align: right;\n",
       "    }\n",
       "</style>\n",
       "<table border=\"1\" class=\"dataframe\">\n",
       "  <thead>\n",
       "    <tr style=\"text-align: right;\">\n",
       "      <th></th>\n",
       "      <th>id</th>\n",
       "      <th>value</th>\n",
       "      <th>feature</th>\n",
       "    </tr>\n",
       "  </thead>\n",
       "  <tbody>\n",
       "    <tr>\n",
       "      <th>0</th>\n",
       "      <td>973171</td>\n",
       "      <td>М</td>\n",
       "      <td>sex</td>\n",
       "    </tr>\n",
       "    <tr>\n",
       "      <th>1</th>\n",
       "      <td>962099</td>\n",
       "      <td>М</td>\n",
       "      <td>sex</td>\n",
       "    </tr>\n",
       "    <tr>\n",
       "      <th>3</th>\n",
       "      <td>721985</td>\n",
       "      <td>Ж</td>\n",
       "      <td>sex</td>\n",
       "    </tr>\n",
       "    <tr>\n",
       "      <th>4</th>\n",
       "      <td>704055</td>\n",
       "      <td>Ж</td>\n",
       "      <td>sex</td>\n",
       "    </tr>\n",
       "    <tr>\n",
       "      <th>5</th>\n",
       "      <td>1037719</td>\n",
       "      <td>М</td>\n",
       "      <td>sex</td>\n",
       "    </tr>\n",
       "  </tbody>\n",
       "</table>\n",
       "</div>"
      ],
      "text/plain": [
       "        id value feature\n",
       "0   973171     М     sex\n",
       "1   962099     М     sex\n",
       "3   721985     Ж     sex\n",
       "4   704055     Ж     sex\n",
       "5  1037719     М     sex"
      ]
     },
     "execution_count": 135,
     "metadata": {},
     "output_type": "execute_result"
    }
   ],
   "source": [
    "user_features_frames = []\n",
    "for feature in [\"sex\", \"age\", \"income\"]:\n",
    "    feature_frame = users.reindex(columns=[Columns.User, feature])\n",
    "    feature_frame.columns = [\"id\", \"value\"]\n",
    "    feature_frame[\"feature\"] = feature\n",
    "    user_features_frames.append(feature_frame)\n",
    "user_features = pd.concat(user_features_frames)\n",
    "user_features.head()"
   ]
  },
  {
   "cell_type": "markdown",
   "id": "2cc8aacf-b004-4d5f-b542-3d51f785cbf7",
   "metadata": {},
   "source": [
    "## Items"
   ]
  },
  {
   "cell_type": "code",
   "execution_count": 136,
   "id": "0d71d345-7536-4dfe-bf2c-68b9502895c1",
   "metadata": {},
   "outputs": [
    {
     "data": {
      "text/plain": [
       "item_id             0\n",
       "content_type        0\n",
       "title               0\n",
       "title_orig       4745\n",
       "release_year       98\n",
       "genres              0\n",
       "countries          37\n",
       "for_kids        15397\n",
       "age_rating          2\n",
       "studios         14898\n",
       "directors        1509\n",
       "actors           2619\n",
       "description         2\n",
       "keywords          423\n",
       "dtype: int64"
      ]
     },
     "execution_count": 136,
     "metadata": {},
     "output_type": "execute_result"
    }
   ],
   "source": [
    "items.isnull().sum()"
   ]
  },
  {
   "cell_type": "code",
   "execution_count": 137,
   "id": "dd0816ac-2252-4fa0-a511-23ce4844bfab",
   "metadata": {},
   "outputs": [
    {
     "data": {
      "text/html": [
       "<div>\n",
       "<style scoped>\n",
       "    .dataframe tbody tr th:only-of-type {\n",
       "        vertical-align: middle;\n",
       "    }\n",
       "\n",
       "    .dataframe tbody tr th {\n",
       "        vertical-align: top;\n",
       "    }\n",
       "\n",
       "    .dataframe thead th {\n",
       "        text-align: right;\n",
       "    }\n",
       "</style>\n",
       "<table border=\"1\" class=\"dataframe\">\n",
       "  <thead>\n",
       "    <tr style=\"text-align: right;\">\n",
       "      <th></th>\n",
       "      <th>item_id</th>\n",
       "      <th>content_type</th>\n",
       "      <th>title</th>\n",
       "      <th>title_orig</th>\n",
       "      <th>release_year</th>\n",
       "      <th>genres</th>\n",
       "      <th>countries</th>\n",
       "      <th>for_kids</th>\n",
       "      <th>age_rating</th>\n",
       "      <th>studios</th>\n",
       "      <th>directors</th>\n",
       "      <th>actors</th>\n",
       "      <th>description</th>\n",
       "      <th>keywords</th>\n",
       "    </tr>\n",
       "  </thead>\n",
       "  <tbody>\n",
       "    <tr>\n",
       "      <th>0</th>\n",
       "      <td>10711</td>\n",
       "      <td>film</td>\n",
       "      <td>Поговори с ней</td>\n",
       "      <td>Hable con ella</td>\n",
       "      <td>2002.0</td>\n",
       "      <td>драмы, зарубежные, детективы, мелодрамы</td>\n",
       "      <td>Испания</td>\n",
       "      <td>NaN</td>\n",
       "      <td>16.0</td>\n",
       "      <td>NaN</td>\n",
       "      <td>Педро Альмодовар</td>\n",
       "      <td>Адольфо Фернандес, Ана Фернандес, Дарио Гранди...</td>\n",
       "      <td>Мелодрама легендарного Педро Альмодовара «Пого...</td>\n",
       "      <td>Поговори, ней, 2002, Испания, друзья, любовь, ...</td>\n",
       "    </tr>\n",
       "    <tr>\n",
       "      <th>1</th>\n",
       "      <td>2508</td>\n",
       "      <td>film</td>\n",
       "      <td>Голые перцы</td>\n",
       "      <td>Search Party</td>\n",
       "      <td>2014.0</td>\n",
       "      <td>зарубежные, приключения, комедии</td>\n",
       "      <td>США</td>\n",
       "      <td>NaN</td>\n",
       "      <td>16.0</td>\n",
       "      <td>NaN</td>\n",
       "      <td>Скот Армстронг</td>\n",
       "      <td>Адам Палли, Брайан Хаски, Дж.Б. Смув, Джейсон ...</td>\n",
       "      <td>Уморительная современная комедия на популярную...</td>\n",
       "      <td>Голые, перцы, 2014, США, друзья, свадьбы, прео...</td>\n",
       "    </tr>\n",
       "    <tr>\n",
       "      <th>2</th>\n",
       "      <td>10716</td>\n",
       "      <td>film</td>\n",
       "      <td>Тактическая сила</td>\n",
       "      <td>Tactical Force</td>\n",
       "      <td>2011.0</td>\n",
       "      <td>криминал, зарубежные, триллеры, боевики, комедии</td>\n",
       "      <td>Канада</td>\n",
       "      <td>NaN</td>\n",
       "      <td>16.0</td>\n",
       "      <td>NaN</td>\n",
       "      <td>Адам П. Калтраро</td>\n",
       "      <td>Адриан Холмс, Даррен Шалави, Джерри Вассерман,...</td>\n",
       "      <td>Профессиональный рестлер Стив Остин («Все или ...</td>\n",
       "      <td>Тактическая, сила, 2011, Канада, бандиты, ганг...</td>\n",
       "    </tr>\n",
       "    <tr>\n",
       "      <th>3</th>\n",
       "      <td>7868</td>\n",
       "      <td>film</td>\n",
       "      <td>45 лет</td>\n",
       "      <td>45 Years</td>\n",
       "      <td>2015.0</td>\n",
       "      <td>драмы, зарубежные, мелодрамы</td>\n",
       "      <td>Великобритания</td>\n",
       "      <td>NaN</td>\n",
       "      <td>16.0</td>\n",
       "      <td>NaN</td>\n",
       "      <td>Эндрю Хэй</td>\n",
       "      <td>Александра Риддлстон-Барретт, Джеральдин Джейм...</td>\n",
       "      <td>Шарлотта Рэмплинг, Том Кортни, Джеральдин Джей...</td>\n",
       "      <td>45, лет, 2015, Великобритания, брак, жизнь, лю...</td>\n",
       "    </tr>\n",
       "    <tr>\n",
       "      <th>4</th>\n",
       "      <td>16268</td>\n",
       "      <td>film</td>\n",
       "      <td>Все решает мгновение</td>\n",
       "      <td>NaN</td>\n",
       "      <td>1978.0</td>\n",
       "      <td>драмы, спорт, советские, мелодрамы</td>\n",
       "      <td>СССР</td>\n",
       "      <td>NaN</td>\n",
       "      <td>12.0</td>\n",
       "      <td>Ленфильм</td>\n",
       "      <td>Виктор Садовский</td>\n",
       "      <td>Александр Абдулов, Александр Демьяненко, Алекс...</td>\n",
       "      <td>Расчетливая чаровница из советского кинохита «...</td>\n",
       "      <td>Все, решает, мгновение, 1978, СССР, сильные, ж...</td>\n",
       "    </tr>\n",
       "  </tbody>\n",
       "</table>\n",
       "</div>"
      ],
      "text/plain": [
       "   item_id content_type                 title      title_orig  release_year  \\\n",
       "0    10711         film        Поговори с ней  Hable con ella        2002.0   \n",
       "1     2508         film           Голые перцы    Search Party        2014.0   \n",
       "2    10716         film      Тактическая сила  Tactical Force        2011.0   \n",
       "3     7868         film                45 лет        45 Years        2015.0   \n",
       "4    16268         film  Все решает мгновение             NaN        1978.0   \n",
       "\n",
       "                                             genres       countries  for_kids  \\\n",
       "0           драмы, зарубежные, детективы, мелодрамы         Испания       NaN   \n",
       "1                  зарубежные, приключения, комедии             США       NaN   \n",
       "2  криминал, зарубежные, триллеры, боевики, комедии          Канада       NaN   \n",
       "3                      драмы, зарубежные, мелодрамы  Великобритания       NaN   \n",
       "4                драмы, спорт, советские, мелодрамы            СССР       NaN   \n",
       "\n",
       "   age_rating   studios         directors  \\\n",
       "0        16.0       NaN  Педро Альмодовар   \n",
       "1        16.0       NaN    Скот Армстронг   \n",
       "2        16.0       NaN  Адам П. Калтраро   \n",
       "3        16.0       NaN         Эндрю Хэй   \n",
       "4        12.0  Ленфильм  Виктор Садовский   \n",
       "\n",
       "                                              actors  \\\n",
       "0  Адольфо Фернандес, Ана Фернандес, Дарио Гранди...   \n",
       "1  Адам Палли, Брайан Хаски, Дж.Б. Смув, Джейсон ...   \n",
       "2  Адриан Холмс, Даррен Шалави, Джерри Вассерман,...   \n",
       "3  Александра Риддлстон-Барретт, Джеральдин Джейм...   \n",
       "4  Александр Абдулов, Александр Демьяненко, Алекс...   \n",
       "\n",
       "                                         description  \\\n",
       "0  Мелодрама легендарного Педро Альмодовара «Пого...   \n",
       "1  Уморительная современная комедия на популярную...   \n",
       "2  Профессиональный рестлер Стив Остин («Все или ...   \n",
       "3  Шарлотта Рэмплинг, Том Кортни, Джеральдин Джей...   \n",
       "4  Расчетливая чаровница из советского кинохита «...   \n",
       "\n",
       "                                            keywords  \n",
       "0  Поговори, ней, 2002, Испания, друзья, любовь, ...  \n",
       "1  Голые, перцы, 2014, США, друзья, свадьбы, прео...  \n",
       "2  Тактическая, сила, 2011, Канада, бандиты, ганг...  \n",
       "3  45, лет, 2015, Великобритания, брак, жизнь, лю...  \n",
       "4  Все, решает, мгновение, 1978, СССР, сильные, ж...  "
      ]
     },
     "execution_count": 137,
     "metadata": {},
     "output_type": "execute_result"
    }
   ],
   "source": [
    "items = items.loc[items[Columns.Item].isin(train[Columns.Item])].copy()\n",
    "items.head()"
   ]
  },
  {
   "cell_type": "code",
   "execution_count": 138,
   "id": "f7f107fc-63db-4c8e-9a45-7bccca6872be",
   "metadata": {},
   "outputs": [
    {
     "data": {
      "text/plain": [
       "item_id         14019\n",
       "content_type        2\n",
       "title           13454\n",
       "title_orig       9724\n",
       "release_year      104\n",
       "genres           2559\n",
       "countries         666\n",
       "for_kids            2\n",
       "age_rating          6\n",
       "studios            38\n",
       "directors        7414\n",
       "actors          11830\n",
       "description     13791\n",
       "keywords        13583\n",
       "dtype: int64"
      ]
     },
     "execution_count": 138,
     "metadata": {},
     "output_type": "execute_result"
    }
   ],
   "source": [
    "items.nunique()"
   ]
  },
  {
   "cell_type": "markdown",
   "id": "adff88a6-5e63-49bf-9173-aadf42164e88",
   "metadata": {},
   "source": [
    "### Genre"
   ]
  },
  {
   "cell_type": "code",
   "execution_count": 139,
   "id": "3ca07baa-472c-4aca-be88-4b81992badcf",
   "metadata": {},
   "outputs": [
    {
     "data": {
      "text/html": [
       "<div>\n",
       "<style scoped>\n",
       "    .dataframe tbody tr th:only-of-type {\n",
       "        vertical-align: middle;\n",
       "    }\n",
       "\n",
       "    .dataframe tbody tr th {\n",
       "        vertical-align: top;\n",
       "    }\n",
       "\n",
       "    .dataframe thead th {\n",
       "        text-align: right;\n",
       "    }\n",
       "</style>\n",
       "<table border=\"1\" class=\"dataframe\">\n",
       "  <thead>\n",
       "    <tr style=\"text-align: right;\">\n",
       "      <th></th>\n",
       "      <th>id</th>\n",
       "      <th>value</th>\n",
       "      <th>feature</th>\n",
       "    </tr>\n",
       "  </thead>\n",
       "  <tbody>\n",
       "    <tr>\n",
       "      <th>0</th>\n",
       "      <td>10711</td>\n",
       "      <td>драмы</td>\n",
       "      <td>genre</td>\n",
       "    </tr>\n",
       "    <tr>\n",
       "      <th>0</th>\n",
       "      <td>10711</td>\n",
       "      <td>зарубежные</td>\n",
       "      <td>genre</td>\n",
       "    </tr>\n",
       "    <tr>\n",
       "      <th>0</th>\n",
       "      <td>10711</td>\n",
       "      <td>детективы</td>\n",
       "      <td>genre</td>\n",
       "    </tr>\n",
       "    <tr>\n",
       "      <th>0</th>\n",
       "      <td>10711</td>\n",
       "      <td>мелодрамы</td>\n",
       "      <td>genre</td>\n",
       "    </tr>\n",
       "    <tr>\n",
       "      <th>1</th>\n",
       "      <td>2508</td>\n",
       "      <td>зарубежные</td>\n",
       "      <td>genre</td>\n",
       "    </tr>\n",
       "  </tbody>\n",
       "</table>\n",
       "</div>"
      ],
      "text/plain": [
       "      id       value feature\n",
       "0  10711       драмы   genre\n",
       "0  10711  зарубежные   genre\n",
       "0  10711   детективы   genre\n",
       "0  10711   мелодрамы   genre\n",
       "1   2508  зарубежные   genre"
      ]
     },
     "execution_count": 139,
     "metadata": {},
     "output_type": "execute_result"
    }
   ],
   "source": [
    "# Explode genres to flatten table\n",
    "items[\"genre\"] = items[\"genres\"].str.lower().str.replace(\", \", \",\", regex=False).str.split(\",\")\n",
    "genre_feature = items[[\"item_id\", \"genre\"]].explode(\"genre\")\n",
    "genre_feature.columns = [\"id\", \"value\"]\n",
    "genre_feature[\"feature\"] = \"genre\"\n",
    "genre_feature.head()"
   ]
  },
  {
   "cell_type": "code",
   "execution_count": 140,
   "id": "015695ea-ca99-4918-9c6c-1264778bee05",
   "metadata": {},
   "outputs": [
    {
     "data": {
      "text/plain": [
       "драмы                 4923\n",
       "комедии               3479\n",
       "зарубежные            3055\n",
       "мелодрамы             2533\n",
       "триллеры              2297\n",
       "                      ... \n",
       "токшоу                   2\n",
       "красота и здоровье       2\n",
       "передачи                 1\n",
       "образование              1\n",
       "рекомендуем              1\n",
       "Name: value, Length: 94, dtype: int64"
      ]
     },
     "execution_count": 140,
     "metadata": {},
     "output_type": "execute_result"
    }
   ],
   "source": [
    "genre_feature[\"value\"].value_counts()"
   ]
  },
  {
   "cell_type": "markdown",
   "id": "edef8789-8941-479a-90c1-1f6ab3611c38",
   "metadata": {},
   "source": [
    "### Content"
   ]
  },
  {
   "cell_type": "code",
   "execution_count": 141,
   "id": "74fb090e-fefd-400e-b533-6ac1262e96b0",
   "metadata": {},
   "outputs": [
    {
     "data": {
      "text/html": [
       "<div>\n",
       "<style scoped>\n",
       "    .dataframe tbody tr th:only-of-type {\n",
       "        vertical-align: middle;\n",
       "    }\n",
       "\n",
       "    .dataframe tbody tr th {\n",
       "        vertical-align: top;\n",
       "    }\n",
       "\n",
       "    .dataframe thead th {\n",
       "        text-align: right;\n",
       "    }\n",
       "</style>\n",
       "<table border=\"1\" class=\"dataframe\">\n",
       "  <thead>\n",
       "    <tr style=\"text-align: right;\">\n",
       "      <th></th>\n",
       "      <th>id</th>\n",
       "      <th>value</th>\n",
       "      <th>feature</th>\n",
       "    </tr>\n",
       "  </thead>\n",
       "  <tbody>\n",
       "    <tr>\n",
       "      <th>0</th>\n",
       "      <td>10711</td>\n",
       "      <td>film</td>\n",
       "      <td>content_type</td>\n",
       "    </tr>\n",
       "    <tr>\n",
       "      <th>1</th>\n",
       "      <td>2508</td>\n",
       "      <td>film</td>\n",
       "      <td>content_type</td>\n",
       "    </tr>\n",
       "    <tr>\n",
       "      <th>2</th>\n",
       "      <td>10716</td>\n",
       "      <td>film</td>\n",
       "      <td>content_type</td>\n",
       "    </tr>\n",
       "    <tr>\n",
       "      <th>3</th>\n",
       "      <td>7868</td>\n",
       "      <td>film</td>\n",
       "      <td>content_type</td>\n",
       "    </tr>\n",
       "    <tr>\n",
       "      <th>4</th>\n",
       "      <td>16268</td>\n",
       "      <td>film</td>\n",
       "      <td>content_type</td>\n",
       "    </tr>\n",
       "    <tr>\n",
       "      <th>...</th>\n",
       "      <td>...</td>\n",
       "      <td>...</td>\n",
       "      <td>...</td>\n",
       "    </tr>\n",
       "    <tr>\n",
       "      <th>15958</th>\n",
       "      <td>6443</td>\n",
       "      <td>series</td>\n",
       "      <td>content_type</td>\n",
       "    </tr>\n",
       "    <tr>\n",
       "      <th>15959</th>\n",
       "      <td>2367</td>\n",
       "      <td>series</td>\n",
       "      <td>content_type</td>\n",
       "    </tr>\n",
       "    <tr>\n",
       "      <th>15960</th>\n",
       "      <td>10632</td>\n",
       "      <td>series</td>\n",
       "      <td>content_type</td>\n",
       "    </tr>\n",
       "    <tr>\n",
       "      <th>15961</th>\n",
       "      <td>4538</td>\n",
       "      <td>series</td>\n",
       "      <td>content_type</td>\n",
       "    </tr>\n",
       "    <tr>\n",
       "      <th>15962</th>\n",
       "      <td>3206</td>\n",
       "      <td>series</td>\n",
       "      <td>content_type</td>\n",
       "    </tr>\n",
       "  </tbody>\n",
       "</table>\n",
       "<p>14019 rows × 3 columns</p>\n",
       "</div>"
      ],
      "text/plain": [
       "          id   value       feature\n",
       "0      10711    film  content_type\n",
       "1       2508    film  content_type\n",
       "2      10716    film  content_type\n",
       "3       7868    film  content_type\n",
       "4      16268    film  content_type\n",
       "...      ...     ...           ...\n",
       "15958   6443  series  content_type\n",
       "15959   2367  series  content_type\n",
       "15960  10632  series  content_type\n",
       "15961   4538  series  content_type\n",
       "15962   3206  series  content_type\n",
       "\n",
       "[14019 rows x 3 columns]"
      ]
     },
     "execution_count": 141,
     "metadata": {},
     "output_type": "execute_result"
    }
   ],
   "source": [
    "content_feature = items.reindex(columns=[Columns.Item, \"content_type\"])\n",
    "content_feature.columns = [\"id\", \"value\"]\n",
    "content_feature[\"feature\"] = \"content_type\"\n",
    "content_feature"
   ]
  },
  {
   "cell_type": "code",
   "execution_count": 142,
   "id": "9a82dad1-5b60-4514-8030-e86a744ff596",
   "metadata": {},
   "outputs": [
    {
     "data": {
      "text/plain": [
       "film      10662\n",
       "series     3357\n",
       "Name: value, dtype: int64"
      ]
     },
     "execution_count": 142,
     "metadata": {},
     "output_type": "execute_result"
    }
   ],
   "source": [
    "content_feature['value'].value_counts()"
   ]
  },
  {
   "cell_type": "code",
   "execution_count": 143,
   "id": "6caf66bf-91d2-4632-9c13-5ac2fc254b58",
   "metadata": {},
   "outputs": [
    {
     "data": {
      "text/html": [
       "<div>\n",
       "<style scoped>\n",
       "    .dataframe tbody tr th:only-of-type {\n",
       "        vertical-align: middle;\n",
       "    }\n",
       "\n",
       "    .dataframe tbody tr th {\n",
       "        vertical-align: top;\n",
       "    }\n",
       "\n",
       "    .dataframe thead th {\n",
       "        text-align: right;\n",
       "    }\n",
       "</style>\n",
       "<table border=\"1\" class=\"dataframe\">\n",
       "  <thead>\n",
       "    <tr style=\"text-align: right;\">\n",
       "      <th></th>\n",
       "      <th>id</th>\n",
       "      <th>value</th>\n",
       "      <th>feature</th>\n",
       "    </tr>\n",
       "  </thead>\n",
       "  <tbody>\n",
       "    <tr>\n",
       "      <th>0</th>\n",
       "      <td>10711</td>\n",
       "      <td>драмы</td>\n",
       "      <td>genre</td>\n",
       "    </tr>\n",
       "    <tr>\n",
       "      <th>0</th>\n",
       "      <td>10711</td>\n",
       "      <td>зарубежные</td>\n",
       "      <td>genre</td>\n",
       "    </tr>\n",
       "    <tr>\n",
       "      <th>0</th>\n",
       "      <td>10711</td>\n",
       "      <td>детективы</td>\n",
       "      <td>genre</td>\n",
       "    </tr>\n",
       "    <tr>\n",
       "      <th>0</th>\n",
       "      <td>10711</td>\n",
       "      <td>мелодрамы</td>\n",
       "      <td>genre</td>\n",
       "    </tr>\n",
       "    <tr>\n",
       "      <th>1</th>\n",
       "      <td>2508</td>\n",
       "      <td>зарубежные</td>\n",
       "      <td>genre</td>\n",
       "    </tr>\n",
       "    <tr>\n",
       "      <th>...</th>\n",
       "      <td>...</td>\n",
       "      <td>...</td>\n",
       "      <td>...</td>\n",
       "    </tr>\n",
       "    <tr>\n",
       "      <th>15958</th>\n",
       "      <td>6443</td>\n",
       "      <td>series</td>\n",
       "      <td>content_type</td>\n",
       "    </tr>\n",
       "    <tr>\n",
       "      <th>15959</th>\n",
       "      <td>2367</td>\n",
       "      <td>series</td>\n",
       "      <td>content_type</td>\n",
       "    </tr>\n",
       "    <tr>\n",
       "      <th>15960</th>\n",
       "      <td>10632</td>\n",
       "      <td>series</td>\n",
       "      <td>content_type</td>\n",
       "    </tr>\n",
       "    <tr>\n",
       "      <th>15961</th>\n",
       "      <td>4538</td>\n",
       "      <td>series</td>\n",
       "      <td>content_type</td>\n",
       "    </tr>\n",
       "    <tr>\n",
       "      <th>15962</th>\n",
       "      <td>3206</td>\n",
       "      <td>series</td>\n",
       "      <td>content_type</td>\n",
       "    </tr>\n",
       "  </tbody>\n",
       "</table>\n",
       "<p>50224 rows × 3 columns</p>\n",
       "</div>"
      ],
      "text/plain": [
       "          id       value       feature\n",
       "0      10711       драмы         genre\n",
       "0      10711  зарубежные         genre\n",
       "0      10711   детективы         genre\n",
       "0      10711   мелодрамы         genre\n",
       "1       2508  зарубежные         genre\n",
       "...      ...         ...           ...\n",
       "15958   6443      series  content_type\n",
       "15959   2367      series  content_type\n",
       "15960  10632      series  content_type\n",
       "15961   4538      series  content_type\n",
       "15962   3206      series  content_type\n",
       "\n",
       "[50224 rows x 3 columns]"
      ]
     },
     "execution_count": 143,
     "metadata": {},
     "output_type": "execute_result"
    }
   ],
   "source": [
    "item_features = pd.concat((genre_feature, content_feature))\n",
    "item_features"
   ]
  },
  {
   "cell_type": "markdown",
   "id": "49a7d8ea-0f15-4333-b4c6-e50643a69a32",
   "metadata": {},
   "source": [
    "# Hyperparameters\n",
    "- Реализовать тюнинг гиперпараметров для моделей из implicit, lightfm или rectools **(3 балла)**\n",
    "  - Для перебора гиперпараметров буду использовать [`Optuna`](https://github.com/optuna/optuna)"
   ]
  },
  {
   "cell_type": "markdown",
   "id": "11883a37-0e23-4176-b48f-8ddaab3b7ed5",
   "metadata": {},
   "source": [
    "Буду использовать модели, которые были на практике из ректулз\n",
    "- ALS\n",
    "- LightFM"
   ]
  },
  {
   "cell_type": "code",
   "execution_count": 144,
   "id": "f36db16c-343b-4ac6-8239-42f9e5cf417e",
   "metadata": {},
   "outputs": [],
   "source": [
    "K_RECOS = 10\n",
    "RANDOM_STATE = 42\n",
    "NUM_THREADS = 16\n",
    "N_TRIALS = 15\n",
    "N_EPOCHS = 1 # Lightfm\n",
    "USER_ALPHA = 0 # Lightfm\n",
    "ITEM_ALPHA = 0 # Lightfm"
   ]
  },
  {
   "cell_type": "code",
   "execution_count": 27,
   "id": "312a7a6b-3f60-4110-8209-e22fc07bd25e",
   "metadata": {},
   "outputs": [
    {
     "name": "stdout",
     "output_type": "stream",
     "text": [
      "CPU times: total: 234 ms\n",
      "Wall time: 667 ms\n"
     ]
    }
   ],
   "source": [
    "%%time\n",
    "dataset = Dataset.construct(\n",
    "    interactions_df=train,\n",
    "    user_features_df=user_features,\n",
    "    cat_user_features=[\"sex\", \"age\", \"income\"],\n",
    "    item_features_df=item_features,\n",
    "    cat_item_features=[\"genre\", \"content_type\"],\n",
    ")"
   ]
  },
  {
   "cell_type": "code",
   "execution_count": 28,
   "id": "866153b1-3877-4852-9ea6-755ceae965d5",
   "metadata": {},
   "outputs": [],
   "source": [
    "TEST_USERS = test[Columns.User].unique()"
   ]
  },
  {
   "cell_type": "markdown",
   "id": "86595082-d53a-4c75-ae90-c618c1ededa6",
   "metadata": {},
   "source": [
    "Выберем метрику MAP для подбора гиперпараметров, так как нам именно ее и надо побить на лидерборде\n",
    "is_fitting_features будет константно тру, так как на практике нигде не было чтобы False дал лучший результат"
   ]
  },
  {
   "cell_type": "markdown",
   "id": "d7fb9625-f3b0-4156-b193-ac60185e2abb",
   "metadata": {},
   "source": [
    "**Для начала обучим ALS**"
   ]
  },
  {
   "cell_type": "code",
   "execution_count": 60,
   "id": "1f757e3f-1c8f-4af6-815e-806d76c1a97e",
   "metadata": {},
   "outputs": [],
   "source": [
    "def objective(trial):\n",
    "    n_factors = trial.suggest_int('components', 16, 64, step=16)\n",
    "    lr = trial.suggest_float('lr', 1e-4, 1e-1, log = True)\n",
    "    \n",
    "    als_model = ImplicitALSWrapperModel(\n",
    "        AlternatingLeastSquares(\n",
    "            factors=n_factors, \n",
    "            random_state=RANDOM_STATE, \n",
    "            num_threads=NUM_THREADS,\n",
    "        ),\n",
    "        fit_features_together=True,\n",
    "    )\n",
    "    als_model.fit(dataset)\n",
    "\n",
    "    recos_als = als_model.recommend(\n",
    "        users=TEST_USERS,\n",
    "        dataset=dataset,\n",
    "        k=K_RECOS,\n",
    "        filter_viewed=True,\n",
    "    )\n",
    "    \n",
    "    map10 = MAP(k=K_RECOS).calc(recos_als, test)\n",
    "    return map10"
   ]
  },
  {
   "cell_type": "code",
   "execution_count": 61,
   "id": "b3af8476-7abd-4e51-af4d-06afe009e371",
   "metadata": {},
   "outputs": [
    {
     "name": "stderr",
     "output_type": "stream",
     "text": [
      "[I 2024-01-17 13:28:28,107] A new study created in memory with name: no-name-3bfa079f-7faf-463b-9de5-4bd2d4d0e099\n",
      "[I 2024-01-17 13:28:50,139] Trial 0 finished with value: 0.07464975414579311 and parameters: {'components': 32, 'lr': 0.005042597970694257}. Best is trial 0 with value: 0.07464975414579311.\n",
      "[I 2024-01-17 13:29:10,800] Trial 1 finished with value: 0.07510425594922608 and parameters: {'components': 16, 'lr': 0.05942215468443357}. Best is trial 1 with value: 0.07510425594922608.\n",
      "[I 2024-01-17 13:29:32,805] Trial 2 finished with value: 0.07464975414579311 and parameters: {'components': 32, 'lr': 0.07533229352477559}. Best is trial 1 with value: 0.07510425594922608.\n",
      "[I 2024-01-17 13:29:54,316] Trial 3 finished with value: 0.07510425594922608 and parameters: {'components': 16, 'lr': 0.00017440006157014014}. Best is trial 1 with value: 0.07510425594922608.\n",
      "[I 2024-01-17 13:30:15,938] Trial 4 finished with value: 0.07510425594922608 and parameters: {'components': 16, 'lr': 0.04003429188739919}. Best is trial 1 with value: 0.07510425594922608.\n",
      "[I 2024-01-17 13:30:40,701] Trial 5 finished with value: 0.07358128186150417 and parameters: {'components': 48, 'lr': 0.0010496614209197356}. Best is trial 1 with value: 0.07510425594922608.\n",
      "[I 2024-01-17 13:31:04,076] Trial 6 finished with value: 0.07464975414579311 and parameters: {'components': 32, 'lr': 0.014229353890556943}. Best is trial 1 with value: 0.07510425594922608.\n",
      "[I 2024-01-17 13:31:27,058] Trial 7 finished with value: 0.07464975414579311 and parameters: {'components': 32, 'lr': 0.0010524982325748353}. Best is trial 1 with value: 0.07510425594922608.\n",
      "[I 2024-01-17 13:31:48,234] Trial 8 finished with value: 0.07510425594922608 and parameters: {'components': 16, 'lr': 0.0031198213244392767}. Best is trial 1 with value: 0.07510425594922608.\n",
      "[I 2024-01-17 13:32:09,773] Trial 9 finished with value: 0.07510425594922608 and parameters: {'components': 16, 'lr': 0.0009517780340740085}. Best is trial 1 with value: 0.07510425594922608.\n",
      "[I 2024-01-17 13:32:36,694] Trial 10 finished with value: 0.07443212955549797 and parameters: {'components': 64, 'lr': 0.02165657107085114}. Best is trial 1 with value: 0.07510425594922608.\n",
      "[I 2024-01-17 13:32:58,692] Trial 11 finished with value: 0.07510425594922608 and parameters: {'components': 16, 'lr': 0.00011430182927641299}. Best is trial 1 with value: 0.07510425594922608.\n",
      "[I 2024-01-17 13:33:23,488] Trial 12 finished with value: 0.07358128186150417 and parameters: {'components': 48, 'lr': 0.0001224128201207649}. Best is trial 1 with value: 0.07510425594922608.\n",
      "[I 2024-01-17 13:33:44,900] Trial 13 finished with value: 0.07510425594922608 and parameters: {'components': 16, 'lr': 0.00036425293403927585}. Best is trial 1 with value: 0.07510425594922608.\n",
      "[I 2024-01-17 13:34:11,345] Trial 14 finished with value: 0.07443212955549797 and parameters: {'components': 64, 'lr': 0.006147298490521019}. Best is trial 1 with value: 0.07510425594922608.\n"
     ]
    },
    {
     "name": "stdout",
     "output_type": "stream",
     "text": [
      "Finished trials: 15\n",
      "Best trial:\n",
      "  Value: 0.07510425594922608\n",
      "  Params: \n",
      "    components: 16\n",
      "    lr: 0.05942215468443357\n"
     ]
    }
   ],
   "source": [
    "study = optuna.create_study(direction=\"maximize\")\n",
    "study.optimize(objective, n_trials=N_TRIALS)\n",
    "\n",
    "print(\"Finished trials: {}\".format(len(study.trials)))\n",
    "\n",
    "print(\"Best trial:\")\n",
    "trial = study.best_trial\n",
    "\n",
    "print(\"  Value: {}\".format(trial.value))\n",
    "\n",
    "print(\"  Params: \")\n",
    "for key, value in trial.params.items():\n",
    "    print(\"    {}: {}\".format(key, value))"
   ]
  },
  {
   "cell_type": "markdown",
   "id": "8c2758b9-74c6-4083-b262-2bdbcc316f2f",
   "metadata": {},
   "source": [
    "**Теперь посмотрим на модель из LightFM**"
   ]
  },
  {
   "cell_type": "markdown",
   "id": "27b6d0a1-22f2-4f86-8277-b76de29feb7f",
   "metadata": {},
   "source": [
    "Заранее выбрала Loss Warp, потому что из практики стало ясно, что он больше всего подходит в нашей задаче"
   ]
  },
  {
   "cell_type": "code",
   "execution_count": 74,
   "id": "a0201222-3673-4940-a22b-6f4343d02282",
   "metadata": {},
   "outputs": [],
   "source": [
    "def objective(trial):\n",
    "    n_factors = trial.suggest_int('components', 16, 64, step=16)\n",
    "    lr = trial.suggest_float('lr', 1e-5, 1e-2, log = True)\n",
    "    \n",
    "    lightfm_model = LightFMWrapperModel(\n",
    "            LightFM(\n",
    "                no_components=n_factors, \n",
    "                loss='warp', \n",
    "                random_state=RANDOM_STATE,\n",
    "                learning_rate=lr,\n",
    "                user_alpha=USER_ALPHA,\n",
    "                item_alpha=ITEM_ALPHA,\n",
    "            ),\n",
    "            epochs=N_EPOCHS,\n",
    "            num_threads=NUM_THREADS,\n",
    "        )\n",
    "    \n",
    "    \n",
    "    lightfm_model.fit(dataset)\n",
    "\n",
    "    recos_lFM = lightfm_model.recommend(\n",
    "        users=TEST_USERS,\n",
    "        dataset=dataset,\n",
    "        k=K_RECOS,\n",
    "        filter_viewed=True,\n",
    "    )\n",
    "    \n",
    "    map10 = MAP(k=K_RECOS).calc(recos_lFM, test)\n",
    "    return map10"
   ]
  },
  {
   "cell_type": "code",
   "execution_count": 75,
   "id": "6d42fb88-4eaa-4d56-926a-367dfdcc7abb",
   "metadata": {},
   "outputs": [
    {
     "name": "stderr",
     "output_type": "stream",
     "text": [
      "[I 2024-01-17 13:46:47,611] A new study created in memory with name: no-name-28aa90d5-3a85-43d9-b768-89ca2f26678d\n",
      "[I 2024-01-17 13:47:53,603] Trial 0 finished with value: 0.05430624508023497 and parameters: {'components': 48, 'lr': 0.00016109402320245298}. Best is trial 0 with value: 0.05430624508023497.\n",
      "[I 2024-01-17 13:48:30,265] Trial 1 finished with value: 0.07677755691902213 and parameters: {'components': 32, 'lr': 0.003138045529061502}. Best is trial 1 with value: 0.07677755691902213.\n",
      "[I 2024-01-17 13:49:58,962] Trial 2 finished with value: 0.0004584443098254922 and parameters: {'components': 64, 'lr': 2.272764361152419e-05}. Best is trial 1 with value: 0.07677755691902213.\n",
      "[I 2024-01-17 13:50:33,923] Trial 3 finished with value: 0.07727909442366546 and parameters: {'components': 32, 'lr': 0.005553300236049671}. Best is trial 3 with value: 0.07727909442366546.\n",
      "[I 2024-01-17 13:51:32,098] Trial 4 finished with value: 0.07739908174951539 and parameters: {'components': 64, 'lr': 0.0034732219667499248}. Best is trial 4 with value: 0.07739908174951539.\n",
      "[I 2024-01-17 13:51:57,932] Trial 5 finished with value: 0.070692975405243 and parameters: {'components': 16, 'lr': 0.0017834244692649535}. Best is trial 4 with value: 0.07739908174951539.\n",
      "[I 2024-01-17 13:52:56,223] Trial 6 finished with value: 0.07554688894182893 and parameters: {'components': 64, 'lr': 0.002238099230530432}. Best is trial 4 with value: 0.07739908174951539.\n",
      "[I 2024-01-17 13:53:28,947] Trial 7 finished with value: 0.006386647691241442 and parameters: {'components': 16, 'lr': 0.00018122349739525893}. Best is trial 4 with value: 0.07739908174951539.\n",
      "[I 2024-01-17 13:54:19,403] Trial 8 finished with value: 0.004320238179130815 and parameters: {'components': 32, 'lr': 0.00012539012880336244}. Best is trial 4 with value: 0.07739908174951539.\n",
      "[I 2024-01-17 13:55:11,105] Trial 9 finished with value: 0.00041778119351106274 and parameters: {'components': 32, 'lr': 1.7248531921144655e-05}. Best is trial 4 with value: 0.07739908174951539.\n",
      "[I 2024-01-17 13:56:04,012] Trial 10 finished with value: 0.06854408428592788 and parameters: {'components': 48, 'lr': 0.0006561612272285859}. Best is trial 4 with value: 0.07739908174951539.\n",
      "[I 2024-01-17 13:56:49,507] Trial 11 finished with value: 0.08000534197320383 and parameters: {'components': 48, 'lr': 0.009914640727824435}. Best is trial 11 with value: 0.08000534197320383.\n",
      "[I 2024-01-17 13:57:45,623] Trial 12 finished with value: 0.07932087674333217 and parameters: {'components': 64, 'lr': 0.009211739427722326}. Best is trial 11 with value: 0.08000534197320383.\n",
      "[I 2024-01-17 13:58:31,828] Trial 13 finished with value: 0.07842002801610172 and parameters: {'components': 48, 'lr': 0.009402193690992957}. Best is trial 11 with value: 0.08000534197320383.\n",
      "[I 2024-01-17 13:59:33,959] Trial 14 finished with value: 0.06930787777769504 and parameters: {'components': 64, 'lr': 0.0008654542688694794}. Best is trial 11 with value: 0.08000534197320383.\n"
     ]
    },
    {
     "name": "stdout",
     "output_type": "stream",
     "text": [
      "Finished trials: 15\n",
      "Best trial:\n",
      "  Value: 0.08000534197320383\n",
      "  Params: \n",
      "    components: 48\n",
      "    lr: 0.009914640727824435\n"
     ]
    }
   ],
   "source": [
    "study = optuna.create_study(direction=\"maximize\")\n",
    "study.optimize(objective, n_trials=N_TRIALS)\n",
    "\n",
    "print(\"Finished trials: {}\".format(len(study.trials)))\n",
    "\n",
    "print(\"Best trial:\")\n",
    "trial = study.best_trial\n",
    "\n",
    "print(\"  Value: {}\".format(trial.value))\n",
    "\n",
    "print(\"  Params: \")\n",
    "for key, value in trial.params.items():\n",
    "    print(\"    {}: {}\".format(key, value))"
   ]
  },
  {
   "cell_type": "markdown",
   "id": "5ca3b608-939e-4c2d-a3d6-caf1293d8794",
   "metadata": {},
   "source": [
    "Выберем лучшую модель, чтобы сохранить ее веса и обучим на всем датасете Киона, чтобы можно было давать для всех пользователей хорошие рекомендации непосредственно в сервисе моем\n",
    "\n",
    "Поэтому повторяем шаги выше, но для всего датасета, а не трейна (isin(interactions[Columns.User])])"
   ]
  },
  {
   "cell_type": "code",
   "execution_count": 77,
   "id": "f37d6ab5-90d0-48a9-9f68-b09f73b53cab",
   "metadata": {},
   "outputs": [],
   "source": [
    "users_all = users.loc[users[Columns.User].isin(interactions[Columns.User])]\n",
    "\n",
    "user_features_frames = []\n",
    "for feature in [\"sex\", \"age\", \"income\"]:\n",
    "    feature_frame = users_all.reindex(columns=[Columns.User, feature])\n",
    "    feature_frame.columns = [\"id\", \"value\"]\n",
    "    feature_frame[\"feature\"] = feature\n",
    "    user_features_frames.append(feature_frame)\n",
    "user_features = pd.concat(user_features_frames)"
   ]
  },
  {
   "cell_type": "code",
   "execution_count": 78,
   "id": "3e42a3b4-8711-4733-b9c8-582897ac7dd4",
   "metadata": {},
   "outputs": [],
   "source": [
    "items_all = items.loc[items[Columns.Item].isin(interactions[Columns.Item])]\n",
    "\n",
    "items_all[\"genre\"] = items_all[\"genres\"].str.lower().str.replace(\", \", \",\", regex=False).str.split(\",\")\n",
    "genre_feature = items_all[[\"item_id\", \"genre\"]].explode(\"genre\")\n",
    "genre_feature.columns = [\"id\", \"value\"]\n",
    "genre_feature[\"feature\"] = \"genre\"\n",
    "genre_feature.head()\n",
    "\n",
    "content_feature = items_all.reindex(columns=[Columns.Item, \"content_type\"])\n",
    "content_feature.columns = [\"id\", \"value\"]\n",
    "content_feature[\"feature\"] = \"content_type\"\n",
    "\n",
    "item_features = pd.concat((genre_feature, content_feature))"
   ]
  },
  {
   "cell_type": "code",
   "execution_count": 79,
   "id": "32ee16ab-d7e9-493b-ab12-97871190b56f",
   "metadata": {},
   "outputs": [],
   "source": [
    "kion_dataset = Dataset.construct(\n",
    "    interactions_df=interactions,\n",
    "    user_features_df=user_features,\n",
    "    cat_user_features=[\"sex\", \"age\", \"income\"],\n",
    "    item_features_df=item_features,\n",
    "    cat_item_features=[\"genre\", \"content_type\"],\n",
    ")"
   ]
  },
  {
   "cell_type": "code",
   "execution_count": 86,
   "id": "24495ada-eead-4fb2-a08e-535307020fae",
   "metadata": {},
   "outputs": [
    {
     "data": {
      "text/plain": [
       "<rectools.models.lightfm.LightFMWrapperModel at 0x2340b5dc9a0>"
      ]
     },
     "execution_count": 86,
     "metadata": {},
     "output_type": "execute_result"
    }
   ],
   "source": [
    "best_model = LightFMWrapperModel(\n",
    "    LightFM(\n",
    "        no_components=48,\n",
    "        loss='warp',\n",
    "        learning_rate=0.0099,\n",
    "        random_state=RANDOM_STATE\n",
    "    ),\n",
    "    num_threads=NUM_THREADS,\n",
    ")\n",
    "    \n",
    "best_model.fit(kion_dataset)\n"
   ]
  },
  {
   "cell_type": "code",
   "execution_count": 87,
   "id": "009f6dbd-aadc-424f-ada9-fb98a9d69f67",
   "metadata": {},
   "outputs": [],
   "source": [
    "with open('LightFM_warp_48.dill', 'wb') as f:\n",
    "    dill.dump(best_model, f)"
   ]
  },
  {
   "cell_type": "markdown",
   "id": "ccc0ec14-d834-4e3e-8563-09bb01ac7003",
   "metadata": {},
   "source": [
    "Мой сервис будет оффлайн, поэтому давайте выдадим рекомендации, а потом скачаем даные в pkl"
   ]
  },
  {
   "cell_type": "code",
   "execution_count": 88,
   "id": "e56efc21-ec30-43bc-a141-5d5ba7011bba",
   "metadata": {},
   "outputs": [],
   "source": [
    "recos = best_model.recommend(\n",
    "    users=interactions['user_id'].unique(),\n",
    "    dataset=kion_dataset,\n",
    "    k=K_RECOS,\n",
    "    filter_viewed=True,\n",
    ")"
   ]
  },
  {
   "cell_type": "code",
   "execution_count": 89,
   "id": "92d8abbc-416e-4b9f-b408-6417d179a780",
   "metadata": {},
   "outputs": [],
   "source": [
    "recos = recos[['user_id', 'item_id']].groupby('user_id')['item_id'].apply(list).T.to_dict()\n",
    "with open('offline_lightfm.pkl', 'wb') as f:\n",
    "    pickle.dump(recos, f)"
   ]
  },
  {
   "cell_type": "markdown",
   "id": "da0f8087-fddb-44c2-8527-684d18b997a9",
   "metadata": {},
   "source": [
    "# ANN (Approximate Nearest Neighbors) \n",
    "\n",
    "Воспользоваться методом приближенного поиска соседей для выдачи рекомендаций. **(3 балла)**\n",
    "\n",
    "Буду использовать nmsl"
   ]
  },
  {
   "cell_type": "markdown",
   "id": "121051a5-1add-4862-9bea-24b278f4df21",
   "metadata": {},
   "source": [
    "Подготовим данные как в практике"
   ]
  },
  {
   "cell_type": "code",
   "execution_count": 106,
   "id": "99e6d975-3923-4ea9-b4ab-1ab26bd24766",
   "metadata": {},
   "outputs": [],
   "source": [
    "import time\n",
    "import nmslib"
   ]
  },
  {
   "cell_type": "code",
   "execution_count": 91,
   "id": "0213432f-a357-4dc1-a1fa-51733b84c8ab",
   "metadata": {},
   "outputs": [
    {
     "data": {
      "text/plain": [
       "<rectools.models.lightfm.LightFMWrapperModel at 0x2340b5dc9a0>"
      ]
     },
     "execution_count": 91,
     "metadata": {},
     "output_type": "execute_result"
    }
   ],
   "source": [
    "best_model"
   ]
  },
  {
   "cell_type": "code",
   "execution_count": 96,
   "id": "287457fc-518a-4540-b853-f2e4e415945e",
   "metadata": {},
   "outputs": [
    {
     "data": {
      "text/plain": [
       "((962179, 50), (15706, 50))"
      ]
     },
     "execution_count": 96,
     "metadata": {},
     "output_type": "execute_result"
    }
   ],
   "source": [
    "user_embeddings, item_embeddings = best_model.get_vectors(kion_dataset)\n",
    "user_embeddings.shape, item_embeddings.shape"
   ]
  },
  {
   "cell_type": "code",
   "execution_count": 97,
   "id": "d7dfbb00-da0a-49d0-94fb-85cfb9675fa2",
   "metadata": {},
   "outputs": [],
   "source": [
    "def augment_inner_product(factors):\n",
    "    normed_factors = np.linalg.norm(factors, axis=1)\n",
    "    max_norm = normed_factors.max()\n",
    "    \n",
    "    extra_dim = np.sqrt(max_norm ** 2 - normed_factors ** 2).reshape(-1, 1)\n",
    "    augmented_factors = np.append(factors, extra_dim, axis=1)\n",
    "    return max_norm, augmented_factors"
   ]
  },
  {
   "cell_type": "code",
   "execution_count": 98,
   "id": "244d344b-5d5b-44ba-ab83-186c5173ce86",
   "metadata": {},
   "outputs": [
    {
     "name": "stdout",
     "output_type": "stream",
     "text": [
      "pre shape:  (15706, 50)\n"
     ]
    },
    {
     "data": {
      "text/plain": [
       "(15706, 51)"
      ]
     },
     "execution_count": 98,
     "metadata": {},
     "output_type": "execute_result"
    }
   ],
   "source": [
    "print('pre shape: ', item_embeddings.shape)\n",
    "max_norm, augmented_item_embeddings = augment_inner_product(item_embeddings)\n",
    "augmented_item_embeddings.shape"
   ]
  },
  {
   "cell_type": "code",
   "execution_count": 99,
   "id": "1febc573-fb98-4486-868b-638211521d7d",
   "metadata": {},
   "outputs": [
    {
     "data": {
      "text/plain": [
       "(962179, 51)"
      ]
     },
     "execution_count": 99,
     "metadata": {},
     "output_type": "execute_result"
    }
   ],
   "source": [
    "extra_zero = np.zeros((user_embeddings.shape[0], 1))\n",
    "augmented_user_embeddings = np.append(user_embeddings, extra_zero, axis=1)\n",
    "augmented_user_embeddings.shape"
   ]
  },
  {
   "cell_type": "code",
   "execution_count": 101,
   "id": "2af4d1e6-e19b-4970-846c-a44fa26ec93c",
   "metadata": {},
   "outputs": [
    {
     "data": {
      "text/plain": [
       "array([ 1.        ,  1.36008537,  0.25023073, -0.1402979 , -0.1401263 ,\n",
       "       -0.28630489, -0.19733539,  0.00412825, -0.11233127,  0.4974274 ,\n",
       "        0.49853653, -0.42191634, -0.39138407, -0.32965979, -0.32010901,\n",
       "       -0.0728093 ,  0.2805641 , -0.04958308, -0.03296055,  0.28894499,\n",
       "        0.08770996, -0.23827758,  0.45104712,  0.46520001,  0.22159365,\n",
       "        0.31081152,  0.50805128, -0.2289442 ,  0.24647547,  0.14184225,\n",
       "        0.00181587, -0.02281912,  0.66063768, -0.29613733, -0.15686691,\n",
       "       -0.56488705,  0.11684057, -0.39452374,  0.19799615, -0.21081914,\n",
       "       -0.04885705, -0.43194729,  0.05919545, -0.38106644,  0.22361603,\n",
       "       -0.04118441,  0.15361363,  0.11481205,  0.02631835, -0.21486877])"
      ]
     },
     "execution_count": 101,
     "metadata": {},
     "output_type": "execute_result"
    }
   ],
   "source": [
    "item_id = 0\n",
    "item_embeddings[item_id]"
   ]
  },
  {
   "cell_type": "code",
   "execution_count": 102,
   "id": "80a2c847-c153-4a1c-a4f2-5ed18b6da424",
   "metadata": {},
   "outputs": [
    {
     "data": {
      "text/plain": [
       "array([ 1.00000000e+00,  1.36008537e+00,  2.50230730e-01, -1.40297905e-01,\n",
       "       -1.40126303e-01, -2.86304891e-01, -1.97335392e-01,  4.12824750e-03,\n",
       "       -1.12331271e-01,  4.97427404e-01,  4.98536527e-01, -4.21916336e-01,\n",
       "       -3.91384065e-01, -3.29659790e-01, -3.20109010e-01, -7.28093013e-02,\n",
       "        2.80564100e-01, -4.95830812e-02, -3.29605527e-02,  2.88944989e-01,\n",
       "        8.77099633e-02, -2.38277584e-01,  4.51047122e-01,  4.65200007e-01,\n",
       "        2.21593648e-01,  3.10811520e-01,  5.08051276e-01, -2.28944197e-01,\n",
       "        2.46475473e-01,  1.41842246e-01,  1.81587040e-03, -2.28191167e-02,\n",
       "        6.60637677e-01, -2.96137333e-01, -1.56866908e-01, -5.64887047e-01,\n",
       "        1.16840571e-01, -3.94523740e-01,  1.97996154e-01, -2.10819140e-01,\n",
       "       -4.88570482e-02, -4.31947291e-01,  5.91954514e-02, -3.81066442e-01,\n",
       "        2.23616034e-01, -4.11844105e-02,  1.53613627e-01,  1.14812046e-01,\n",
       "        2.63183527e-02, -2.14868769e-01,  2.46384924e+00])"
      ]
     },
     "execution_count": 102,
     "metadata": {},
     "output_type": "execute_result"
    }
   ],
   "source": [
    "augmented_item_embeddings[item_id]"
   ]
  },
  {
   "cell_type": "code",
   "execution_count": 104,
   "id": "3aa97595-2d25-4ec3-9412-943ef4da7157",
   "metadata": {},
   "outputs": [
    {
     "name": "stdout",
     "output_type": "stream",
     "text": [
      "Index-time parameters {'M': 48, 'indexThreadQty': 4, 'efConstruction': 100, 'post': 0}\n"
     ]
    }
   ],
   "source": [
    "# Set index parameters\n",
    "# These are the most important ones\n",
    "M = 48\n",
    "efC = 100\n",
    "\n",
    "num_threads = 4\n",
    "index_time_params = {'M': M, 'indexThreadQty': num_threads, 'efConstruction': efC, 'post' : 0}\n",
    "print('Index-time parameters', index_time_params)\n",
    "\n",
    "# Number of neighbors \n",
    "K=10\n",
    "\n",
    "# Space name should correspond to the space name \n",
    "# used for brute-force search\n",
    "space_name='negdotprod'"
   ]
  },
  {
   "cell_type": "code",
   "execution_count": 107,
   "id": "66ada010-14c9-4ef9-835c-e1f4700ada80",
   "metadata": {},
   "outputs": [
    {
     "data": {
      "text/plain": [
       "15706"
      ]
     },
     "execution_count": 107,
     "metadata": {},
     "output_type": "execute_result"
    }
   ],
   "source": [
    "# Intitialize the library, specify the space, the type of the vector and add data points \n",
    "index = nmslib.init(method='hnsw', space=space_name, data_type=nmslib.DataType.DENSE_VECTOR) \n",
    "index.addDataPointBatch(augmented_item_embeddings) "
   ]
  },
  {
   "cell_type": "code",
   "execution_count": 108,
   "id": "3a64ca6f-ee50-4b87-bcd4-750fb0a895ec",
   "metadata": {},
   "outputs": [
    {
     "name": "stdout",
     "output_type": "stream",
     "text": [
      "Index-time parameters {'M': 48, 'indexThreadQty': 4, 'efConstruction': 100}\n",
      "Indexing time = 0.161812\n"
     ]
    }
   ],
   "source": [
    "# Create an index\n",
    "start = time.time()\n",
    "index_time_params = {'M': M, 'indexThreadQty': num_threads, 'efConstruction': efC}\n",
    "index.createIndex(index_time_params) \n",
    "end = time.time() \n",
    "print('Index-time parameters', index_time_params)\n",
    "print('Indexing time = %f' % (end-start))"
   ]
  },
  {
   "cell_type": "code",
   "execution_count": 109,
   "id": "9e68df5e-a58a-418e-848e-9c89c82591c7",
   "metadata": {},
   "outputs": [
    {
     "name": "stdout",
     "output_type": "stream",
     "text": [
      "Setting query-time parameters {'efSearch': 100}\n"
     ]
    }
   ],
   "source": [
    "# Setting query-time parameters\n",
    "efS = 100\n",
    "query_time_params = {'efSearch': efS}\n",
    "print('Setting query-time parameters', query_time_params)\n",
    "index.setQueryTimeParams(query_time_params)"
   ]
  },
  {
   "cell_type": "code",
   "execution_count": 110,
   "id": "e7967ed7-a314-42e0-ade6-a995086df5f4",
   "metadata": {},
   "outputs": [
    {
     "name": "stdout",
     "output_type": "stream",
     "text": [
      "kNN time total=5.545326 (sec), per query=0.000006 (sec), per query adjusted for thread number=0.000023 (sec)\n"
     ]
    }
   ],
   "source": [
    "# Querying\n",
    "query_qty = augmented_user_embeddings.shape[0]\n",
    "start = time.time() \n",
    "nbrs = index.knnQueryBatch(augmented_user_embeddings, k = K, num_threads = num_threads)\n",
    "end = time.time() \n",
    "print('kNN time total=%f (sec), per query=%f (sec), per query adjusted for thread number=%f (sec)' % \n",
    "      (end-start, float(end-start)/query_qty, num_threads*float(end-start)/query_qty)) "
   ]
  },
  {
   "cell_type": "code",
   "execution_count": 111,
   "id": "253399eb-31ec-4f7b-be5e-f1f3f19ef46c",
   "metadata": {},
   "outputs": [
    {
     "data": {
      "text/plain": [
       "(array([ 32,  16,  25,  84, 235,  10,  21, 174,  68, 142]),\n",
       " array([42.023033, 42.034996, 42.409637, 42.454338, 42.6675  , 42.66977 ,\n",
       "        42.699825, 42.756584, 42.862514, 42.883026], dtype=float32))"
      ]
     },
     "execution_count": 111,
     "metadata": {},
     "output_type": "execute_result"
    }
   ],
   "source": [
    "nbrs[0]"
   ]
  },
  {
   "cell_type": "markdown",
   "id": "809729f4-0d2d-4c75-b292-55534b42d947",
   "metadata": {},
   "source": [
    "Скачаем решение ANN"
   ]
  },
  {
   "cell_type": "code",
   "execution_count": 116,
   "id": "45c266c2-8780-4e22-99c3-cd4a38d56f13",
   "metadata": {},
   "outputs": [
    {
     "data": {
      "text/plain": [
       "962179"
      ]
     },
     "execution_count": 116,
     "metadata": {},
     "output_type": "execute_result"
    }
   ],
   "source": [
    "all_users = interactions['user_id'].unique()\n",
    "len(all_users)"
   ]
  },
  {
   "cell_type": "code",
   "execution_count": 115,
   "id": "8387afdc-bab7-4efb-bc93-a74a03637937",
   "metadata": {},
   "outputs": [
    {
     "data": {
      "text/plain": [
       "962179"
      ]
     },
     "execution_count": 115,
     "metadata": {},
     "output_type": "execute_result"
    }
   ],
   "source": [
    "len(nbrs)"
   ]
  },
  {
   "cell_type": "code",
   "execution_count": 117,
   "id": "e7cf78ef-b6a7-4dc4-8c02-34aedef707bd",
   "metadata": {},
   "outputs": [],
   "source": [
    "recos = {all_users[i]: list(nbrs[i][0]) for i in range(len(nbrs))}"
   ]
  },
  {
   "cell_type": "code",
   "execution_count": 118,
   "id": "8ea89f76-d568-4c48-b3f9-5bb9a3ed3413",
   "metadata": {},
   "outputs": [],
   "source": [
    "with open('ANN_nmslib_lightfm_48.pkl', 'wb') as f:\n",
    "    pickle.dump(recos, f)"
   ]
  },
  {
   "cell_type": "markdown",
   "id": "c1d2beb1-9bd3-4613-994b-b3d0620109b5",
   "metadata": {},
   "source": [
    "# Cold users\n",
    "\n",
    "Сделать рекомендации для холодных пользователей используя их фичи (для кого нет фичей - там другим способом) **(3 балла)**"
   ]
  },
  {
   "cell_type": "markdown",
   "id": "12ad4f7e-0cd8-48f8-9053-ac83e4df9551",
   "metadata": {},
   "source": [
    "Для холодных юзеров буду использовать популярное как и в прошлый раз. Для теплых будем делать предсказание по соседям. Это все реализую в сервисе"
   ]
  },
  {
   "cell_type": "code",
   "execution_count": null,
   "id": "ef7d7b07-f9a9-4db1-a63d-50ca7af8338b",
   "metadata": {},
   "outputs": [],
   "source": []
  }
 ],
 "metadata": {
  "kernelspec": {
   "display_name": "Python 3 (ipykernel)",
   "language": "python",
   "name": "python3"
  },
  "language_info": {
   "codemirror_mode": {
    "name": "ipython",
    "version": 3
   },
   "file_extension": ".py",
   "mimetype": "text/x-python",
   "name": "python",
   "nbconvert_exporter": "python",
   "pygments_lexer": "ipython3",
   "version": "3.9.18"
  }
 },
 "nbformat": 4,
 "nbformat_minor": 5
}
