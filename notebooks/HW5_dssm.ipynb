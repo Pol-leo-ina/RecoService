{
 "cells": [
  {
   "cell_type": "code",
   "execution_count": 1,
   "id": "73d9fa3b",
   "metadata": {
    "ExecuteTime": {
     "end_time": "2021-10-28T18:39:51.562051Z",
     "start_time": "2021-10-28T18:39:49.474990Z"
    },
    "id": "73d9fa3b"
   },
   "outputs": [],
   "source": [
    "import ast\n",
    "import json\n",
    "import matplotlib.pyplot as plt\n",
    "import numpy as np\n",
    "import os\n",
    "import pandas as pd\n",
    "import pickle\n",
    "import tensorflow as tf\n",
    "import tensorflow.keras.backend as K\n",
    "import warnings\n",
    "warnings.filterwarnings('ignore')\n",
    "\n",
    "from collections import Counter\n",
    "from random import randint, random\n",
    "from scipy.sparse import coo_matrix, hstack\n",
    "from sklearn.metrics.pairwise import euclidean_distances, cosine_distances, cosine_similarity\n",
    "from tensorflow import keras\n",
    "from tqdm import tqdm\n",
    "from pathlib import Path"
   ]
  },
  {
   "cell_type": "markdown",
   "id": "0ce80627",
   "metadata": {
    "id": "0ce80627"
   },
   "source": [
    "## Load Data"
   ]
  },
  {
   "cell_type": "code",
   "execution_count": 2,
   "id": "ab8a9c95-786a-4ee9-aa27-cd2ac24c7e38",
   "metadata": {},
   "outputs": [],
   "source": [
    "DATA_PATH = Path(\"data_original\")"
   ]
  },
  {
   "cell_type": "code",
   "execution_count": 3,
   "id": "25508632",
   "metadata": {
    "ExecuteTime": {
     "end_time": "2021-10-28T18:39:51.661446Z",
     "start_time": "2021-10-28T18:39:51.563879Z"
    },
    "id": "25508632"
   },
   "outputs": [
    {
     "name": "stdout",
     "output_type": "stream",
     "text": [
      "CPU times: total: 1.05 s\n",
      "Wall time: 2.23 s\n"
     ]
    }
   ],
   "source": [
    "%%time\n",
    "users_df = pd.read_csv(DATA_PATH / 'users.csv')\n",
    "items_df = pd.read_csv(DATA_PATH / 'items.csv')\n",
    "interactions_df = pd.read_csv(DATA_PATH / 'interactions.csv')"
   ]
  },
  {
   "cell_type": "code",
   "execution_count": 4,
   "id": "61669d0d",
   "metadata": {
    "ExecuteTime": {
     "end_time": "2021-10-28T18:40:36.103997Z",
     "start_time": "2021-10-28T18:40:36.094699Z"
    },
    "id": "61669d0d"
   },
   "outputs": [],
   "source": [
    "items_df = items_df.rename(columns = {'id' : 'item_id'})"
   ]
  },
  {
   "cell_type": "markdown",
   "id": "cd252422",
   "metadata": {
    "id": "cd252422"
   },
   "source": [
    "## Features"
   ]
  },
  {
   "cell_type": "markdown",
   "id": "pBdccMPAr7KR",
   "metadata": {
    "id": "pBdccMPAr7KR"
   },
   "source": [
    "Посмотрим, какие фичи в датасете фильмов являются категориальными и закодируем их с помощью one-hot encoding."
   ]
  },
  {
   "cell_type": "code",
   "execution_count": 5,
   "id": "692270ac",
   "metadata": {
    "ExecuteTime": {
     "end_time": "2021-10-28T18:40:37.156260Z",
     "start_time": "2021-10-28T18:40:37.138422Z"
    },
    "colab": {
     "base_uri": "https://localhost:8080/",
     "height": 270
    },
    "id": "692270ac",
    "outputId": "7491ab1f-f9fb-4921-e383-7ecf5569e999"
   },
   "outputs": [
    {
     "data": {
      "text/html": [
       "<div>\n",
       "<style scoped>\n",
       "    .dataframe tbody tr th:only-of-type {\n",
       "        vertical-align: middle;\n",
       "    }\n",
       "\n",
       "    .dataframe tbody tr th {\n",
       "        vertical-align: top;\n",
       "    }\n",
       "\n",
       "    .dataframe thead th {\n",
       "        text-align: right;\n",
       "    }\n",
       "</style>\n",
       "<table border=\"1\" class=\"dataframe\">\n",
       "  <thead>\n",
       "    <tr style=\"text-align: right;\">\n",
       "      <th></th>\n",
       "      <th>user_id</th>\n",
       "      <th>age_age_18_24</th>\n",
       "      <th>age_age_25_34</th>\n",
       "      <th>age_age_35_44</th>\n",
       "      <th>age_age_45_54</th>\n",
       "      <th>age_age_55_64</th>\n",
       "      <th>age_age_65_inf</th>\n",
       "      <th>income_income_0_20</th>\n",
       "      <th>income_income_150_inf</th>\n",
       "      <th>income_income_20_40</th>\n",
       "      <th>income_income_40_60</th>\n",
       "      <th>income_income_60_90</th>\n",
       "      <th>income_income_90_150</th>\n",
       "      <th>sex_Ж</th>\n",
       "      <th>sex_М</th>\n",
       "      <th>kids_flg_0</th>\n",
       "      <th>kids_flg_1</th>\n",
       "    </tr>\n",
       "  </thead>\n",
       "  <tbody>\n",
       "    <tr>\n",
       "      <th>0</th>\n",
       "      <td>973171</td>\n",
       "      <td>False</td>\n",
       "      <td>True</td>\n",
       "      <td>False</td>\n",
       "      <td>False</td>\n",
       "      <td>False</td>\n",
       "      <td>False</td>\n",
       "      <td>False</td>\n",
       "      <td>False</td>\n",
       "      <td>False</td>\n",
       "      <td>False</td>\n",
       "      <td>True</td>\n",
       "      <td>False</td>\n",
       "      <td>False</td>\n",
       "      <td>True</td>\n",
       "      <td>False</td>\n",
       "      <td>True</td>\n",
       "    </tr>\n",
       "    <tr>\n",
       "      <th>1</th>\n",
       "      <td>962099</td>\n",
       "      <td>True</td>\n",
       "      <td>False</td>\n",
       "      <td>False</td>\n",
       "      <td>False</td>\n",
       "      <td>False</td>\n",
       "      <td>False</td>\n",
       "      <td>False</td>\n",
       "      <td>False</td>\n",
       "      <td>True</td>\n",
       "      <td>False</td>\n",
       "      <td>False</td>\n",
       "      <td>False</td>\n",
       "      <td>False</td>\n",
       "      <td>True</td>\n",
       "      <td>True</td>\n",
       "      <td>False</td>\n",
       "    </tr>\n",
       "    <tr>\n",
       "      <th>2</th>\n",
       "      <td>1047345</td>\n",
       "      <td>False</td>\n",
       "      <td>False</td>\n",
       "      <td>False</td>\n",
       "      <td>True</td>\n",
       "      <td>False</td>\n",
       "      <td>False</td>\n",
       "      <td>False</td>\n",
       "      <td>False</td>\n",
       "      <td>False</td>\n",
       "      <td>True</td>\n",
       "      <td>False</td>\n",
       "      <td>False</td>\n",
       "      <td>True</td>\n",
       "      <td>False</td>\n",
       "      <td>True</td>\n",
       "      <td>False</td>\n",
       "    </tr>\n",
       "    <tr>\n",
       "      <th>3</th>\n",
       "      <td>721985</td>\n",
       "      <td>False</td>\n",
       "      <td>False</td>\n",
       "      <td>False</td>\n",
       "      <td>True</td>\n",
       "      <td>False</td>\n",
       "      <td>False</td>\n",
       "      <td>False</td>\n",
       "      <td>False</td>\n",
       "      <td>True</td>\n",
       "      <td>False</td>\n",
       "      <td>False</td>\n",
       "      <td>False</td>\n",
       "      <td>True</td>\n",
       "      <td>False</td>\n",
       "      <td>True</td>\n",
       "      <td>False</td>\n",
       "    </tr>\n",
       "    <tr>\n",
       "      <th>4</th>\n",
       "      <td>704055</td>\n",
       "      <td>False</td>\n",
       "      <td>False</td>\n",
       "      <td>True</td>\n",
       "      <td>False</td>\n",
       "      <td>False</td>\n",
       "      <td>False</td>\n",
       "      <td>False</td>\n",
       "      <td>False</td>\n",
       "      <td>False</td>\n",
       "      <td>False</td>\n",
       "      <td>True</td>\n",
       "      <td>False</td>\n",
       "      <td>True</td>\n",
       "      <td>False</td>\n",
       "      <td>True</td>\n",
       "      <td>False</td>\n",
       "    </tr>\n",
       "  </tbody>\n",
       "</table>\n",
       "</div>"
      ],
      "text/plain": [
       "   user_id  age_age_18_24  age_age_25_34  age_age_35_44  age_age_45_54  \\\n",
       "0   973171          False           True          False          False   \n",
       "1   962099           True          False          False          False   \n",
       "2  1047345          False          False          False           True   \n",
       "3   721985          False          False          False           True   \n",
       "4   704055          False          False           True          False   \n",
       "\n",
       "   age_age_55_64  age_age_65_inf  income_income_0_20  income_income_150_inf  \\\n",
       "0          False           False               False                  False   \n",
       "1          False           False               False                  False   \n",
       "2          False           False               False                  False   \n",
       "3          False           False               False                  False   \n",
       "4          False           False               False                  False   \n",
       "\n",
       "   income_income_20_40  income_income_40_60  income_income_60_90  \\\n",
       "0                False                False                 True   \n",
       "1                 True                False                False   \n",
       "2                False                 True                False   \n",
       "3                 True                False                False   \n",
       "4                False                False                 True   \n",
       "\n",
       "   income_income_90_150  sex_Ж  sex_М  kids_flg_0  kids_flg_1  \n",
       "0                 False  False   True       False        True  \n",
       "1                 False  False   True        True       False  \n",
       "2                 False   True  False        True       False  \n",
       "3                 False   True  False        True       False  \n",
       "4                 False   True  False        True       False  "
      ]
     },
     "execution_count": 5,
     "metadata": {},
     "output_type": "execute_result"
    }
   ],
   "source": [
    "user_cat_feats = [\"age\", \"income\", \"sex\", \"kids_flg\"]\n",
    "# из исходного датафрейма оставим только item_id - этот признак нам понадобится позже\n",
    "# для того, чтобы маппить айтемы из датафрейма с фильмами с айтемами \n",
    "# из датафрейма с взаимодействиями\n",
    "users_ohe_df = users_df.user_id\n",
    "for feat in user_cat_feats:\n",
    "    # получаем датафрейм с one-hot encoding для каждой категориальной фичи\n",
    "    ohe_feat_df = pd.get_dummies(users_df[feat], prefix=feat)\n",
    "    # конкатенируем ohe-hot датафрейм с датафреймом, \n",
    "    # который мы получили на предыдущем шаге\n",
    "    users_ohe_df = pd.concat([users_ohe_df, ohe_feat_df], axis=1)\n",
    "\n",
    "users_ohe_df.head()\n"
   ]
  },
  {
   "cell_type": "code",
   "execution_count": 6,
   "id": "0e469bde-9dff-456f-b6f6-66b908580392",
   "metadata": {
    "ExecuteTime": {
     "end_time": "2021-10-28T18:40:37.792147Z",
     "start_time": "2021-10-28T18:40:37.537501Z"
    },
    "colab": {
     "base_uri": "https://localhost:8080/",
     "height": 421
    },
    "id": "7a94ef7e",
    "outputId": "1ea7a769-8c2d-43d5-f2cb-47500bc0a7ba"
   },
   "outputs": [
    {
     "data": {
      "text/html": [
       "<div>\n",
       "<style scoped>\n",
       "    .dataframe tbody tr th:only-of-type {\n",
       "        vertical-align: middle;\n",
       "    }\n",
       "\n",
       "    .dataframe tbody tr th {\n",
       "        vertical-align: top;\n",
       "    }\n",
       "\n",
       "    .dataframe thead th {\n",
       "        text-align: right;\n",
       "    }\n",
       "</style>\n",
       "<table border=\"1\" class=\"dataframe\">\n",
       "  <thead>\n",
       "    <tr style=\"text-align: right;\">\n",
       "      <th></th>\n",
       "      <th>item_id</th>\n",
       "      <th>content_type_film</th>\n",
       "      <th>content_type_series</th>\n",
       "      <th>release_year_1897.0</th>\n",
       "      <th>release_year_1916.0</th>\n",
       "      <th>release_year_1917.0</th>\n",
       "      <th>release_year_1918.0</th>\n",
       "      <th>release_year_1920.0</th>\n",
       "      <th>release_year_1921.0</th>\n",
       "      <th>release_year_1922.0</th>\n",
       "      <th>...</th>\n",
       "      <th>directors_Яннике Систад Якобсен</th>\n",
       "      <th>directors_Янус Мец</th>\n",
       "      <th>directors_Ярив Хоровиц</th>\n",
       "      <th>directors_Ярон Зильберман</th>\n",
       "      <th>directors_Ярополк Лапшин</th>\n",
       "      <th>directors_Ярослав Лупий</th>\n",
       "      <th>directors_Ярроу Чейни, Скотт Моужер</th>\n",
       "      <th>directors_Ясина Сезар</th>\n",
       "      <th>directors_Ясуоми Умэцу</th>\n",
       "      <th>directors_сения Завьялова</th>\n",
       "    </tr>\n",
       "  </thead>\n",
       "  <tbody>\n",
       "    <tr>\n",
       "      <th>0</th>\n",
       "      <td>10711</td>\n",
       "      <td>True</td>\n",
       "      <td>False</td>\n",
       "      <td>False</td>\n",
       "      <td>False</td>\n",
       "      <td>False</td>\n",
       "      <td>False</td>\n",
       "      <td>False</td>\n",
       "      <td>False</td>\n",
       "      <td>False</td>\n",
       "      <td>...</td>\n",
       "      <td>False</td>\n",
       "      <td>False</td>\n",
       "      <td>False</td>\n",
       "      <td>False</td>\n",
       "      <td>False</td>\n",
       "      <td>False</td>\n",
       "      <td>False</td>\n",
       "      <td>False</td>\n",
       "      <td>False</td>\n",
       "      <td>False</td>\n",
       "    </tr>\n",
       "    <tr>\n",
       "      <th>1</th>\n",
       "      <td>2508</td>\n",
       "      <td>True</td>\n",
       "      <td>False</td>\n",
       "      <td>False</td>\n",
       "      <td>False</td>\n",
       "      <td>False</td>\n",
       "      <td>False</td>\n",
       "      <td>False</td>\n",
       "      <td>False</td>\n",
       "      <td>False</td>\n",
       "      <td>...</td>\n",
       "      <td>False</td>\n",
       "      <td>False</td>\n",
       "      <td>False</td>\n",
       "      <td>False</td>\n",
       "      <td>False</td>\n",
       "      <td>False</td>\n",
       "      <td>False</td>\n",
       "      <td>False</td>\n",
       "      <td>False</td>\n",
       "      <td>False</td>\n",
       "    </tr>\n",
       "    <tr>\n",
       "      <th>2</th>\n",
       "      <td>10716</td>\n",
       "      <td>True</td>\n",
       "      <td>False</td>\n",
       "      <td>False</td>\n",
       "      <td>False</td>\n",
       "      <td>False</td>\n",
       "      <td>False</td>\n",
       "      <td>False</td>\n",
       "      <td>False</td>\n",
       "      <td>False</td>\n",
       "      <td>...</td>\n",
       "      <td>False</td>\n",
       "      <td>False</td>\n",
       "      <td>False</td>\n",
       "      <td>False</td>\n",
       "      <td>False</td>\n",
       "      <td>False</td>\n",
       "      <td>False</td>\n",
       "      <td>False</td>\n",
       "      <td>False</td>\n",
       "      <td>False</td>\n",
       "    </tr>\n",
       "    <tr>\n",
       "      <th>3</th>\n",
       "      <td>7868</td>\n",
       "      <td>True</td>\n",
       "      <td>False</td>\n",
       "      <td>False</td>\n",
       "      <td>False</td>\n",
       "      <td>False</td>\n",
       "      <td>False</td>\n",
       "      <td>False</td>\n",
       "      <td>False</td>\n",
       "      <td>False</td>\n",
       "      <td>...</td>\n",
       "      <td>False</td>\n",
       "      <td>False</td>\n",
       "      <td>False</td>\n",
       "      <td>False</td>\n",
       "      <td>False</td>\n",
       "      <td>False</td>\n",
       "      <td>False</td>\n",
       "      <td>False</td>\n",
       "      <td>False</td>\n",
       "      <td>False</td>\n",
       "    </tr>\n",
       "    <tr>\n",
       "      <th>4</th>\n",
       "      <td>16268</td>\n",
       "      <td>True</td>\n",
       "      <td>False</td>\n",
       "      <td>False</td>\n",
       "      <td>False</td>\n",
       "      <td>False</td>\n",
       "      <td>False</td>\n",
       "      <td>False</td>\n",
       "      <td>False</td>\n",
       "      <td>False</td>\n",
       "      <td>...</td>\n",
       "      <td>False</td>\n",
       "      <td>False</td>\n",
       "      <td>False</td>\n",
       "      <td>False</td>\n",
       "      <td>False</td>\n",
       "      <td>False</td>\n",
       "      <td>False</td>\n",
       "      <td>False</td>\n",
       "      <td>False</td>\n",
       "      <td>False</td>\n",
       "    </tr>\n",
       "  </tbody>\n",
       "</table>\n",
       "<p>5 rows × 8814 columns</p>\n",
       "</div>"
      ],
      "text/plain": [
       "   item_id  content_type_film  content_type_series  release_year_1897.0  \\\n",
       "0    10711               True                False                False   \n",
       "1     2508               True                False                False   \n",
       "2    10716               True                False                False   \n",
       "3     7868               True                False                False   \n",
       "4    16268               True                False                False   \n",
       "\n",
       "   release_year_1916.0  release_year_1917.0  release_year_1918.0  \\\n",
       "0                False                False                False   \n",
       "1                False                False                False   \n",
       "2                False                False                False   \n",
       "3                False                False                False   \n",
       "4                False                False                False   \n",
       "\n",
       "   release_year_1920.0  release_year_1921.0  release_year_1922.0  ...  \\\n",
       "0                False                False                False  ...   \n",
       "1                False                False                False  ...   \n",
       "2                False                False                False  ...   \n",
       "3                False                False                False  ...   \n",
       "4                False                False                False  ...   \n",
       "\n",
       "   directors_Яннике Систад Якобсен  directors_Янус Мец  \\\n",
       "0                            False               False   \n",
       "1                            False               False   \n",
       "2                            False               False   \n",
       "3                            False               False   \n",
       "4                            False               False   \n",
       "\n",
       "   directors_Ярив Хоровиц  directors_Ярон Зильберман  \\\n",
       "0                   False                      False   \n",
       "1                   False                      False   \n",
       "2                   False                      False   \n",
       "3                   False                      False   \n",
       "4                   False                      False   \n",
       "\n",
       "   directors_Ярополк Лапшин  directors_Ярослав Лупий  \\\n",
       "0                     False                    False   \n",
       "1                     False                    False   \n",
       "2                     False                    False   \n",
       "3                     False                    False   \n",
       "4                     False                    False   \n",
       "\n",
       "   directors_Ярроу Чейни, Скотт Моужер  directors_Ясина Сезар  \\\n",
       "0                                False                  False   \n",
       "1                                False                  False   \n",
       "2                                False                  False   \n",
       "3                                False                  False   \n",
       "4                                False                  False   \n",
       "\n",
       "   directors_Ясуоми Умэцу  directors_сения Завьялова  \n",
       "0                   False                      False  \n",
       "1                   False                      False  \n",
       "2                   False                      False  \n",
       "3                   False                      False  \n",
       "4                   False                      False  \n",
       "\n",
       "[5 rows x 8814 columns]"
      ]
     },
     "execution_count": 6,
     "metadata": {},
     "output_type": "execute_result"
    }
   ],
   "source": [
    "item_cat_feats = ['content_type', 'release_year',\n",
    "                  'for_kids', 'age_rating', \n",
    "                  'studios', 'countries', 'directors']\n",
    "\n",
    "items_ohe_df = items_df.item_id\n",
    "\n",
    "for feat in item_cat_feats:\n",
    "    ohe_feat_df = pd.get_dummies(items_df[feat], prefix=feat)\n",
    "    items_ohe_df = pd.concat([items_ohe_df, ohe_feat_df], axis=1) \n",
    "\n",
    "items_ohe_df.head()"
   ]
  },
  {
   "cell_type": "markdown",
   "id": "666eb766-bbe3-4cc5-959f-25684e58f48a",
   "metadata": {},
   "source": [
    "### Текстовые признаки\n",
    "Добавить текстовые признаки в модель. (3 балла)\n",
    "TfidfVectorizer"
   ]
  },
  {
   "cell_type": "code",
   "execution_count": 7,
   "id": "adcbed93-d250-4cbe-9160-1693c0dea36e",
   "metadata": {},
   "outputs": [],
   "source": [
    "from sklearn.feature_extraction.text import TfidfVectorizer"
   ]
  },
  {
   "cell_type": "code",
   "execution_count": 8,
   "id": "9cb5e8eb-a5e1-46ab-8463-f9ead4622cdd",
   "metadata": {},
   "outputs": [],
   "source": [
    "for column in ['description', 'keywords']:\n",
    "    features_clean = items_df[column][items_df[column].notnull()]\n",
    "    vectorizer = TfidfVectorizer(max_features=500)\n",
    "    tfidf_m = vectorizer.fit_transform(features_clean.to_list())\n",
    "    df_vectirized = pd.DataFrame.sparse.from_spmatrix(tfidf_m)\n",
    "    df_vectirized.columns = [column + '_' + str(x) for x in df_vectirized.columns]\n",
    "    items_ohe_df = pd.concat([items_ohe_df, df_vectirized], axis = 1)\n",
    "    "
   ]
  },
  {
   "cell_type": "code",
   "execution_count": 9,
   "id": "f4fa2816-79f8-4ffd-ae6a-bb9562adb15d",
   "metadata": {},
   "outputs": [
    {
     "data": {
      "text/html": [
       "<div>\n",
       "<style scoped>\n",
       "    .dataframe tbody tr th:only-of-type {\n",
       "        vertical-align: middle;\n",
       "    }\n",
       "\n",
       "    .dataframe tbody tr th {\n",
       "        vertical-align: top;\n",
       "    }\n",
       "\n",
       "    .dataframe thead th {\n",
       "        text-align: right;\n",
       "    }\n",
       "</style>\n",
       "<table border=\"1\" class=\"dataframe\">\n",
       "  <thead>\n",
       "    <tr style=\"text-align: right;\">\n",
       "      <th></th>\n",
       "      <th>item_id</th>\n",
       "      <th>content_type_film</th>\n",
       "      <th>content_type_series</th>\n",
       "      <th>release_year_1897.0</th>\n",
       "      <th>release_year_1916.0</th>\n",
       "      <th>release_year_1917.0</th>\n",
       "      <th>release_year_1918.0</th>\n",
       "      <th>release_year_1920.0</th>\n",
       "      <th>release_year_1921.0</th>\n",
       "      <th>release_year_1922.0</th>\n",
       "      <th>...</th>\n",
       "      <th>keywords_490</th>\n",
       "      <th>keywords_491</th>\n",
       "      <th>keywords_492</th>\n",
       "      <th>keywords_493</th>\n",
       "      <th>keywords_494</th>\n",
       "      <th>keywords_495</th>\n",
       "      <th>keywords_496</th>\n",
       "      <th>keywords_497</th>\n",
       "      <th>keywords_498</th>\n",
       "      <th>keywords_499</th>\n",
       "    </tr>\n",
       "  </thead>\n",
       "  <tbody>\n",
       "    <tr>\n",
       "      <th>0</th>\n",
       "      <td>10711</td>\n",
       "      <td>True</td>\n",
       "      <td>False</td>\n",
       "      <td>False</td>\n",
       "      <td>False</td>\n",
       "      <td>False</td>\n",
       "      <td>False</td>\n",
       "      <td>False</td>\n",
       "      <td>False</td>\n",
       "      <td>False</td>\n",
       "      <td>...</td>\n",
       "      <td>0.0</td>\n",
       "      <td>0.0</td>\n",
       "      <td>0.0</td>\n",
       "      <td>0.0</td>\n",
       "      <td>0.0</td>\n",
       "      <td>0.0</td>\n",
       "      <td>0.0</td>\n",
       "      <td>0.0</td>\n",
       "      <td>0.0</td>\n",
       "      <td>0.0</td>\n",
       "    </tr>\n",
       "    <tr>\n",
       "      <th>1</th>\n",
       "      <td>2508</td>\n",
       "      <td>True</td>\n",
       "      <td>False</td>\n",
       "      <td>False</td>\n",
       "      <td>False</td>\n",
       "      <td>False</td>\n",
       "      <td>False</td>\n",
       "      <td>False</td>\n",
       "      <td>False</td>\n",
       "      <td>False</td>\n",
       "      <td>...</td>\n",
       "      <td>0.0</td>\n",
       "      <td>0.0</td>\n",
       "      <td>0.0</td>\n",
       "      <td>0.0</td>\n",
       "      <td>0.0</td>\n",
       "      <td>0.0</td>\n",
       "      <td>0.0</td>\n",
       "      <td>0.0</td>\n",
       "      <td>0.0</td>\n",
       "      <td>0.0</td>\n",
       "    </tr>\n",
       "    <tr>\n",
       "      <th>2</th>\n",
       "      <td>10716</td>\n",
       "      <td>True</td>\n",
       "      <td>False</td>\n",
       "      <td>False</td>\n",
       "      <td>False</td>\n",
       "      <td>False</td>\n",
       "      <td>False</td>\n",
       "      <td>False</td>\n",
       "      <td>False</td>\n",
       "      <td>False</td>\n",
       "      <td>...</td>\n",
       "      <td>0.0</td>\n",
       "      <td>0.0</td>\n",
       "      <td>0.0</td>\n",
       "      <td>0.0</td>\n",
       "      <td>0.0</td>\n",
       "      <td>0.0</td>\n",
       "      <td>0.0</td>\n",
       "      <td>0.0</td>\n",
       "      <td>0.0</td>\n",
       "      <td>0.0</td>\n",
       "    </tr>\n",
       "    <tr>\n",
       "      <th>3</th>\n",
       "      <td>7868</td>\n",
       "      <td>True</td>\n",
       "      <td>False</td>\n",
       "      <td>False</td>\n",
       "      <td>False</td>\n",
       "      <td>False</td>\n",
       "      <td>False</td>\n",
       "      <td>False</td>\n",
       "      <td>False</td>\n",
       "      <td>False</td>\n",
       "      <td>...</td>\n",
       "      <td>0.0</td>\n",
       "      <td>0.0</td>\n",
       "      <td>0.0</td>\n",
       "      <td>0.0</td>\n",
       "      <td>0.0</td>\n",
       "      <td>0.0</td>\n",
       "      <td>0.0</td>\n",
       "      <td>0.0</td>\n",
       "      <td>0.0</td>\n",
       "      <td>0.0</td>\n",
       "    </tr>\n",
       "    <tr>\n",
       "      <th>4</th>\n",
       "      <td>16268</td>\n",
       "      <td>True</td>\n",
       "      <td>False</td>\n",
       "      <td>False</td>\n",
       "      <td>False</td>\n",
       "      <td>False</td>\n",
       "      <td>False</td>\n",
       "      <td>False</td>\n",
       "      <td>False</td>\n",
       "      <td>False</td>\n",
       "      <td>...</td>\n",
       "      <td>0.0</td>\n",
       "      <td>0.0</td>\n",
       "      <td>0.0</td>\n",
       "      <td>0.0</td>\n",
       "      <td>0.0</td>\n",
       "      <td>0.0</td>\n",
       "      <td>0.0</td>\n",
       "      <td>0.0</td>\n",
       "      <td>0.0</td>\n",
       "      <td>0.0</td>\n",
       "    </tr>\n",
       "    <tr>\n",
       "      <th>...</th>\n",
       "      <td>...</td>\n",
       "      <td>...</td>\n",
       "      <td>...</td>\n",
       "      <td>...</td>\n",
       "      <td>...</td>\n",
       "      <td>...</td>\n",
       "      <td>...</td>\n",
       "      <td>...</td>\n",
       "      <td>...</td>\n",
       "      <td>...</td>\n",
       "      <td>...</td>\n",
       "      <td>...</td>\n",
       "      <td>...</td>\n",
       "      <td>...</td>\n",
       "      <td>...</td>\n",
       "      <td>...</td>\n",
       "      <td>...</td>\n",
       "      <td>...</td>\n",
       "      <td>...</td>\n",
       "      <td>...</td>\n",
       "      <td>...</td>\n",
       "    </tr>\n",
       "    <tr>\n",
       "      <th>15958</th>\n",
       "      <td>6443</td>\n",
       "      <td>False</td>\n",
       "      <td>True</td>\n",
       "      <td>False</td>\n",
       "      <td>False</td>\n",
       "      <td>False</td>\n",
       "      <td>False</td>\n",
       "      <td>False</td>\n",
       "      <td>False</td>\n",
       "      <td>False</td>\n",
       "      <td>...</td>\n",
       "      <td>0.0</td>\n",
       "      <td>0.0</td>\n",
       "      <td>0.0</td>\n",
       "      <td>0.0</td>\n",
       "      <td>0.0</td>\n",
       "      <td>0.0</td>\n",
       "      <td>0.0</td>\n",
       "      <td>0.0</td>\n",
       "      <td>0.0</td>\n",
       "      <td>0.0</td>\n",
       "    </tr>\n",
       "    <tr>\n",
       "      <th>15959</th>\n",
       "      <td>2367</td>\n",
       "      <td>False</td>\n",
       "      <td>True</td>\n",
       "      <td>False</td>\n",
       "      <td>False</td>\n",
       "      <td>False</td>\n",
       "      <td>False</td>\n",
       "      <td>False</td>\n",
       "      <td>False</td>\n",
       "      <td>False</td>\n",
       "      <td>...</td>\n",
       "      <td>0.0</td>\n",
       "      <td>0.0</td>\n",
       "      <td>0.0</td>\n",
       "      <td>0.0</td>\n",
       "      <td>0.0</td>\n",
       "      <td>0.0</td>\n",
       "      <td>0.0</td>\n",
       "      <td>0.0</td>\n",
       "      <td>0.0</td>\n",
       "      <td>0.0</td>\n",
       "    </tr>\n",
       "    <tr>\n",
       "      <th>15960</th>\n",
       "      <td>10632</td>\n",
       "      <td>False</td>\n",
       "      <td>True</td>\n",
       "      <td>False</td>\n",
       "      <td>False</td>\n",
       "      <td>False</td>\n",
       "      <td>False</td>\n",
       "      <td>False</td>\n",
       "      <td>False</td>\n",
       "      <td>False</td>\n",
       "      <td>...</td>\n",
       "      <td>0.0</td>\n",
       "      <td>0.0</td>\n",
       "      <td>0.0</td>\n",
       "      <td>0.0</td>\n",
       "      <td>0.0</td>\n",
       "      <td>0.0</td>\n",
       "      <td>0.0</td>\n",
       "      <td>0.0</td>\n",
       "      <td>0.0</td>\n",
       "      <td>0.0</td>\n",
       "    </tr>\n",
       "    <tr>\n",
       "      <th>15961</th>\n",
       "      <td>4538</td>\n",
       "      <td>False</td>\n",
       "      <td>True</td>\n",
       "      <td>False</td>\n",
       "      <td>False</td>\n",
       "      <td>False</td>\n",
       "      <td>False</td>\n",
       "      <td>False</td>\n",
       "      <td>False</td>\n",
       "      <td>False</td>\n",
       "      <td>...</td>\n",
       "      <td>0.0</td>\n",
       "      <td>0.0</td>\n",
       "      <td>0.0</td>\n",
       "      <td>0.0</td>\n",
       "      <td>0.0</td>\n",
       "      <td>0.0</td>\n",
       "      <td>0.0</td>\n",
       "      <td>0.0</td>\n",
       "      <td>0.0</td>\n",
       "      <td>0.0</td>\n",
       "    </tr>\n",
       "    <tr>\n",
       "      <th>15962</th>\n",
       "      <td>3206</td>\n",
       "      <td>False</td>\n",
       "      <td>True</td>\n",
       "      <td>False</td>\n",
       "      <td>False</td>\n",
       "      <td>False</td>\n",
       "      <td>False</td>\n",
       "      <td>False</td>\n",
       "      <td>False</td>\n",
       "      <td>False</td>\n",
       "      <td>...</td>\n",
       "      <td>0.0</td>\n",
       "      <td>0.0</td>\n",
       "      <td>0.0</td>\n",
       "      <td>0.0</td>\n",
       "      <td>0.0</td>\n",
       "      <td>0.0</td>\n",
       "      <td>0.0</td>\n",
       "      <td>0.0</td>\n",
       "      <td>0.0</td>\n",
       "      <td>0.0</td>\n",
       "    </tr>\n",
       "  </tbody>\n",
       "</table>\n",
       "<p>15963 rows × 9814 columns</p>\n",
       "</div>"
      ],
      "text/plain": [
       "       item_id  content_type_film  content_type_series  release_year_1897.0  \\\n",
       "0        10711               True                False                False   \n",
       "1         2508               True                False                False   \n",
       "2        10716               True                False                False   \n",
       "3         7868               True                False                False   \n",
       "4        16268               True                False                False   \n",
       "...        ...                ...                  ...                  ...   \n",
       "15958     6443              False                 True                False   \n",
       "15959     2367              False                 True                False   \n",
       "15960    10632              False                 True                False   \n",
       "15961     4538              False                 True                False   \n",
       "15962     3206              False                 True                False   \n",
       "\n",
       "       release_year_1916.0  release_year_1917.0  release_year_1918.0  \\\n",
       "0                    False                False                False   \n",
       "1                    False                False                False   \n",
       "2                    False                False                False   \n",
       "3                    False                False                False   \n",
       "4                    False                False                False   \n",
       "...                    ...                  ...                  ...   \n",
       "15958                False                False                False   \n",
       "15959                False                False                False   \n",
       "15960                False                False                False   \n",
       "15961                False                False                False   \n",
       "15962                False                False                False   \n",
       "\n",
       "       release_year_1920.0  release_year_1921.0  release_year_1922.0  ...  \\\n",
       "0                    False                False                False  ...   \n",
       "1                    False                False                False  ...   \n",
       "2                    False                False                False  ...   \n",
       "3                    False                False                False  ...   \n",
       "4                    False                False                False  ...   \n",
       "...                    ...                  ...                  ...  ...   \n",
       "15958                False                False                False  ...   \n",
       "15959                False                False                False  ...   \n",
       "15960                False                False                False  ...   \n",
       "15961                False                False                False  ...   \n",
       "15962                False                False                False  ...   \n",
       "\n",
       "       keywords_490  keywords_491  keywords_492  keywords_493  keywords_494  \\\n",
       "0               0.0           0.0           0.0           0.0           0.0   \n",
       "1               0.0           0.0           0.0           0.0           0.0   \n",
       "2               0.0           0.0           0.0           0.0           0.0   \n",
       "3               0.0           0.0           0.0           0.0           0.0   \n",
       "4               0.0           0.0           0.0           0.0           0.0   \n",
       "...             ...           ...           ...           ...           ...   \n",
       "15958           0.0           0.0           0.0           0.0           0.0   \n",
       "15959           0.0           0.0           0.0           0.0           0.0   \n",
       "15960           0.0           0.0           0.0           0.0           0.0   \n",
       "15961           0.0           0.0           0.0           0.0           0.0   \n",
       "15962           0.0           0.0           0.0           0.0           0.0   \n",
       "\n",
       "       keywords_495  keywords_496  keywords_497  keywords_498  keywords_499  \n",
       "0               0.0           0.0           0.0           0.0           0.0  \n",
       "1               0.0           0.0           0.0           0.0           0.0  \n",
       "2               0.0           0.0           0.0           0.0           0.0  \n",
       "3               0.0           0.0           0.0           0.0           0.0  \n",
       "4               0.0           0.0           0.0           0.0           0.0  \n",
       "...             ...           ...           ...           ...           ...  \n",
       "15958           0.0           0.0           0.0           0.0           0.0  \n",
       "15959           0.0           0.0           0.0           0.0           0.0  \n",
       "15960           0.0           0.0           0.0           0.0           0.0  \n",
       "15961           0.0           0.0           0.0           0.0           0.0  \n",
       "15962           0.0           0.0           0.0           0.0           0.0  \n",
       "\n",
       "[15963 rows x 9814 columns]"
      ]
     },
     "execution_count": 9,
     "metadata": {},
     "output_type": "execute_result"
    }
   ],
   "source": [
    "items_ohe_df = items_ohe_df.fillna(0)\n",
    "items_ohe_df"
   ]
  },
  {
   "cell_type": "markdown",
   "id": "cc595c20",
   "metadata": {
    "id": "cc595c20"
   },
   "source": [
    "### Сделаем матрицу взаимодействий"
   ]
  },
  {
   "cell_type": "code",
   "execution_count": 10,
   "id": "79c9bca3",
   "metadata": {
    "ExecuteTime": {
     "end_time": "2021-10-28T18:40:37.898427Z",
     "start_time": "2021-10-28T18:40:37.864067Z"
    },
    "colab": {
     "base_uri": "https://localhost:8080/"
    },
    "id": "79c9bca3",
    "outputId": "6f6148e0-8de7-4ffc-82d9-cf396db1ed98"
   },
   "outputs": [
    {
     "data": {
      "text/plain": [
       "item_id\n",
       "10440    202457\n",
       "15297    193123\n",
       "9728     132865\n",
       "13865    122119\n",
       "4151      91167\n",
       "          ...  \n",
       "8076          1\n",
       "8954          1\n",
       "15664         1\n",
       "818           1\n",
       "10542         1\n",
       "Name: count, Length: 15706, dtype: int64"
      ]
     },
     "execution_count": 10,
     "metadata": {},
     "output_type": "execute_result"
    }
   ],
   "source": [
    "interactions_df.item_id.value_counts()"
   ]
  },
  {
   "cell_type": "markdown",
   "id": "YAfqm8asrBfG",
   "metadata": {
    "id": "YAfqm8asrBfG"
   },
   "source": [
    "В датасете взаимодействий есть непопулярные фильмы и малоактивные пользователи. Кроме того, в таблице взаимодействий есть события с низким качеством взаимодействия - когда юзер начал смотреть фильм, но вскоре после начала просмотра выключил.\n",
    "\n",
    "Отфильтруем такие события*, малоактивных юзеров и непопулярные фильмы.\n",
    "\n",
    "Можете не фильтровать такие события, тогда у вас будет больше негативных примеров."
   ]
  },
  {
   "cell_type": "code",
   "execution_count": 11,
   "id": "17334e80",
   "metadata": {
    "ExecuteTime": {
     "end_time": "2021-10-28T18:40:38.103819Z",
     "start_time": "2021-10-28T18:40:38.070117Z"
    },
    "colab": {
     "base_uri": "https://localhost:8080/"
    },
    "id": "17334e80",
    "outputId": "bfbe26dd-7778-42ad-c5dd-283635fcafa6"
   },
   "outputs": [
    {
     "data": {
      "text/plain": [
       "user_id\n",
       "416206     1341\n",
       "1010539     764\n",
       "555233      685\n",
       "11526       676\n",
       "409259      625\n",
       "           ... \n",
       "45493         1\n",
       "615194        1\n",
       "96848         1\n",
       "425823        1\n",
       "697262        1\n",
       "Name: count, Length: 962179, dtype: int64"
      ]
     },
     "execution_count": 11,
     "metadata": {},
     "output_type": "execute_result"
    }
   ],
   "source": [
    "interactions_df.user_id.value_counts()"
   ]
  },
  {
   "cell_type": "code",
   "execution_count": 20,
   "id": "076e4ebc",
   "metadata": {
    "ExecuteTime": {
     "end_time": "2021-10-28T18:40:39.717096Z",
     "start_time": "2021-10-28T18:40:38.759740Z"
    },
    "colab": {
     "base_uri": "https://localhost:8080/"
    },
    "id": "076e4ebc",
    "outputId": "85c15fd2-12bb-478c-e00f-4f2b7bbcd6ab"
   },
   "outputs": [
    {
     "name": "stdout",
     "output_type": "stream",
     "text": [
      "N users before: 65974\n",
      "N items before: 6897\n",
      "\n",
      "N users after: 65552\n",
      "N items after: 5303\n"
     ]
    }
   ],
   "source": [
    "print(f\"N users before: {interactions_df.user_id.nunique()}\")\n",
    "print(f\"N items before: {interactions_df.item_id.nunique()}\\n\")\n",
    "\n",
    "# отфильтруем все события взаимодействий, в которых пользователь посмотрел\n",
    "# фильм менее чем на 10 процентов\n",
    "interactions_df = interactions_df[interactions_df.watched_pct > 10]\n",
    "\n",
    "# соберем всех пользователей, которые посмотрели \n",
    "# больше 10 фильмов (можете выбрать другой порог)\n",
    "valid_users = []\n",
    "\n",
    "c = Counter(interactions_df.user_id)\n",
    "for user_id, entries in c.most_common():\n",
    "    if entries > 10:\n",
    "        valid_users.append(user_id)\n",
    "\n",
    "# и соберем все фильмы, которые посмотрели больше 10 пользователей\n",
    "valid_items = []\n",
    "\n",
    "c = Counter(interactions_df.item_id)\n",
    "for item_id, entries in c.most_common():\n",
    "    if entries > 10:\n",
    "        valid_items.append(item_id)\n",
    "\n",
    "# отбросим непопулярные фильмы и неактивных юзеров\n",
    "interactions_df = interactions_df[interactions_df.user_id.isin(valid_users)]\n",
    "interactions_df = interactions_df[interactions_df.item_id.isin(valid_items)]\n",
    "\n",
    "print(f\"N users after: {interactions_df.user_id.nunique()}\")\n",
    "print(f\"N items after: {interactions_df.item_id.nunique()}\")"
   ]
  },
  {
   "cell_type": "markdown",
   "id": "a9163fb2",
   "metadata": {
    "id": "a9163fb2"
   },
   "source": [
    "После фильтрации может получиться так, что некоторые айтемы/юзеры есть в датасете взаимодействий, но при этом они отсутствуют в датасетах айтемов/юзеров или наоборот. Поэтому найдем id айтемов и id юзеров, которые есть во всех датасетах и оставим только их."
   ]
  },
  {
   "cell_type": "code",
   "execution_count": 21,
   "id": "d55848e1",
   "metadata": {
    "ExecuteTime": {
     "end_time": "2021-10-28T18:40:40.231703Z",
     "start_time": "2021-10-28T18:40:39.718626Z"
    },
    "colab": {
     "base_uri": "https://localhost:8080/"
    },
    "id": "d55848e1",
    "outputId": "48609a0b-06b9-4a5e-f8f6-061db1c6dcb2"
   },
   "outputs": [
    {
     "name": "stdout",
     "output_type": "stream",
     "text": [
      "65552\n",
      "5303\n"
     ]
    }
   ],
   "source": [
    "common_users = set(interactions_df.user_id.unique()).intersection(set(users_ohe_df.user_id.unique()))\n",
    "common_items = set(interactions_df.item_id.unique()).intersection(set(items_ohe_df.item_id.unique()))\n",
    "\n",
    "print(len(common_users))\n",
    "print(len(common_items))\n",
    "\n",
    "interactions_df = interactions_df[interactions_df.item_id.isin(common_items)]\n",
    "interactions_df = interactions_df[interactions_df.user_id.isin(common_users)]\n",
    "\n",
    "items_ohe_df = items_ohe_df[items_ohe_df.item_id.isin(common_items)]\n",
    "users_ohe_df = users_ohe_df[users_ohe_df.user_id.isin(common_users)]"
   ]
  },
  {
   "cell_type": "markdown",
   "id": "1e8b9480",
   "metadata": {
    "id": "1e8b9480"
   },
   "source": [
    "Соберем взаимодействия в матрицу user*item так, чтобы в строках этой матрицы были user_id, в столбцах - item_id, а на пересечениях строк и столбцов - единица, если пользователь взаимодействовал с айтемом и ноль, если нет.\n",
    "\n",
    "Такую матрицу удобно собирать в numpy array, однако нужно помнить, что numpy array индексируется порядковыми индексами, а нам же удобнее использовать item_id и user_id.\n",
    "\n",
    "Создадим некие внутренние индексы для user_id и item_id - uid и iid. Для этого просто соберем все user_id и item_id и пронумеруем их по порядку."
   ]
  },
  {
   "cell_type": "code",
   "execution_count": 22,
   "id": "81679fb0",
   "metadata": {
    "ExecuteTime": {
     "end_time": "2021-10-28T18:40:40.346587Z",
     "start_time": "2021-10-28T18:40:40.233046Z"
    },
    "colab": {
     "base_uri": "https://localhost:8080/",
     "height": 242
    },
    "id": "81679fb0",
    "outputId": "0c6bf7ce-1ea0-46c2-9d70-42b32bf08c7e"
   },
   "outputs": [
    {
     "name": "stdout",
     "output_type": "stream",
     "text": [
      "[0, 1, 2, 3, 4]\n",
      "[0, 1, 2, 3, 4]\n"
     ]
    },
    {
     "data": {
      "text/html": [
       "<div>\n",
       "<style scoped>\n",
       "    .dataframe tbody tr th:only-of-type {\n",
       "        vertical-align: middle;\n",
       "    }\n",
       "\n",
       "    .dataframe tbody tr th {\n",
       "        vertical-align: top;\n",
       "    }\n",
       "\n",
       "    .dataframe thead th {\n",
       "        text-align: right;\n",
       "    }\n",
       "</style>\n",
       "<table border=\"1\" class=\"dataframe\">\n",
       "  <thead>\n",
       "    <tr style=\"text-align: right;\">\n",
       "      <th></th>\n",
       "      <th>user_id</th>\n",
       "      <th>item_id</th>\n",
       "      <th>last_watch_dt</th>\n",
       "      <th>total_dur</th>\n",
       "      <th>watched_pct</th>\n",
       "      <th>uid</th>\n",
       "      <th>iid</th>\n",
       "    </tr>\n",
       "  </thead>\n",
       "  <tbody>\n",
       "    <tr>\n",
       "      <th>0</th>\n",
       "      <td>176549</td>\n",
       "      <td>9506</td>\n",
       "      <td>2021-05-11</td>\n",
       "      <td>4250</td>\n",
       "      <td>72.0</td>\n",
       "      <td>10561</td>\n",
       "      <td>3040</td>\n",
       "    </tr>\n",
       "    <tr>\n",
       "      <th>1</th>\n",
       "      <td>699317</td>\n",
       "      <td>1659</td>\n",
       "      <td>2021-05-29</td>\n",
       "      <td>8317</td>\n",
       "      <td>100.0</td>\n",
       "      <td>41858</td>\n",
       "      <td>503</td>\n",
       "    </tr>\n",
       "    <tr>\n",
       "      <th>6</th>\n",
       "      <td>1016458</td>\n",
       "      <td>354</td>\n",
       "      <td>2021-08-14</td>\n",
       "      <td>1672</td>\n",
       "      <td>25.0</td>\n",
       "      <td>60634</td>\n",
       "      <td>100</td>\n",
       "    </tr>\n",
       "    <tr>\n",
       "      <th>14</th>\n",
       "      <td>5324</td>\n",
       "      <td>8437</td>\n",
       "      <td>2021-04-18</td>\n",
       "      <td>6598</td>\n",
       "      <td>92.0</td>\n",
       "      <td>309</td>\n",
       "      <td>2685</td>\n",
       "    </tr>\n",
       "    <tr>\n",
       "      <th>18</th>\n",
       "      <td>927973</td>\n",
       "      <td>9617</td>\n",
       "      <td>2021-06-19</td>\n",
       "      <td>8422</td>\n",
       "      <td>100.0</td>\n",
       "      <td>55430</td>\n",
       "      <td>3065</td>\n",
       "    </tr>\n",
       "  </tbody>\n",
       "</table>\n",
       "</div>"
      ],
      "text/plain": [
       "    user_id  item_id last_watch_dt  total_dur  watched_pct    uid   iid\n",
       "0    176549     9506    2021-05-11       4250         72.0  10561  3040\n",
       "1    699317     1659    2021-05-29       8317        100.0  41858   503\n",
       "6   1016458      354    2021-08-14       1672         25.0  60634   100\n",
       "14     5324     8437    2021-04-18       6598         92.0    309  2685\n",
       "18   927973     9617    2021-06-19       8422        100.0  55430  3065"
      ]
     },
     "execution_count": 22,
     "metadata": {},
     "output_type": "execute_result"
    }
   ],
   "source": [
    "interactions_df[\"uid\"] = interactions_df[\"user_id\"].astype(\"category\")\n",
    "interactions_df[\"uid\"] = interactions_df[\"uid\"].cat.codes\n",
    "\n",
    "interactions_df[\"iid\"] = interactions_df[\"item_id\"].astype(\"category\")\n",
    "interactions_df[\"iid\"] = interactions_df[\"iid\"].cat.codes\n",
    "\n",
    "print(sorted(interactions_df.iid.unique())[:5])\n",
    "print(sorted(interactions_df.uid.unique())[:5])\n",
    "interactions_df.head()"
   ]
  },
  {
   "cell_type": "markdown",
   "id": "61c855e5",
   "metadata": {
    "id": "61c855e5"
   },
   "source": [
    "Отнормируем матрицу взаимодействий и **добавим процент просмотренного в качестве взаимодействия юзеров с айтемами для более репрезентативного сэмплирования. (3 балла)**\n"
   ]
  },
  {
   "cell_type": "code",
   "execution_count": 23,
   "id": "3feced70",
   "metadata": {
    "ExecuteTime": {
     "end_time": "2021-10-28T18:41:03.360248Z",
     "start_time": "2021-10-28T18:40:40.348057Z"
    },
    "id": "3feced70"
   },
   "outputs": [],
   "source": [
    "interactions_vec = np.zeros((interactions_df.uid.nunique(), \n",
    "                             interactions_df.iid.nunique())) \n",
    "\n",
    "for i, (user_id, item_id, watched_pct) in enumerate(zip(interactions_df.uid, interactions_df.iid, interactions_df.watched_pct)):\n",
    "    #то что было до этого\n",
    "    #interactions_vec[user_id, item_id] += 1\n",
    "    interactions_vec[user_id, item_id] += watched_pct/100\n",
    "    \n",
    "\n",
    "res = interactions_vec.sum(axis=1)\n",
    "for i in range(len(interactions_vec)):\n",
    "    interactions_vec[i] /= res[i]"
   ]
  },
  {
   "cell_type": "code",
   "execution_count": 24,
   "id": "9f5ec90f",
   "metadata": {
    "ExecuteTime": {
     "end_time": "2021-10-28T18:41:03.416061Z",
     "start_time": "2021-10-28T18:41:03.363462Z"
    },
    "colab": {
     "base_uri": "https://localhost:8080/"
    },
    "id": "9f5ec90f",
    "outputId": "9acdfe45-aa4e-4a64-ffdc-1a750390ae84"
   },
   "outputs": [
    {
     "name": "stdout",
     "output_type": "stream",
     "text": [
      "5303\n",
      "5303\n",
      "65552\n",
      "65552\n",
      "set()\n"
     ]
    }
   ],
   "source": [
    "print(interactions_df.item_id.nunique())\n",
    "print(items_ohe_df.item_id.nunique())\n",
    "print(interactions_df.user_id.nunique())\n",
    "print(users_ohe_df.user_id.nunique())\n",
    "\n",
    "print(set(items_ohe_df.item_id.unique()) - set(interactions_df.item_id.unique()))"
   ]
  },
  {
   "cell_type": "markdown",
   "id": "19e69bae",
   "metadata": {
    "id": "19e69bae"
   },
   "source": [
    "Для того, чтобы можно было удобно превратить iid/uid в item_id/user_id и наоборот соберем словари \n",
    "\n",
    "{iid: item_id}, {uid: user_id} и {item_id: iid}, {user_id: uid}."
   ]
  },
  {
   "cell_type": "code",
   "execution_count": 25,
   "id": "c8a84024",
   "metadata": {
    "ExecuteTime": {
     "end_time": "2021-10-28T18:41:03.637495Z",
     "start_time": "2021-10-28T18:41:03.417544Z"
    },
    "id": "c8a84024"
   },
   "outputs": [],
   "source": [
    "iid_to_item_id = interactions_df[[\"iid\", \"item_id\"]].drop_duplicates().set_index(\"iid\").to_dict()[\"item_id\"]\n",
    "item_id_to_iid = interactions_df[[\"iid\", \"item_id\"]].drop_duplicates().set_index(\"item_id\").to_dict()[\"iid\"]\n",
    "\n",
    "uid_to_user_id = interactions_df[[\"uid\", \"user_id\"]].drop_duplicates().set_index(\"uid\").to_dict()[\"user_id\"]\n",
    "user_id_to_uid = interactions_df[[\"uid\", \"user_id\"]].drop_duplicates().set_index(\"user_id\").to_dict()[\"uid\"]"
   ]
  },
  {
   "cell_type": "code",
   "execution_count": 26,
   "id": "k7fqwJ-bxjX-",
   "metadata": {
    "id": "k7fqwJ-bxjX-"
   },
   "outputs": [
    {
     "data": {
      "text/html": [
       "<div>\n",
       "<style scoped>\n",
       "    .dataframe tbody tr th:only-of-type {\n",
       "        vertical-align: middle;\n",
       "    }\n",
       "\n",
       "    .dataframe tbody tr th {\n",
       "        vertical-align: top;\n",
       "    }\n",
       "\n",
       "    .dataframe thead th {\n",
       "        text-align: right;\n",
       "    }\n",
       "</style>\n",
       "<table border=\"1\" class=\"dataframe\">\n",
       "  <thead>\n",
       "    <tr style=\"text-align: right;\">\n",
       "      <th></th>\n",
       "      <th>item_id</th>\n",
       "      <th>content_type_film</th>\n",
       "      <th>content_type_series</th>\n",
       "      <th>release_year_1897.0</th>\n",
       "      <th>release_year_1916.0</th>\n",
       "      <th>release_year_1917.0</th>\n",
       "      <th>release_year_1918.0</th>\n",
       "      <th>release_year_1920.0</th>\n",
       "      <th>release_year_1921.0</th>\n",
       "      <th>release_year_1922.0</th>\n",
       "      <th>...</th>\n",
       "      <th>keywords_490</th>\n",
       "      <th>keywords_491</th>\n",
       "      <th>keywords_492</th>\n",
       "      <th>keywords_493</th>\n",
       "      <th>keywords_494</th>\n",
       "      <th>keywords_495</th>\n",
       "      <th>keywords_496</th>\n",
       "      <th>keywords_497</th>\n",
       "      <th>keywords_498</th>\n",
       "      <th>keywords_499</th>\n",
       "    </tr>\n",
       "  </thead>\n",
       "  <tbody>\n",
       "    <tr>\n",
       "      <th>8</th>\n",
       "      <td>9853</td>\n",
       "      <td>True</td>\n",
       "      <td>False</td>\n",
       "      <td>False</td>\n",
       "      <td>False</td>\n",
       "      <td>False</td>\n",
       "      <td>False</td>\n",
       "      <td>False</td>\n",
       "      <td>False</td>\n",
       "      <td>False</td>\n",
       "      <td>...</td>\n",
       "      <td>0.0</td>\n",
       "      <td>0.0</td>\n",
       "      <td>0.0</td>\n",
       "      <td>0.0</td>\n",
       "      <td>0.0</td>\n",
       "      <td>0.000000</td>\n",
       "      <td>0.0</td>\n",
       "      <td>0.0</td>\n",
       "      <td>0.0</td>\n",
       "      <td>0.0</td>\n",
       "    </tr>\n",
       "    <tr>\n",
       "      <th>15</th>\n",
       "      <td>15076</td>\n",
       "      <td>True</td>\n",
       "      <td>False</td>\n",
       "      <td>False</td>\n",
       "      <td>False</td>\n",
       "      <td>False</td>\n",
       "      <td>False</td>\n",
       "      <td>False</td>\n",
       "      <td>False</td>\n",
       "      <td>False</td>\n",
       "      <td>...</td>\n",
       "      <td>0.0</td>\n",
       "      <td>0.0</td>\n",
       "      <td>0.0</td>\n",
       "      <td>0.0</td>\n",
       "      <td>0.0</td>\n",
       "      <td>0.000000</td>\n",
       "      <td>0.0</td>\n",
       "      <td>0.0</td>\n",
       "      <td>0.0</td>\n",
       "      <td>0.0</td>\n",
       "    </tr>\n",
       "    <tr>\n",
       "      <th>16</th>\n",
       "      <td>2904</td>\n",
       "      <td>True</td>\n",
       "      <td>False</td>\n",
       "      <td>False</td>\n",
       "      <td>False</td>\n",
       "      <td>False</td>\n",
       "      <td>False</td>\n",
       "      <td>False</td>\n",
       "      <td>False</td>\n",
       "      <td>False</td>\n",
       "      <td>...</td>\n",
       "      <td>0.0</td>\n",
       "      <td>0.0</td>\n",
       "      <td>0.0</td>\n",
       "      <td>0.0</td>\n",
       "      <td>0.0</td>\n",
       "      <td>0.000000</td>\n",
       "      <td>0.0</td>\n",
       "      <td>0.0</td>\n",
       "      <td>0.0</td>\n",
       "      <td>0.0</td>\n",
       "    </tr>\n",
       "    <tr>\n",
       "      <th>38</th>\n",
       "      <td>1622</td>\n",
       "      <td>True</td>\n",
       "      <td>False</td>\n",
       "      <td>False</td>\n",
       "      <td>False</td>\n",
       "      <td>False</td>\n",
       "      <td>False</td>\n",
       "      <td>False</td>\n",
       "      <td>False</td>\n",
       "      <td>False</td>\n",
       "      <td>...</td>\n",
       "      <td>0.0</td>\n",
       "      <td>0.0</td>\n",
       "      <td>0.0</td>\n",
       "      <td>0.0</td>\n",
       "      <td>0.0</td>\n",
       "      <td>0.056351</td>\n",
       "      <td>0.0</td>\n",
       "      <td>0.0</td>\n",
       "      <td>0.0</td>\n",
       "      <td>0.0</td>\n",
       "    </tr>\n",
       "    <tr>\n",
       "      <th>40</th>\n",
       "      <td>6677</td>\n",
       "      <td>True</td>\n",
       "      <td>False</td>\n",
       "      <td>False</td>\n",
       "      <td>False</td>\n",
       "      <td>False</td>\n",
       "      <td>False</td>\n",
       "      <td>False</td>\n",
       "      <td>False</td>\n",
       "      <td>False</td>\n",
       "      <td>...</td>\n",
       "      <td>0.0</td>\n",
       "      <td>0.0</td>\n",
       "      <td>0.0</td>\n",
       "      <td>0.0</td>\n",
       "      <td>0.0</td>\n",
       "      <td>0.000000</td>\n",
       "      <td>0.0</td>\n",
       "      <td>0.0</td>\n",
       "      <td>0.0</td>\n",
       "      <td>0.0</td>\n",
       "    </tr>\n",
       "    <tr>\n",
       "      <th>...</th>\n",
       "      <td>...</td>\n",
       "      <td>...</td>\n",
       "      <td>...</td>\n",
       "      <td>...</td>\n",
       "      <td>...</td>\n",
       "      <td>...</td>\n",
       "      <td>...</td>\n",
       "      <td>...</td>\n",
       "      <td>...</td>\n",
       "      <td>...</td>\n",
       "      <td>...</td>\n",
       "      <td>...</td>\n",
       "      <td>...</td>\n",
       "      <td>...</td>\n",
       "      <td>...</td>\n",
       "      <td>...</td>\n",
       "      <td>...</td>\n",
       "      <td>...</td>\n",
       "      <td>...</td>\n",
       "      <td>...</td>\n",
       "      <td>...</td>\n",
       "    </tr>\n",
       "    <tr>\n",
       "      <th>15956</th>\n",
       "      <td>1325</td>\n",
       "      <td>False</td>\n",
       "      <td>True</td>\n",
       "      <td>False</td>\n",
       "      <td>False</td>\n",
       "      <td>False</td>\n",
       "      <td>False</td>\n",
       "      <td>False</td>\n",
       "      <td>False</td>\n",
       "      <td>False</td>\n",
       "      <td>...</td>\n",
       "      <td>0.0</td>\n",
       "      <td>0.0</td>\n",
       "      <td>0.0</td>\n",
       "      <td>0.0</td>\n",
       "      <td>0.0</td>\n",
       "      <td>0.000000</td>\n",
       "      <td>0.0</td>\n",
       "      <td>0.0</td>\n",
       "      <td>0.0</td>\n",
       "      <td>0.0</td>\n",
       "    </tr>\n",
       "    <tr>\n",
       "      <th>15957</th>\n",
       "      <td>15610</td>\n",
       "      <td>False</td>\n",
       "      <td>True</td>\n",
       "      <td>False</td>\n",
       "      <td>False</td>\n",
       "      <td>False</td>\n",
       "      <td>False</td>\n",
       "      <td>False</td>\n",
       "      <td>False</td>\n",
       "      <td>False</td>\n",
       "      <td>...</td>\n",
       "      <td>0.0</td>\n",
       "      <td>0.0</td>\n",
       "      <td>0.0</td>\n",
       "      <td>0.0</td>\n",
       "      <td>0.0</td>\n",
       "      <td>0.000000</td>\n",
       "      <td>0.0</td>\n",
       "      <td>0.0</td>\n",
       "      <td>0.0</td>\n",
       "      <td>0.0</td>\n",
       "    </tr>\n",
       "    <tr>\n",
       "      <th>15958</th>\n",
       "      <td>6443</td>\n",
       "      <td>False</td>\n",
       "      <td>True</td>\n",
       "      <td>False</td>\n",
       "      <td>False</td>\n",
       "      <td>False</td>\n",
       "      <td>False</td>\n",
       "      <td>False</td>\n",
       "      <td>False</td>\n",
       "      <td>False</td>\n",
       "      <td>...</td>\n",
       "      <td>0.0</td>\n",
       "      <td>0.0</td>\n",
       "      <td>0.0</td>\n",
       "      <td>0.0</td>\n",
       "      <td>0.0</td>\n",
       "      <td>0.000000</td>\n",
       "      <td>0.0</td>\n",
       "      <td>0.0</td>\n",
       "      <td>0.0</td>\n",
       "      <td>0.0</td>\n",
       "    </tr>\n",
       "    <tr>\n",
       "      <th>15959</th>\n",
       "      <td>2367</td>\n",
       "      <td>False</td>\n",
       "      <td>True</td>\n",
       "      <td>False</td>\n",
       "      <td>False</td>\n",
       "      <td>False</td>\n",
       "      <td>False</td>\n",
       "      <td>False</td>\n",
       "      <td>False</td>\n",
       "      <td>False</td>\n",
       "      <td>...</td>\n",
       "      <td>0.0</td>\n",
       "      <td>0.0</td>\n",
       "      <td>0.0</td>\n",
       "      <td>0.0</td>\n",
       "      <td>0.0</td>\n",
       "      <td>0.000000</td>\n",
       "      <td>0.0</td>\n",
       "      <td>0.0</td>\n",
       "      <td>0.0</td>\n",
       "      <td>0.0</td>\n",
       "    </tr>\n",
       "    <tr>\n",
       "      <th>15961</th>\n",
       "      <td>4538</td>\n",
       "      <td>False</td>\n",
       "      <td>True</td>\n",
       "      <td>False</td>\n",
       "      <td>False</td>\n",
       "      <td>False</td>\n",
       "      <td>False</td>\n",
       "      <td>False</td>\n",
       "      <td>False</td>\n",
       "      <td>False</td>\n",
       "      <td>...</td>\n",
       "      <td>0.0</td>\n",
       "      <td>0.0</td>\n",
       "      <td>0.0</td>\n",
       "      <td>0.0</td>\n",
       "      <td>0.0</td>\n",
       "      <td>0.000000</td>\n",
       "      <td>0.0</td>\n",
       "      <td>0.0</td>\n",
       "      <td>0.0</td>\n",
       "      <td>0.0</td>\n",
       "    </tr>\n",
       "  </tbody>\n",
       "</table>\n",
       "<p>5303 rows × 9814 columns</p>\n",
       "</div>"
      ],
      "text/plain": [
       "       item_id  content_type_film  content_type_series  release_year_1897.0  \\\n",
       "8         9853               True                False                False   \n",
       "15       15076               True                False                False   \n",
       "16        2904               True                False                False   \n",
       "38        1622               True                False                False   \n",
       "40        6677               True                False                False   \n",
       "...        ...                ...                  ...                  ...   \n",
       "15956     1325              False                 True                False   \n",
       "15957    15610              False                 True                False   \n",
       "15958     6443              False                 True                False   \n",
       "15959     2367              False                 True                False   \n",
       "15961     4538              False                 True                False   \n",
       "\n",
       "       release_year_1916.0  release_year_1917.0  release_year_1918.0  \\\n",
       "8                    False                False                False   \n",
       "15                   False                False                False   \n",
       "16                   False                False                False   \n",
       "38                   False                False                False   \n",
       "40                   False                False                False   \n",
       "...                    ...                  ...                  ...   \n",
       "15956                False                False                False   \n",
       "15957                False                False                False   \n",
       "15958                False                False                False   \n",
       "15959                False                False                False   \n",
       "15961                False                False                False   \n",
       "\n",
       "       release_year_1920.0  release_year_1921.0  release_year_1922.0  ...  \\\n",
       "8                    False                False                False  ...   \n",
       "15                   False                False                False  ...   \n",
       "16                   False                False                False  ...   \n",
       "38                   False                False                False  ...   \n",
       "40                   False                False                False  ...   \n",
       "...                    ...                  ...                  ...  ...   \n",
       "15956                False                False                False  ...   \n",
       "15957                False                False                False  ...   \n",
       "15958                False                False                False  ...   \n",
       "15959                False                False                False  ...   \n",
       "15961                False                False                False  ...   \n",
       "\n",
       "       keywords_490  keywords_491  keywords_492  keywords_493  keywords_494  \\\n",
       "8               0.0           0.0           0.0           0.0           0.0   \n",
       "15              0.0           0.0           0.0           0.0           0.0   \n",
       "16              0.0           0.0           0.0           0.0           0.0   \n",
       "38              0.0           0.0           0.0           0.0           0.0   \n",
       "40              0.0           0.0           0.0           0.0           0.0   \n",
       "...             ...           ...           ...           ...           ...   \n",
       "15956           0.0           0.0           0.0           0.0           0.0   \n",
       "15957           0.0           0.0           0.0           0.0           0.0   \n",
       "15958           0.0           0.0           0.0           0.0           0.0   \n",
       "15959           0.0           0.0           0.0           0.0           0.0   \n",
       "15961           0.0           0.0           0.0           0.0           0.0   \n",
       "\n",
       "       keywords_495  keywords_496  keywords_497  keywords_498  keywords_499  \n",
       "8          0.000000           0.0           0.0           0.0           0.0  \n",
       "15         0.000000           0.0           0.0           0.0           0.0  \n",
       "16         0.000000           0.0           0.0           0.0           0.0  \n",
       "38         0.056351           0.0           0.0           0.0           0.0  \n",
       "40         0.000000           0.0           0.0           0.0           0.0  \n",
       "...             ...           ...           ...           ...           ...  \n",
       "15956      0.000000           0.0           0.0           0.0           0.0  \n",
       "15957      0.000000           0.0           0.0           0.0           0.0  \n",
       "15958      0.000000           0.0           0.0           0.0           0.0  \n",
       "15959      0.000000           0.0           0.0           0.0           0.0  \n",
       "15961      0.000000           0.0           0.0           0.0           0.0  \n",
       "\n",
       "[5303 rows x 9814 columns]"
      ]
     },
     "execution_count": 26,
     "metadata": {},
     "output_type": "execute_result"
    }
   ],
   "source": [
    "items_ohe_df"
   ]
  },
  {
   "cell_type": "markdown",
   "id": "48ca5204",
   "metadata": {
    "id": "48ca5204"
   },
   "source": [
    "И проиндексируем датасеты users_ohe_df и items_ohe_df по внутренним айди:"
   ]
  },
  {
   "cell_type": "code",
   "execution_count": 27,
   "id": "4c4980ac",
   "metadata": {
    "ExecuteTime": {
     "end_time": "2021-10-28T18:41:03.744883Z",
     "start_time": "2021-10-28T18:41:03.638719Z"
    },
    "id": "4c4980ac"
   },
   "outputs": [],
   "source": [
    "items_ohe_df[\"iid\"] = items_ohe_df[\"item_id\"].apply(lambda x: item_id_to_iid[x])\n",
    "items_ohe_df = items_ohe_df.set_index(\"iid\")\n",
    "\n",
    "users_ohe_df[\"uid\"] = users_ohe_df[\"user_id\"].apply(lambda x: user_id_to_uid[x])\n",
    "users_ohe_df = users_ohe_df.set_index(\"uid\")"
   ]
  },
  {
   "cell_type": "markdown",
   "id": "9502ef59-1c7a-45a9-90b8-8050c261c22f",
   "metadata": {},
   "source": [
    "(тут иногда выскакивает ошибка, ничего менять не нужно просто прогнать селы с 12 еще раз)"
   ]
  },
  {
   "cell_type": "code",
   "execution_count": 28,
   "id": "7e27b3d1-b959-44b9-8452-d8f19cce0f59",
   "metadata": {},
   "outputs": [
    {
     "data": {
      "text/html": [
       "<div>\n",
       "<style scoped>\n",
       "    .dataframe tbody tr th:only-of-type {\n",
       "        vertical-align: middle;\n",
       "    }\n",
       "\n",
       "    .dataframe tbody tr th {\n",
       "        vertical-align: top;\n",
       "    }\n",
       "\n",
       "    .dataframe thead th {\n",
       "        text-align: right;\n",
       "    }\n",
       "</style>\n",
       "<table border=\"1\" class=\"dataframe\">\n",
       "  <thead>\n",
       "    <tr style=\"text-align: right;\">\n",
       "      <th></th>\n",
       "      <th>user_id</th>\n",
       "      <th>age_age_18_24</th>\n",
       "      <th>age_age_25_34</th>\n",
       "      <th>age_age_35_44</th>\n",
       "      <th>age_age_45_54</th>\n",
       "      <th>age_age_55_64</th>\n",
       "      <th>age_age_65_inf</th>\n",
       "      <th>income_income_0_20</th>\n",
       "      <th>income_income_150_inf</th>\n",
       "      <th>income_income_20_40</th>\n",
       "      <th>income_income_40_60</th>\n",
       "      <th>income_income_60_90</th>\n",
       "      <th>income_income_90_150</th>\n",
       "      <th>sex_Ж</th>\n",
       "      <th>sex_М</th>\n",
       "      <th>kids_flg_0</th>\n",
       "      <th>kids_flg_1</th>\n",
       "    </tr>\n",
       "    <tr>\n",
       "      <th>uid</th>\n",
       "      <th></th>\n",
       "      <th></th>\n",
       "      <th></th>\n",
       "      <th></th>\n",
       "      <th></th>\n",
       "      <th></th>\n",
       "      <th></th>\n",
       "      <th></th>\n",
       "      <th></th>\n",
       "      <th></th>\n",
       "      <th></th>\n",
       "      <th></th>\n",
       "      <th></th>\n",
       "      <th></th>\n",
       "      <th></th>\n",
       "      <th></th>\n",
       "      <th></th>\n",
       "    </tr>\n",
       "  </thead>\n",
       "  <tbody>\n",
       "    <tr>\n",
       "      <th>43174</th>\n",
       "      <td>721985</td>\n",
       "      <td>False</td>\n",
       "      <td>False</td>\n",
       "      <td>False</td>\n",
       "      <td>True</td>\n",
       "      <td>False</td>\n",
       "      <td>False</td>\n",
       "      <td>False</td>\n",
       "      <td>False</td>\n",
       "      <td>True</td>\n",
       "      <td>False</td>\n",
       "      <td>False</td>\n",
       "      <td>False</td>\n",
       "      <td>True</td>\n",
       "      <td>False</td>\n",
       "      <td>True</td>\n",
       "      <td>False</td>\n",
       "    </tr>\n",
       "    <tr>\n",
       "      <th>16047</th>\n",
       "      <td>269408</td>\n",
       "      <td>False</td>\n",
       "      <td>False</td>\n",
       "      <td>True</td>\n",
       "      <td>False</td>\n",
       "      <td>False</td>\n",
       "      <td>False</td>\n",
       "      <td>False</td>\n",
       "      <td>False</td>\n",
       "      <td>True</td>\n",
       "      <td>False</td>\n",
       "      <td>False</td>\n",
       "      <td>False</td>\n",
       "      <td>True</td>\n",
       "      <td>False</td>\n",
       "      <td>False</td>\n",
       "      <td>True</td>\n",
       "    </tr>\n",
       "    <tr>\n",
       "      <th>22925</th>\n",
       "      <td>384532</td>\n",
       "      <td>False</td>\n",
       "      <td>True</td>\n",
       "      <td>False</td>\n",
       "      <td>False</td>\n",
       "      <td>False</td>\n",
       "      <td>False</td>\n",
       "      <td>False</td>\n",
       "      <td>False</td>\n",
       "      <td>False</td>\n",
       "      <td>True</td>\n",
       "      <td>False</td>\n",
       "      <td>False</td>\n",
       "      <td>False</td>\n",
       "      <td>True</td>\n",
       "      <td>False</td>\n",
       "      <td>True</td>\n",
       "    </tr>\n",
       "    <tr>\n",
       "      <th>43217</th>\n",
       "      <td>723106</td>\n",
       "      <td>True</td>\n",
       "      <td>False</td>\n",
       "      <td>False</td>\n",
       "      <td>False</td>\n",
       "      <td>False</td>\n",
       "      <td>False</td>\n",
       "      <td>False</td>\n",
       "      <td>False</td>\n",
       "      <td>False</td>\n",
       "      <td>True</td>\n",
       "      <td>False</td>\n",
       "      <td>False</td>\n",
       "      <td>True</td>\n",
       "      <td>False</td>\n",
       "      <td>True</td>\n",
       "      <td>False</td>\n",
       "    </tr>\n",
       "    <tr>\n",
       "      <th>12912</th>\n",
       "      <td>216495</td>\n",
       "      <td>False</td>\n",
       "      <td>True</td>\n",
       "      <td>False</td>\n",
       "      <td>False</td>\n",
       "      <td>False</td>\n",
       "      <td>False</td>\n",
       "      <td>False</td>\n",
       "      <td>False</td>\n",
       "      <td>True</td>\n",
       "      <td>False</td>\n",
       "      <td>False</td>\n",
       "      <td>False</td>\n",
       "      <td>False</td>\n",
       "      <td>True</td>\n",
       "      <td>True</td>\n",
       "      <td>False</td>\n",
       "    </tr>\n",
       "    <tr>\n",
       "      <th>...</th>\n",
       "      <td>...</td>\n",
       "      <td>...</td>\n",
       "      <td>...</td>\n",
       "      <td>...</td>\n",
       "      <td>...</td>\n",
       "      <td>...</td>\n",
       "      <td>...</td>\n",
       "      <td>...</td>\n",
       "      <td>...</td>\n",
       "      <td>...</td>\n",
       "      <td>...</td>\n",
       "      <td>...</td>\n",
       "      <td>...</td>\n",
       "      <td>...</td>\n",
       "      <td>...</td>\n",
       "      <td>...</td>\n",
       "      <td>...</td>\n",
       "    </tr>\n",
       "    <tr>\n",
       "      <th>55309</th>\n",
       "      <td>925679</td>\n",
       "      <td>False</td>\n",
       "      <td>False</td>\n",
       "      <td>True</td>\n",
       "      <td>False</td>\n",
       "      <td>False</td>\n",
       "      <td>False</td>\n",
       "      <td>False</td>\n",
       "      <td>False</td>\n",
       "      <td>True</td>\n",
       "      <td>False</td>\n",
       "      <td>False</td>\n",
       "      <td>False</td>\n",
       "      <td>False</td>\n",
       "      <td>True</td>\n",
       "      <td>False</td>\n",
       "      <td>True</td>\n",
       "    </tr>\n",
       "    <tr>\n",
       "      <th>28504</th>\n",
       "      <td>476507</td>\n",
       "      <td>False</td>\n",
       "      <td>False</td>\n",
       "      <td>False</td>\n",
       "      <td>False</td>\n",
       "      <td>True</td>\n",
       "      <td>False</td>\n",
       "      <td>False</td>\n",
       "      <td>False</td>\n",
       "      <td>False</td>\n",
       "      <td>True</td>\n",
       "      <td>False</td>\n",
       "      <td>False</td>\n",
       "      <td>False</td>\n",
       "      <td>True</td>\n",
       "      <td>True</td>\n",
       "      <td>False</td>\n",
       "    </tr>\n",
       "    <tr>\n",
       "      <th>29047</th>\n",
       "      <td>486585</td>\n",
       "      <td>False</td>\n",
       "      <td>True</td>\n",
       "      <td>False</td>\n",
       "      <td>False</td>\n",
       "      <td>False</td>\n",
       "      <td>False</td>\n",
       "      <td>False</td>\n",
       "      <td>False</td>\n",
       "      <td>True</td>\n",
       "      <td>False</td>\n",
       "      <td>False</td>\n",
       "      <td>False</td>\n",
       "      <td>True</td>\n",
       "      <td>False</td>\n",
       "      <td>True</td>\n",
       "      <td>False</td>\n",
       "    </tr>\n",
       "    <tr>\n",
       "      <th>31892</th>\n",
       "      <td>534011</td>\n",
       "      <td>False</td>\n",
       "      <td>True</td>\n",
       "      <td>False</td>\n",
       "      <td>False</td>\n",
       "      <td>False</td>\n",
       "      <td>False</td>\n",
       "      <td>False</td>\n",
       "      <td>False</td>\n",
       "      <td>True</td>\n",
       "      <td>False</td>\n",
       "      <td>False</td>\n",
       "      <td>False</td>\n",
       "      <td>True</td>\n",
       "      <td>False</td>\n",
       "      <td>False</td>\n",
       "      <td>True</td>\n",
       "    </tr>\n",
       "    <tr>\n",
       "      <th>47123</th>\n",
       "      <td>788694</td>\n",
       "      <td>False</td>\n",
       "      <td>False</td>\n",
       "      <td>True</td>\n",
       "      <td>False</td>\n",
       "      <td>False</td>\n",
       "      <td>False</td>\n",
       "      <td>False</td>\n",
       "      <td>False</td>\n",
       "      <td>False</td>\n",
       "      <td>False</td>\n",
       "      <td>True</td>\n",
       "      <td>False</td>\n",
       "      <td>False</td>\n",
       "      <td>True</td>\n",
       "      <td>True</td>\n",
       "      <td>False</td>\n",
       "    </tr>\n",
       "  </tbody>\n",
       "</table>\n",
       "<p>65552 rows × 17 columns</p>\n",
       "</div>"
      ],
      "text/plain": [
       "       user_id  age_age_18_24  age_age_25_34  age_age_35_44  age_age_45_54  \\\n",
       "uid                                                                          \n",
       "43174   721985          False          False          False           True   \n",
       "16047   269408          False          False           True          False   \n",
       "22925   384532          False           True          False          False   \n",
       "43217   723106           True          False          False          False   \n",
       "12912   216495          False           True          False          False   \n",
       "...        ...            ...            ...            ...            ...   \n",
       "55309   925679          False          False           True          False   \n",
       "28504   476507          False          False          False          False   \n",
       "29047   486585          False           True          False          False   \n",
       "31892   534011          False           True          False          False   \n",
       "47123   788694          False          False           True          False   \n",
       "\n",
       "       age_age_55_64  age_age_65_inf  income_income_0_20  \\\n",
       "uid                                                        \n",
       "43174          False           False               False   \n",
       "16047          False           False               False   \n",
       "22925          False           False               False   \n",
       "43217          False           False               False   \n",
       "12912          False           False               False   \n",
       "...              ...             ...                 ...   \n",
       "55309          False           False               False   \n",
       "28504           True           False               False   \n",
       "29047          False           False               False   \n",
       "31892          False           False               False   \n",
       "47123          False           False               False   \n",
       "\n",
       "       income_income_150_inf  income_income_20_40  income_income_40_60  \\\n",
       "uid                                                                      \n",
       "43174                  False                 True                False   \n",
       "16047                  False                 True                False   \n",
       "22925                  False                False                 True   \n",
       "43217                  False                False                 True   \n",
       "12912                  False                 True                False   \n",
       "...                      ...                  ...                  ...   \n",
       "55309                  False                 True                False   \n",
       "28504                  False                False                 True   \n",
       "29047                  False                 True                False   \n",
       "31892                  False                 True                False   \n",
       "47123                  False                False                False   \n",
       "\n",
       "       income_income_60_90  income_income_90_150  sex_Ж  sex_М  kids_flg_0  \\\n",
       "uid                                                                          \n",
       "43174                False                 False   True  False        True   \n",
       "16047                False                 False   True  False       False   \n",
       "22925                False                 False  False   True       False   \n",
       "43217                False                 False   True  False        True   \n",
       "12912                False                 False  False   True        True   \n",
       "...                    ...                   ...    ...    ...         ...   \n",
       "55309                False                 False  False   True       False   \n",
       "28504                False                 False  False   True        True   \n",
       "29047                False                 False   True  False        True   \n",
       "31892                False                 False   True  False       False   \n",
       "47123                 True                 False  False   True        True   \n",
       "\n",
       "       kids_flg_1  \n",
       "uid                \n",
       "43174       False  \n",
       "16047        True  \n",
       "22925        True  \n",
       "43217       False  \n",
       "12912       False  \n",
       "...           ...  \n",
       "55309        True  \n",
       "28504       False  \n",
       "29047       False  \n",
       "31892        True  \n",
       "47123       False  \n",
       "\n",
       "[65552 rows x 17 columns]"
      ]
     },
     "execution_count": 28,
     "metadata": {},
     "output_type": "execute_result"
    }
   ],
   "source": [
    "users_ohe_df"
   ]
  },
  {
   "cell_type": "code",
   "execution_count": 29,
   "id": "ecf3166b-56ff-4c86-8e28-f5e9af1eeafc",
   "metadata": {},
   "outputs": [
    {
     "data": {
      "text/html": [
       "<div>\n",
       "<style scoped>\n",
       "    .dataframe tbody tr th:only-of-type {\n",
       "        vertical-align: middle;\n",
       "    }\n",
       "\n",
       "    .dataframe tbody tr th {\n",
       "        vertical-align: top;\n",
       "    }\n",
       "\n",
       "    .dataframe thead th {\n",
       "        text-align: right;\n",
       "    }\n",
       "</style>\n",
       "<table border=\"1\" class=\"dataframe\">\n",
       "  <thead>\n",
       "    <tr style=\"text-align: right;\">\n",
       "      <th></th>\n",
       "      <th>item_id</th>\n",
       "      <th>content_type_film</th>\n",
       "      <th>content_type_series</th>\n",
       "      <th>release_year_1897.0</th>\n",
       "      <th>release_year_1916.0</th>\n",
       "      <th>release_year_1917.0</th>\n",
       "      <th>release_year_1918.0</th>\n",
       "      <th>release_year_1920.0</th>\n",
       "      <th>release_year_1921.0</th>\n",
       "      <th>release_year_1922.0</th>\n",
       "      <th>...</th>\n",
       "      <th>keywords_490</th>\n",
       "      <th>keywords_491</th>\n",
       "      <th>keywords_492</th>\n",
       "      <th>keywords_493</th>\n",
       "      <th>keywords_494</th>\n",
       "      <th>keywords_495</th>\n",
       "      <th>keywords_496</th>\n",
       "      <th>keywords_497</th>\n",
       "      <th>keywords_498</th>\n",
       "      <th>keywords_499</th>\n",
       "    </tr>\n",
       "    <tr>\n",
       "      <th>iid</th>\n",
       "      <th></th>\n",
       "      <th></th>\n",
       "      <th></th>\n",
       "      <th></th>\n",
       "      <th></th>\n",
       "      <th></th>\n",
       "      <th></th>\n",
       "      <th></th>\n",
       "      <th></th>\n",
       "      <th></th>\n",
       "      <th></th>\n",
       "      <th></th>\n",
       "      <th></th>\n",
       "      <th></th>\n",
       "      <th></th>\n",
       "      <th></th>\n",
       "      <th></th>\n",
       "      <th></th>\n",
       "      <th></th>\n",
       "      <th></th>\n",
       "      <th></th>\n",
       "    </tr>\n",
       "  </thead>\n",
       "  <tbody>\n",
       "    <tr>\n",
       "      <th>3138</th>\n",
       "      <td>9853</td>\n",
       "      <td>True</td>\n",
       "      <td>False</td>\n",
       "      <td>False</td>\n",
       "      <td>False</td>\n",
       "      <td>False</td>\n",
       "      <td>False</td>\n",
       "      <td>False</td>\n",
       "      <td>False</td>\n",
       "      <td>False</td>\n",
       "      <td>...</td>\n",
       "      <td>0.0</td>\n",
       "      <td>0.0</td>\n",
       "      <td>0.0</td>\n",
       "      <td>0.0</td>\n",
       "      <td>0.0</td>\n",
       "      <td>0.000000</td>\n",
       "      <td>0.0</td>\n",
       "      <td>0.0</td>\n",
       "      <td>0.0</td>\n",
       "      <td>0.0</td>\n",
       "    </tr>\n",
       "    <tr>\n",
       "      <th>4858</th>\n",
       "      <td>15076</td>\n",
       "      <td>True</td>\n",
       "      <td>False</td>\n",
       "      <td>False</td>\n",
       "      <td>False</td>\n",
       "      <td>False</td>\n",
       "      <td>False</td>\n",
       "      <td>False</td>\n",
       "      <td>False</td>\n",
       "      <td>False</td>\n",
       "      <td>...</td>\n",
       "      <td>0.0</td>\n",
       "      <td>0.0</td>\n",
       "      <td>0.0</td>\n",
       "      <td>0.0</td>\n",
       "      <td>0.0</td>\n",
       "      <td>0.000000</td>\n",
       "      <td>0.0</td>\n",
       "      <td>0.0</td>\n",
       "      <td>0.0</td>\n",
       "      <td>0.0</td>\n",
       "    </tr>\n",
       "    <tr>\n",
       "      <th>882</th>\n",
       "      <td>2904</td>\n",
       "      <td>True</td>\n",
       "      <td>False</td>\n",
       "      <td>False</td>\n",
       "      <td>False</td>\n",
       "      <td>False</td>\n",
       "      <td>False</td>\n",
       "      <td>False</td>\n",
       "      <td>False</td>\n",
       "      <td>False</td>\n",
       "      <td>...</td>\n",
       "      <td>0.0</td>\n",
       "      <td>0.0</td>\n",
       "      <td>0.0</td>\n",
       "      <td>0.0</td>\n",
       "      <td>0.0</td>\n",
       "      <td>0.000000</td>\n",
       "      <td>0.0</td>\n",
       "      <td>0.0</td>\n",
       "      <td>0.0</td>\n",
       "      <td>0.0</td>\n",
       "    </tr>\n",
       "    <tr>\n",
       "      <th>490</th>\n",
       "      <td>1622</td>\n",
       "      <td>True</td>\n",
       "      <td>False</td>\n",
       "      <td>False</td>\n",
       "      <td>False</td>\n",
       "      <td>False</td>\n",
       "      <td>False</td>\n",
       "      <td>False</td>\n",
       "      <td>False</td>\n",
       "      <td>False</td>\n",
       "      <td>...</td>\n",
       "      <td>0.0</td>\n",
       "      <td>0.0</td>\n",
       "      <td>0.0</td>\n",
       "      <td>0.0</td>\n",
       "      <td>0.0</td>\n",
       "      <td>0.056351</td>\n",
       "      <td>0.0</td>\n",
       "      <td>0.0</td>\n",
       "      <td>0.0</td>\n",
       "      <td>0.0</td>\n",
       "    </tr>\n",
       "    <tr>\n",
       "      <th>2115</th>\n",
       "      <td>6677</td>\n",
       "      <td>True</td>\n",
       "      <td>False</td>\n",
       "      <td>False</td>\n",
       "      <td>False</td>\n",
       "      <td>False</td>\n",
       "      <td>False</td>\n",
       "      <td>False</td>\n",
       "      <td>False</td>\n",
       "      <td>False</td>\n",
       "      <td>...</td>\n",
       "      <td>0.0</td>\n",
       "      <td>0.0</td>\n",
       "      <td>0.0</td>\n",
       "      <td>0.0</td>\n",
       "      <td>0.0</td>\n",
       "      <td>0.000000</td>\n",
       "      <td>0.0</td>\n",
       "      <td>0.0</td>\n",
       "      <td>0.0</td>\n",
       "      <td>0.0</td>\n",
       "    </tr>\n",
       "    <tr>\n",
       "      <th>...</th>\n",
       "      <td>...</td>\n",
       "      <td>...</td>\n",
       "      <td>...</td>\n",
       "      <td>...</td>\n",
       "      <td>...</td>\n",
       "      <td>...</td>\n",
       "      <td>...</td>\n",
       "      <td>...</td>\n",
       "      <td>...</td>\n",
       "      <td>...</td>\n",
       "      <td>...</td>\n",
       "      <td>...</td>\n",
       "      <td>...</td>\n",
       "      <td>...</td>\n",
       "      <td>...</td>\n",
       "      <td>...</td>\n",
       "      <td>...</td>\n",
       "      <td>...</td>\n",
       "      <td>...</td>\n",
       "      <td>...</td>\n",
       "      <td>...</td>\n",
       "    </tr>\n",
       "    <tr>\n",
       "      <th>399</th>\n",
       "      <td>1325</td>\n",
       "      <td>False</td>\n",
       "      <td>True</td>\n",
       "      <td>False</td>\n",
       "      <td>False</td>\n",
       "      <td>False</td>\n",
       "      <td>False</td>\n",
       "      <td>False</td>\n",
       "      <td>False</td>\n",
       "      <td>False</td>\n",
       "      <td>...</td>\n",
       "      <td>0.0</td>\n",
       "      <td>0.0</td>\n",
       "      <td>0.0</td>\n",
       "      <td>0.0</td>\n",
       "      <td>0.0</td>\n",
       "      <td>0.000000</td>\n",
       "      <td>0.0</td>\n",
       "      <td>0.0</td>\n",
       "      <td>0.0</td>\n",
       "      <td>0.0</td>\n",
       "    </tr>\n",
       "    <tr>\n",
       "      <th>5022</th>\n",
       "      <td>15610</td>\n",
       "      <td>False</td>\n",
       "      <td>True</td>\n",
       "      <td>False</td>\n",
       "      <td>False</td>\n",
       "      <td>False</td>\n",
       "      <td>False</td>\n",
       "      <td>False</td>\n",
       "      <td>False</td>\n",
       "      <td>False</td>\n",
       "      <td>...</td>\n",
       "      <td>0.0</td>\n",
       "      <td>0.0</td>\n",
       "      <td>0.0</td>\n",
       "      <td>0.0</td>\n",
       "      <td>0.0</td>\n",
       "      <td>0.000000</td>\n",
       "      <td>0.0</td>\n",
       "      <td>0.0</td>\n",
       "      <td>0.0</td>\n",
       "      <td>0.0</td>\n",
       "    </tr>\n",
       "    <tr>\n",
       "      <th>2045</th>\n",
       "      <td>6443</td>\n",
       "      <td>False</td>\n",
       "      <td>True</td>\n",
       "      <td>False</td>\n",
       "      <td>False</td>\n",
       "      <td>False</td>\n",
       "      <td>False</td>\n",
       "      <td>False</td>\n",
       "      <td>False</td>\n",
       "      <td>False</td>\n",
       "      <td>...</td>\n",
       "      <td>0.0</td>\n",
       "      <td>0.0</td>\n",
       "      <td>0.0</td>\n",
       "      <td>0.0</td>\n",
       "      <td>0.0</td>\n",
       "      <td>0.000000</td>\n",
       "      <td>0.0</td>\n",
       "      <td>0.0</td>\n",
       "      <td>0.0</td>\n",
       "      <td>0.0</td>\n",
       "    </tr>\n",
       "    <tr>\n",
       "      <th>724</th>\n",
       "      <td>2367</td>\n",
       "      <td>False</td>\n",
       "      <td>True</td>\n",
       "      <td>False</td>\n",
       "      <td>False</td>\n",
       "      <td>False</td>\n",
       "      <td>False</td>\n",
       "      <td>False</td>\n",
       "      <td>False</td>\n",
       "      <td>False</td>\n",
       "      <td>...</td>\n",
       "      <td>0.0</td>\n",
       "      <td>0.0</td>\n",
       "      <td>0.0</td>\n",
       "      <td>0.0</td>\n",
       "      <td>0.0</td>\n",
       "      <td>0.000000</td>\n",
       "      <td>0.0</td>\n",
       "      <td>0.0</td>\n",
       "      <td>0.0</td>\n",
       "      <td>0.0</td>\n",
       "    </tr>\n",
       "    <tr>\n",
       "      <th>1433</th>\n",
       "      <td>4538</td>\n",
       "      <td>False</td>\n",
       "      <td>True</td>\n",
       "      <td>False</td>\n",
       "      <td>False</td>\n",
       "      <td>False</td>\n",
       "      <td>False</td>\n",
       "      <td>False</td>\n",
       "      <td>False</td>\n",
       "      <td>False</td>\n",
       "      <td>...</td>\n",
       "      <td>0.0</td>\n",
       "      <td>0.0</td>\n",
       "      <td>0.0</td>\n",
       "      <td>0.0</td>\n",
       "      <td>0.0</td>\n",
       "      <td>0.000000</td>\n",
       "      <td>0.0</td>\n",
       "      <td>0.0</td>\n",
       "      <td>0.0</td>\n",
       "      <td>0.0</td>\n",
       "    </tr>\n",
       "  </tbody>\n",
       "</table>\n",
       "<p>5303 rows × 9814 columns</p>\n",
       "</div>"
      ],
      "text/plain": [
       "      item_id  content_type_film  content_type_series  release_year_1897.0  \\\n",
       "iid                                                                          \n",
       "3138     9853               True                False                False   \n",
       "4858    15076               True                False                False   \n",
       "882      2904               True                False                False   \n",
       "490      1622               True                False                False   \n",
       "2115     6677               True                False                False   \n",
       "...       ...                ...                  ...                  ...   \n",
       "399      1325              False                 True                False   \n",
       "5022    15610              False                 True                False   \n",
       "2045     6443              False                 True                False   \n",
       "724      2367              False                 True                False   \n",
       "1433     4538              False                 True                False   \n",
       "\n",
       "      release_year_1916.0  release_year_1917.0  release_year_1918.0  \\\n",
       "iid                                                                   \n",
       "3138                False                False                False   \n",
       "4858                False                False                False   \n",
       "882                 False                False                False   \n",
       "490                 False                False                False   \n",
       "2115                False                False                False   \n",
       "...                   ...                  ...                  ...   \n",
       "399                 False                False                False   \n",
       "5022                False                False                False   \n",
       "2045                False                False                False   \n",
       "724                 False                False                False   \n",
       "1433                False                False                False   \n",
       "\n",
       "      release_year_1920.0  release_year_1921.0  release_year_1922.0  ...  \\\n",
       "iid                                                                  ...   \n",
       "3138                False                False                False  ...   \n",
       "4858                False                False                False  ...   \n",
       "882                 False                False                False  ...   \n",
       "490                 False                False                False  ...   \n",
       "2115                False                False                False  ...   \n",
       "...                   ...                  ...                  ...  ...   \n",
       "399                 False                False                False  ...   \n",
       "5022                False                False                False  ...   \n",
       "2045                False                False                False  ...   \n",
       "724                 False                False                False  ...   \n",
       "1433                False                False                False  ...   \n",
       "\n",
       "      keywords_490  keywords_491  keywords_492  keywords_493  keywords_494  \\\n",
       "iid                                                                          \n",
       "3138           0.0           0.0           0.0           0.0           0.0   \n",
       "4858           0.0           0.0           0.0           0.0           0.0   \n",
       "882            0.0           0.0           0.0           0.0           0.0   \n",
       "490            0.0           0.0           0.0           0.0           0.0   \n",
       "2115           0.0           0.0           0.0           0.0           0.0   \n",
       "...            ...           ...           ...           ...           ...   \n",
       "399            0.0           0.0           0.0           0.0           0.0   \n",
       "5022           0.0           0.0           0.0           0.0           0.0   \n",
       "2045           0.0           0.0           0.0           0.0           0.0   \n",
       "724            0.0           0.0           0.0           0.0           0.0   \n",
       "1433           0.0           0.0           0.0           0.0           0.0   \n",
       "\n",
       "      keywords_495  keywords_496  keywords_497  keywords_498  keywords_499  \n",
       "iid                                                                         \n",
       "3138      0.000000           0.0           0.0           0.0           0.0  \n",
       "4858      0.000000           0.0           0.0           0.0           0.0  \n",
       "882       0.000000           0.0           0.0           0.0           0.0  \n",
       "490       0.056351           0.0           0.0           0.0           0.0  \n",
       "2115      0.000000           0.0           0.0           0.0           0.0  \n",
       "...            ...           ...           ...           ...           ...  \n",
       "399       0.000000           0.0           0.0           0.0           0.0  \n",
       "5022      0.000000           0.0           0.0           0.0           0.0  \n",
       "2045      0.000000           0.0           0.0           0.0           0.0  \n",
       "724       0.000000           0.0           0.0           0.0           0.0  \n",
       "1433      0.000000           0.0           0.0           0.0           0.0  \n",
       "\n",
       "[5303 rows x 9814 columns]"
      ]
     },
     "execution_count": 29,
     "metadata": {},
     "output_type": "execute_result"
    }
   ],
   "source": [
    "items_ohe_df"
   ]
  },
  {
   "cell_type": "code",
   "execution_count": 30,
   "id": "22c26d39",
   "metadata": {
    "ExecuteTime": {
     "end_time": "2021-10-28T18:41:03.749717Z",
     "start_time": "2021-10-28T18:41:03.746067Z"
    },
    "id": "22c26d39"
   },
   "outputs": [],
   "source": [
    "def triplet_loss(y_true, y_pred, n_dims=128, alpha=0.4):\n",
    "    # будем ожидать, что на вход функции прилетит три сконкатенированных \n",
    "    # вектора - вектор юзера и два вектора айтема\n",
    "    anchor = y_pred[:, 0:n_dims]\n",
    "    positive = y_pred[:, n_dims:n_dims*2]\n",
    "    negative = y_pred[:, n_dims*2:n_dims*3]\n",
    "\n",
    "    # считаем расстояния от вектора юзера до вектора хорошего айтема\n",
    "    pos_dist = K.sum(K.square(anchor - positive), axis=1)\n",
    "    # и до плохого\n",
    "    neg_dist = K.sum(K.square(anchor - negative), axis=1)\n",
    "\n",
    "    # считаем лосс\n",
    "    basic_loss = pos_dist - neg_dist + alpha\n",
    "    loss = K.maximum(basic_loss, 0.0) # возвращаем ноль, если лосс отрицательный\n",
    " \n",
    "    return loss"
   ]
  },
  {
   "cell_type": "markdown",
   "id": "85d618b6",
   "metadata": {
    "ExecuteTime": {
     "end_time": "2021-10-23T11:20:03.327838Z",
     "start_time": "2021-10-23T11:20:03.324389Z"
    },
    "id": "85d618b6"
   },
   "source": [
    "## Генератор и семплирование\n",
    "\n",
    "Сделаем простой генератор. Он будет брать рандромного юзера, и два разных айтема - хороший пример и плохой:\n",
    "- хорошим примером будет тот айтем, который был взят из датасета взаимодействий в соответствии с распределением просмотренных айтемов для этого юзера;\n",
    "- а плохим айтемом будет просто любой другой _случайный айтем_*\n"
   ]
  },
  {
   "cell_type": "code",
   "execution_count": 31,
   "id": "7829878b",
   "metadata": {
    "ExecuteTime": {
     "end_time": "2021-10-28T18:41:03.755386Z",
     "start_time": "2021-10-28T18:41:03.750664Z"
    },
    "id": "7829878b"
   },
   "outputs": [],
   "source": [
    "def generator(items, users, interactions, batch_size=1024):\n",
    "    while True:\n",
    "        uid_meta = []\n",
    "        uid_interaction = []\n",
    "        pos = []\n",
    "        neg = []\n",
    "        for _ in range(batch_size):\n",
    "            # берем рандомный uid\n",
    "            uid_i = randint(0, interactions.shape[0]-1)\n",
    "            # id хорошего айтема\n",
    "            pos_i = np.random.choice(range(interactions.shape[1]), p=interactions[uid_i])\n",
    "            # id плохого айтема\n",
    "            neg_i = np.random.choice(range(interactions.shape[1]))\n",
    "            # фичи юзера\n",
    "            uid_meta.append(users.iloc[uid_i])\n",
    "            # вектор айтемов, с которыми юзер взаимодействовал\n",
    "            uid_interaction.append(interactions_vec[uid_i])\n",
    "            # фичи хорошего айтема\n",
    "            pos.append(items.iloc[pos_i])\n",
    "            # фичи плохого айтема\n",
    "            neg.append(items.iloc[neg_i])\n",
    "            \n",
    "        yield [np.array(uid_meta), np.array(uid_interaction), np.array(pos), np.array(neg)], [np.array(uid_meta), np.array(uid_interaction)]\n"
   ]
  },
  {
   "cell_type": "code",
   "execution_count": 32,
   "id": "af9d3c3b",
   "metadata": {
    "ExecuteTime": {
     "end_time": "2021-10-28T18:41:16.386864Z",
     "start_time": "2021-10-28T18:41:03.756363Z"
    },
    "colab": {
     "base_uri": "https://localhost:8080/"
    },
    "id": "af9d3c3b",
    "outputId": "1040f567-f64a-4ccb-91a8-48034694dfdc"
   },
   "outputs": [
    {
     "name": "stdout",
     "output_type": "stream",
     "text": [
      "вектор фичей юзера: (1024, 16)\n",
      "вектор взаимодействий юзера с айтемами: (1024, 5303)\n",
      "вектор 'хорошего' айтема: (1024, 9813)\n",
      "вектор 'плохого' айтема: (1024, 9813)\n",
      "\n",
      "вектор фичей юзера: (1024, 16)\n",
      "вектор взаимодействий юзера с айтемами: (1024, 5303)\n"
     ]
    }
   ],
   "source": [
    "# инициализируем генератор\n",
    "gen = generator(items=items_ohe_df.drop([\"item_id\"], axis=1), \n",
    "                users=users_ohe_df.drop([\"user_id\"], axis=1), \n",
    "                interactions=interactions_vec)\n",
    "\n",
    "ret = next(gen)\n",
    "\n",
    "\n",
    "print(f\"вектор фичей юзера: {ret[0][0].shape}\")\n",
    "print(f\"вектор взаимодействий юзера с айтемами: {ret[0][1].shape}\")\n",
    "print(f\"вектор 'хорошего' айтема: {ret[0][2].shape}\")\n",
    "print(f\"вектор 'плохого' айтема: {ret[0][3].shape}\")\n",
    "print()\n",
    "print(f\"вектор фичей юзера: {ret[1][0].shape}\")\n",
    "print(f\"вектор взаимодействий юзера с айтемами: {ret[1][1].shape}\")"
   ]
  },
  {
   "cell_type": "code",
   "execution_count": 33,
   "id": "967b819f",
   "metadata": {
    "ExecuteTime": {
     "end_time": "2021-10-28T18:41:16.493030Z",
     "start_time": "2021-10-28T18:41:16.388592Z"
    },
    "colab": {
     "base_uri": "https://localhost:8080/"
    },
    "id": "967b819f",
    "outputId": "2f7a5885-dcb3-4ab8-80f8-57a21635595d"
   },
   "outputs": [
    {
     "name": "stdout",
     "output_type": "stream",
     "text": [
      "N_FACTORS: 128\n",
      "ITEM_MODEL_SHAPE: (9813,)\n",
      "USER_META_MODEL_SHAPE: (16,)\n",
      "USER_INTERACTION_MODEL_SHAPE: (5303,)\n"
     ]
    }
   ],
   "source": [
    "N_FACTORS = 128\n",
    "\n",
    "# в датасетах есть столбец user_id/item_id, помним, что он не является фичей для обучения!\n",
    "ITEM_MODEL_SHAPE = (items_ohe_df.drop([\"item_id\"], axis=1).shape[1], ) \n",
    "USER_META_MODEL_SHAPE = (users_ohe_df.drop([\"user_id\"], axis=1).shape[1], )\n",
    "\n",
    "USER_INTERACTION_MODEL_SHAPE = (interactions_vec.shape[1], )\n",
    "\n",
    "print(f\"N_FACTORS: {N_FACTORS}\")\n",
    "print(f\"ITEM_MODEL_SHAPE: {ITEM_MODEL_SHAPE}\")\n",
    "print(f\"USER_META_MODEL_SHAPE: {USER_META_MODEL_SHAPE}\")\n",
    "print(f\"USER_INTERACTION_MODEL_SHAPE: {USER_INTERACTION_MODEL_SHAPE}\")"
   ]
  },
  {
   "cell_type": "code",
   "execution_count": 34,
   "id": "de649a01",
   "metadata": {
    "ExecuteTime": {
     "end_time": "2021-10-28T18:41:16.816499Z",
     "start_time": "2021-10-28T18:41:16.494387Z"
    },
    "id": "de649a01"
   },
   "outputs": [],
   "source": [
    "def item_model(n_factors=N_FACTORS):\n",
    "    # входной слой\n",
    "    inp = keras.layers.Input(shape=ITEM_MODEL_SHAPE)\n",
    "    \n",
    "    # полносвязный слой\n",
    "    layer_1 = keras.layers.Dense(N_FACTORS, activation='elu', use_bias=False,\n",
    "                               kernel_regularizer=keras.regularizers.l2(1e-6),\n",
    "                               activity_regularizer=keras.regularizers.l2(l2=1e-6))(inp)\n",
    "\n",
    "    # делаем residual connection - складываем два слоя, \n",
    "    # чтобы градиенты не затухали во время обучения\n",
    "    layer_2 = keras.layers.Dense(N_FACTORS, activation='elu', use_bias=False,\n",
    "                             kernel_regularizer=keras.regularizers.l2(1e-6),\n",
    "                             activity_regularizer=keras.regularizers.l2(l2=1e-6))(layer_1)\n",
    "    \n",
    "    add = keras.layers.Add()([layer_1, layer_2])\n",
    "    \n",
    "    # выходной слой\n",
    "    out = keras.layers.Dense(N_FACTORS, activation='linear', use_bias=False,\n",
    "                             kernel_regularizer=keras.regularizers.l2(1e-6),\n",
    "                             activity_regularizer=keras.regularizers.l2(l2=1e-6))(add)\n",
    "    \n",
    "    return keras.models.Model(inp, out)\n",
    "\n",
    "\n",
    "def user_model(n_factors=N_FACTORS):\n",
    "    # входной слой для вектора фичей юзера (из users_ohe_df)\n",
    "    inp_meta = keras.layers.Input(shape=USER_META_MODEL_SHAPE)\n",
    "    # входной слой для вектора просмотров (из iteractions_vec)\n",
    "    inp_interaction = keras.layers.Input(shape=USER_INTERACTION_MODEL_SHAPE)\n",
    "\n",
    "    # полносвязный слой\n",
    "    layer_1_meta = keras.layers.Dense(N_FACTORS, activation='elu', use_bias=False,\n",
    "                                 kernel_regularizer=keras.regularizers.l2(1e-6),\n",
    "                                 activity_regularizer=keras.regularizers.l2(l2=1e-6))(inp_meta)\n",
    "\n",
    "    layer_1_interaction = keras.layers.Dense(N_FACTORS, activation='elu', use_bias=False,\n",
    "                                 kernel_regularizer=keras.regularizers.l2(1e-6),\n",
    "                                 activity_regularizer=keras.regularizers.l2(l2=1e-6))(inp_interaction)\n",
    "\n",
    "    # делаем residual connection - складываем два слоя,\n",
    "    # чтобы градиенты не затухали во время обучения\n",
    "    layer_2_meta = keras.layers.Dense(N_FACTORS, activation='elu', use_bias=False,\n",
    "                                 kernel_regularizer=keras.regularizers.l2(1e-6),\n",
    "                                 activity_regularizer=keras.regularizers.l2(l2=1e-6))(layer_1_meta)\n",
    "    \n",
    "\n",
    "    add = keras.layers.Add()([layer_1_meta, layer_2_meta])\n",
    "    \n",
    "    # конкатенируем вектор фичей с вектором просмотров\n",
    "    concat_meta_interaction = keras.layers.Concatenate()([add, layer_1_interaction])\n",
    "    \n",
    "    # выходной слой\n",
    "    out = keras.layers.Dense(N_FACTORS, activation='linear', use_bias=False,\n",
    "                             kernel_regularizer=keras.regularizers.l2(1e-6),\n",
    "                             activity_regularizer=keras.regularizers.l2(l2=1e-6))(concat_meta_interaction)\n",
    "    \n",
    "    return keras.models.Model([inp_meta, inp_interaction], out)\n",
    "\n",
    "# инициализируем модели юзера и айтема\n",
    "i2v = item_model()\n",
    "u2v = user_model()\n",
    "\n",
    "# вход для вектора фичей юзера (из users_ohe_df)\n",
    "ancor_meta_in = keras.layers.Input(shape=USER_META_MODEL_SHAPE)\n",
    "# вход для вектора просмотра юзера (из interactions_vec)\n",
    "ancor_interaction_in = keras.layers.Input(shape=USER_INTERACTION_MODEL_SHAPE)\n",
    "\n",
    "# вход для вектора \"хорошего\" айтема\n",
    "pos_in = keras.layers.Input(shape=ITEM_MODEL_SHAPE)\n",
    "# вход для вектора \"плохого\" айтема\n",
    "neg_in = keras.layers.Input(shape=ITEM_MODEL_SHAPE)\n",
    "\n",
    "# получаем вектор юзера\n",
    "ancor = u2v([ancor_meta_in, ancor_interaction_in])\n",
    "# получаем вектор \"хорошего\" айтема\n",
    "pos = i2v(pos_in)\n",
    "# получаем вектор \"плохого\" айтема\n",
    "neg = i2v(neg_in)\n",
    "\n",
    "# конкатенируем полученные векторы\n",
    "res = keras.layers.Concatenate(name=\"concat_ancor_pos_neg\")([ancor, pos, neg])\n",
    "\n",
    "# собираем модель\n",
    "model = keras.models.Model([ancor_meta_in, ancor_interaction_in, pos_in, neg_in], res)"
   ]
  },
  {
   "cell_type": "code",
   "execution_count": 35,
   "id": "e912d920",
   "metadata": {
    "ExecuteTime": {
     "end_time": "2021-10-28T18:41:16.822662Z",
     "start_time": "2021-10-28T18:41:16.817857Z"
    },
    "id": "e912d920"
   },
   "outputs": [],
   "source": [
    "model_name = 'recsys_resnet_linear'\n",
    "\n",
    "# логируем процесс обучения в тензорборд\n",
    "t_board = keras.callbacks.TensorBoard(log_dir=f'runs/{model_name}')\n",
    "\n",
    "# уменьшаем learning_rate, если лосс долго не уменьшается (в течение двух эпох)\n",
    "decay = keras.callbacks.ReduceLROnPlateau(monitor='loss', patience=2, factor=0.8, verbose=1)\n",
    "\n",
    "# сохраняем модель после каждой эпохи, если лосс уменьшился\n",
    "check = keras.callbacks.ModelCheckpoint(filepath=model_name + '/epoch{epoch}-{loss:.2f}.h5', monitor=\"loss\")\n"
   ]
  },
  {
   "cell_type": "code",
   "execution_count": 36,
   "id": "f95049f6",
   "metadata": {
    "ExecuteTime": {
     "end_time": "2021-10-28T18:41:16.832365Z",
     "start_time": "2021-10-28T18:41:16.824484Z"
    },
    "id": "f95049f6"
   },
   "outputs": [],
   "source": [
    "# компилируем модель, используем оптимайзер Adam и triplet loss\n",
    "opt = keras.optimizers.Adam(lr=0.001)\n",
    "model.compile(loss=triplet_loss, optimizer=opt)"
   ]
  },
  {
   "cell_type": "code",
   "execution_count": 37,
   "id": "fb9382d0",
   "metadata": {
    "ExecuteTime": {
     "end_time": "2021-10-28T18:41:16.867472Z",
     "start_time": "2021-10-28T18:41:16.833753Z"
    },
    "colab": {
     "base_uri": "https://localhost:8080/"
    },
    "id": "fb9382d0",
    "outputId": "2eca9a17-1544-4e27-a483-b86d11391767"
   },
   "outputs": [
    {
     "name": "stdout",
     "output_type": "stream",
     "text": [
      "Model: \"model_3\"\n",
      "__________________________________________________________________________________________________\n",
      " Layer (type)                   Output Shape         Param #     Connected to                     \n",
      "==================================================================================================\n",
      " input_8 (InputLayer)           [(None, 9813)]       0           []                               \n",
      "                                                                                                  \n",
      " dense_7 (Dense)                (None, 128)          1256064     ['input_8[0][0]']                \n",
      "                                                                                                  \n",
      " dense_8 (Dense)                (None, 128)          16384       ['dense_7[0][0]']                \n",
      "                                                                                                  \n",
      " add_2 (Add)                    (None, 128)          0           ['dense_7[0][0]',                \n",
      "                                                                  'dense_8[0][0]']                \n",
      "                                                                                                  \n",
      " dense_9 (Dense)                (None, 128)          16384       ['add_2[0][0]']                  \n",
      "                                                                                                  \n",
      "==================================================================================================\n",
      "Total params: 1,288,832\n",
      "Trainable params: 1,288,832\n",
      "Non-trainable params: 0\n",
      "__________________________________________________________________________________________________\n"
     ]
    }
   ],
   "source": [
    "# модель айтема\n",
    "item_model().summary()"
   ]
  },
  {
   "cell_type": "code",
   "execution_count": 38,
   "id": "286149d1",
   "metadata": {
    "ExecuteTime": {
     "end_time": "2021-10-28T18:41:16.923402Z",
     "start_time": "2021-10-28T18:41:16.868877Z"
    },
    "colab": {
     "base_uri": "https://localhost:8080/"
    },
    "id": "286149d1",
    "outputId": "4284ba09-05ef-4963-c637-67e919701d19"
   },
   "outputs": [
    {
     "name": "stdout",
     "output_type": "stream",
     "text": [
      "Model: \"model_4\"\n",
      "__________________________________________________________________________________________________\n",
      " Layer (type)                   Output Shape         Param #     Connected to                     \n",
      "==================================================================================================\n",
      " input_9 (InputLayer)           [(None, 16)]         0           []                               \n",
      "                                                                                                  \n",
      " dense_10 (Dense)               (None, 128)          2048        ['input_9[0][0]']                \n",
      "                                                                                                  \n",
      " dense_12 (Dense)               (None, 128)          16384       ['dense_10[0][0]']               \n",
      "                                                                                                  \n",
      " input_10 (InputLayer)          [(None, 5303)]       0           []                               \n",
      "                                                                                                  \n",
      " add_3 (Add)                    (None, 128)          0           ['dense_10[0][0]',               \n",
      "                                                                  'dense_12[0][0]']               \n",
      "                                                                                                  \n",
      " dense_11 (Dense)               (None, 128)          678784      ['input_10[0][0]']               \n",
      "                                                                                                  \n",
      " concatenate_1 (Concatenate)    (None, 256)          0           ['add_3[0][0]',                  \n",
      "                                                                  'dense_11[0][0]']               \n",
      "                                                                                                  \n",
      " dense_13 (Dense)               (None, 128)          32768       ['concatenate_1[0][0]']          \n",
      "                                                                                                  \n",
      "==================================================================================================\n",
      "Total params: 729,984\n",
      "Trainable params: 729,984\n",
      "Non-trainable params: 0\n",
      "__________________________________________________________________________________________________\n"
     ]
    }
   ],
   "source": [
    "# модель юзера\n",
    "user_model().summary()"
   ]
  },
  {
   "cell_type": "code",
   "execution_count": 39,
   "id": "d9f25a3f",
   "metadata": {
    "ExecuteTime": {
     "end_time": "2021-10-28T18:41:16.929341Z",
     "start_time": "2021-10-28T18:41:16.924663Z"
    },
    "colab": {
     "base_uri": "https://localhost:8080/"
    },
    "id": "d9f25a3f",
    "outputId": "6f9a3700-4420-4345-8331-82f7207b566b"
   },
   "outputs": [
    {
     "name": "stdout",
     "output_type": "stream",
     "text": [
      "Model: \"model_2\"\n",
      "__________________________________________________________________________________________________\n",
      " Layer (type)                   Output Shape         Param #     Connected to                     \n",
      "==================================================================================================\n",
      " input_4 (InputLayer)           [(None, 16)]         0           []                               \n",
      "                                                                                                  \n",
      " input_5 (InputLayer)           [(None, 5303)]       0           []                               \n",
      "                                                                                                  \n",
      " input_6 (InputLayer)           [(None, 9813)]       0           []                               \n",
      "                                                                                                  \n",
      " input_7 (InputLayer)           [(None, 9813)]       0           []                               \n",
      "                                                                                                  \n",
      " model_1 (Functional)           (None, 128)          729984      ['input_4[0][0]',                \n",
      "                                                                  'input_5[0][0]']                \n",
      "                                                                                                  \n",
      " model (Functional)             (None, 128)          1288832     ['input_6[0][0]',                \n",
      "                                                                  'input_7[0][0]']                \n",
      "                                                                                                  \n",
      " concat_ancor_pos_neg (Concaten  (None, 384)         0           ['model_1[0][0]',                \n",
      " ate)                                                             'model[0][0]',                  \n",
      "                                                                  'model[1][0]']                  \n",
      "                                                                                                  \n",
      "==================================================================================================\n",
      "Total params: 2,018,816\n",
      "Trainable params: 2,018,816\n",
      "Non-trainable params: 0\n",
      "__________________________________________________________________________________________________\n"
     ]
    }
   ],
   "source": [
    "# общая модель\n",
    "model.summary()"
   ]
  },
  {
   "cell_type": "code",
   "execution_count": 40,
   "id": "99d50830",
   "metadata": {
    "ExecuteTime": {
     "end_time": "2021-10-28T19:15:21.657529Z",
     "start_time": "2021-10-28T19:15:16.365923Z"
    },
    "colab": {
     "base_uri": "https://localhost:8080/"
    },
    "id": "99d50830",
    "outputId": "cee25813-2173-460f-e6f2-024d75d1db08"
   },
   "outputs": [
    {
     "name": "stdout",
     "output_type": "stream",
     "text": [
      "Epoch 1/30\n",
      "100/100 [==============================] - 278s 3s/step - loss: 0.3130 - lr: 0.0010\n",
      "Epoch 2/30\n",
      "100/100 [==============================] - 294s 3s/step - loss: 0.2332 - lr: 0.0010\n",
      "Epoch 3/30\n",
      "100/100 [==============================] - 294s 3s/step - loss: 0.2080 - lr: 0.0010\n",
      "Epoch 4/30\n",
      "100/100 [==============================] - 352s 4s/step - loss: 0.1973 - lr: 0.0010\n",
      "Epoch 5/30\n",
      "100/100 [==============================] - 270s 3s/step - loss: 0.1789 - lr: 0.0010\n",
      "Epoch 6/30\n",
      "100/100 [==============================] - 227s 2s/step - loss: 0.1748 - lr: 0.0010\n",
      "Epoch 7/30\n",
      "100/100 [==============================] - 241s 2s/step - loss: 0.1730 - lr: 0.0010\n",
      "Epoch 8/30\n",
      "100/100 [==============================] - 236s 2s/step - loss: 0.1697 - lr: 0.0010\n",
      "Epoch 9/30\n",
      "100/100 [==============================] - 403s 4s/step - loss: 0.1627 - lr: 0.0010\n",
      "Epoch 10/30\n",
      "100/100 [==============================] - 299s 3s/step - loss: 0.1548 - lr: 0.0010\n",
      "Epoch 11/30\n",
      "100/100 [==============================] - 225s 2s/step - loss: 0.1547 - lr: 0.0010\n",
      "Epoch 12/30\n",
      "100/100 [==============================] - 228s 2s/step - loss: 0.1536 - lr: 0.0010\n",
      "Epoch 13/30\n",
      "100/100 [==============================] - 236s 2s/step - loss: 0.1464 - lr: 0.0010\n",
      "Epoch 14/30\n",
      "100/100 [==============================] - 237s 2s/step - loss: 0.1475 - lr: 0.0010\n",
      "Epoch 15/30\n",
      "100/100 [==============================] - ETA: 0s - loss: 0.1471\n",
      "Epoch 15: ReduceLROnPlateau reducing learning rate to 0.000800000037997961.\n",
      "100/100 [==============================] - 236s 2s/step - loss: 0.1471 - lr: 0.0010\n",
      "Epoch 16/30\n",
      "100/100 [==============================] - 236s 2s/step - loss: 0.1387 - lr: 8.0000e-04\n",
      "Epoch 17/30\n",
      "100/100 [==============================] - 421s 4s/step - loss: 0.1358 - lr: 8.0000e-04\n",
      "Epoch 18/30\n",
      "100/100 [==============================] - 501s 5s/step - loss: 0.1388 - lr: 8.0000e-04\n",
      "Epoch 19/30\n",
      "100/100 [==============================] - ETA: 0s - loss: 0.1362\n",
      "Epoch 19: ReduceLROnPlateau reducing learning rate to 0.0006400000303983689.\n",
      "100/100 [==============================] - 515s 5s/step - loss: 0.1362 - lr: 8.0000e-04\n",
      "Epoch 20/30\n",
      "100/100 [==============================] - 514s 5s/step - loss: 0.1255 - lr: 6.4000e-04\n",
      "Epoch 21/30\n",
      "100/100 [==============================] - 505s 5s/step - loss: 0.1292 - lr: 6.4000e-04\n",
      "Epoch 22/30\n",
      "100/100 [==============================] - 503s 5s/step - loss: 0.1197 - lr: 6.4000e-04\n",
      "Epoch 23/30\n",
      "100/100 [==============================] - 488s 5s/step - loss: 0.1194 - lr: 6.4000e-04\n",
      "Epoch 24/30\n",
      "100/100 [==============================] - 484s 5s/step - loss: 0.1228 - lr: 6.4000e-04\n",
      "Epoch 25/30\n",
      "100/100 [==============================] - ETA: 0s - loss: 0.1235\n",
      "Epoch 25: ReduceLROnPlateau reducing learning rate to 0.0005120000336319208.\n",
      "100/100 [==============================] - 485s 5s/step - loss: 0.1235 - lr: 6.4000e-04\n",
      "Epoch 26/30\n",
      "100/100 [==============================] - 304s 3s/step - loss: 0.1150 - lr: 5.1200e-04\n",
      "Epoch 27/30\n",
      "100/100 [==============================] - 226s 2s/step - loss: 0.1128 - lr: 5.1200e-04\n",
      "Epoch 28/30\n",
      "100/100 [==============================] - 234s 2s/step - loss: 0.1084 - lr: 5.1200e-04\n",
      "Epoch 29/30\n",
      "100/100 [==============================] - 239s 2s/step - loss: 0.1111 - lr: 5.1200e-04\n",
      "Epoch 30/30\n",
      "100/100 [==============================] - ETA: 0s - loss: 0.1095\n",
      "Epoch 30: ReduceLROnPlateau reducing learning rate to 0.00040960004553198815.\n",
      "100/100 [==============================] - 235s 2s/step - loss: 0.1095 - lr: 5.1200e-04\n"
     ]
    },
    {
     "data": {
      "text/plain": [
       "<keras.callbacks.History at 0x297ea8e31c0>"
      ]
     },
     "execution_count": 40,
     "metadata": {},
     "output_type": "execute_result"
    }
   ],
   "source": [
    "# начинаем обучение, не забывая дропнуть столбцы item_id и user_id \n",
    "# из датафреймов при инициализации генератора.\n",
    "\n",
    "# batch_size можно (и лучше) поставить побольше, если вы не органичены в ресурсах\n",
    "\n",
    "model.fit(generator(items=items_ohe_df.drop([\"item_id\"], axis=1), \n",
    "                    users=users_ohe_df.drop([\"user_id\"], axis=1), \n",
    "                    interactions=interactions_vec,\n",
    "                    batch_size=64), \n",
    "          steps_per_epoch=100, \n",
    "          epochs=30, \n",
    "          initial_epoch=0,\n",
    "          callbacks=[decay, t_board, check]\n",
    ")"
   ]
  },
  {
   "cell_type": "code",
   "execution_count": 41,
   "id": "94d23f62",
   "metadata": {
    "ExecuteTime": {
     "end_time": "2021-10-28T19:15:26.511958Z",
     "start_time": "2021-10-28T19:15:26.151899Z"
    },
    "colab": {
     "base_uri": "https://localhost:8080/"
    },
    "id": "94d23f62",
    "outputId": "4a500ea7-fa38-4455-a51a-2bd0113fa2f2"
   },
   "outputs": [
    {
     "name": "stdout",
     "output_type": "stream",
     "text": [
      "1/1 [==============================] - 0s 82ms/step\n",
      "1/1 [==============================] - 0s 56ms/step\n"
     ]
    },
    {
     "data": {
      "text/plain": [
       "array([[1.7397815]], dtype=float32)"
      ]
     },
     "execution_count": 41,
     "metadata": {},
     "output_type": "execute_result"
    }
   ],
   "source": [
    "# берем рандомного юзера\n",
    "rand_uid = np.random.choice(list(users_ohe_df.index))\n",
    "\n",
    "# получаем фичи юзера и вектор его просмотров айтемов\n",
    "user_meta_feats = users_ohe_df.drop([\"user_id\"], axis=1).iloc[rand_uid]\n",
    "user_interaction_vec = interactions_vec[rand_uid]\n",
    "\n",
    "# берем рандомный айтем\n",
    "rand_iid = np.random.choice(list(items_ohe_df.index))\n",
    "# получаем фичи айтема\n",
    "item_feats = items_ohe_df.drop([\"item_id\"], axis=1).iloc[rand_iid]\n",
    "\n",
    "# получаем вектор юзера\n",
    "user_vec = u2v.predict([np.array(user_meta_feats).reshape(1, -1), \n",
    "                        np.array(user_interaction_vec).reshape(1, -1)])\n",
    "\n",
    "# и вектор айтема\n",
    "item_vec = i2v.predict(np.array(item_feats).reshape(1, -1))\n",
    "\n",
    "# считаем расстояние между вектором юзера и вектором айтема\n",
    "from sklearn.metrics.pairwise import euclidean_distances as ED\n",
    "\n",
    "ED(user_vec, item_vec)"
   ]
  },
  {
   "cell_type": "code",
   "execution_count": 42,
   "id": "d537d3e8",
   "metadata": {
    "ExecuteTime": {
     "end_time": "2021-10-28T19:15:28.951471Z",
     "start_time": "2021-10-28T19:15:27.763367Z"
    },
    "colab": {
     "base_uri": "https://localhost:8080/"
    },
    "id": "d537d3e8",
    "outputId": "6bdce370-c348-4f0b-cd4f-3cbb0ec3d019"
   },
   "outputs": [
    {
     "name": "stdout",
     "output_type": "stream",
     "text": [
      "166/166 [==============================] - 0s 2ms/step\n"
     ]
    }
   ],
   "source": [
    "# получаем фичи всех айтемов\n",
    "items_feats = items_ohe_df.drop([\"item_id\"], axis=1).to_numpy()\n",
    "# получаем векторы всех айтемов\n",
    "items_vecs = i2v.predict(items_feats)\n",
    "\n",
    "# считаем расстояния\n",
    "dists = ED(user_vec, items_vecs)"
   ]
  },
  {
   "cell_type": "code",
   "execution_count": 43,
   "id": "udY36b_l0okL",
   "metadata": {
    "colab": {
     "base_uri": "https://localhost:8080/"
    },
    "id": "udY36b_l0okL",
    "outputId": "53287102-2434-490e-d668-b8085515d4b8"
   },
   "outputs": [
    {
     "data": {
      "text/plain": [
       "(5303, 128)"
      ]
     },
     "execution_count": 43,
     "metadata": {},
     "output_type": "execute_result"
    }
   ],
   "source": [
    "items_vecs.shape"
   ]
  },
  {
   "cell_type": "code",
   "execution_count": 44,
   "id": "XasFl6RN0snT",
   "metadata": {
    "id": "XasFl6RN0snT"
   },
   "outputs": [],
   "source": [
    "users_meta_feats = users_ohe_df.drop([\"user_id\"], axis=1)\n",
    "users_interaction_vec = interactions_vec"
   ]
  },
  {
   "cell_type": "code",
   "execution_count": 45,
   "id": "cntEZU450_MI",
   "metadata": {
    "colab": {
     "base_uri": "https://localhost:8080/"
    },
    "id": "cntEZU450_MI",
    "outputId": "c9aace32-281a-4b0e-8e0d-8b0f1088ce9b"
   },
   "outputs": [
    {
     "data": {
      "text/plain": [
       "(65552, 16)"
      ]
     },
     "execution_count": 45,
     "metadata": {},
     "output_type": "execute_result"
    }
   ],
   "source": [
    "users_meta_feats.shape"
   ]
  },
  {
   "cell_type": "code",
   "execution_count": 46,
   "id": "kQ1EZolS1B1Y",
   "metadata": {
    "colab": {
     "base_uri": "https://localhost:8080/"
    },
    "id": "kQ1EZolS1B1Y",
    "outputId": "ca9dc5eb-5519-4c75-f1d8-4945941a46d1"
   },
   "outputs": [
    {
     "data": {
      "text/plain": [
       "(65552, 5303)"
      ]
     },
     "execution_count": 46,
     "metadata": {},
     "output_type": "execute_result"
    }
   ],
   "source": [
    "users_interaction_vec.shape"
   ]
  },
  {
   "cell_type": "code",
   "execution_count": 47,
   "id": "hKU4MD7M1dp5",
   "metadata": {
    "colab": {
     "base_uri": "https://localhost:8080/"
    },
    "id": "hKU4MD7M1dp5",
    "outputId": "bd79e8e2-8a82-4ff7-d1ac-849e3425c2c8"
   },
   "outputs": [
    {
     "data": {
      "text/plain": [
       "(65552, 16)"
      ]
     },
     "execution_count": 47,
     "metadata": {},
     "output_type": "execute_result"
    }
   ],
   "source": [
    "np.array(users_meta_feats).shape"
   ]
  },
  {
   "cell_type": "code",
   "execution_count": 48,
   "id": "x16g5FM21XGJ",
   "metadata": {
    "colab": {
     "base_uri": "https://localhost:8080/"
    },
    "id": "x16g5FM21XGJ",
    "outputId": "9b43e3e6-f98b-466a-8b0d-c2aeb0ca724e"
   },
   "outputs": [
    {
     "name": "stdout",
     "output_type": "stream",
     "text": [
      "2049/2049 [==============================] - 8s 4ms/step\n"
     ]
    }
   ],
   "source": [
    "users_vec = u2v.predict([np.array(users_meta_feats), \n",
    "                        np.array(users_interaction_vec)])"
   ]
  },
  {
   "cell_type": "code",
   "execution_count": 49,
   "id": "2S-IAoJZ1x_N",
   "metadata": {
    "colab": {
     "base_uri": "https://localhost:8080/"
    },
    "id": "2S-IAoJZ1x_N",
    "outputId": "f32845ce-f2ce-47f6-e0c8-a817328e3339"
   },
   "outputs": [
    {
     "data": {
      "text/plain": [
       "(65552, 128)"
      ]
     },
     "execution_count": 49,
     "metadata": {},
     "output_type": "execute_result"
    }
   ],
   "source": [
    "users_vec.shape"
   ]
  },
  {
   "cell_type": "code",
   "execution_count": 50,
   "id": "G4pntPu10ogl",
   "metadata": {
    "colab": {
     "base_uri": "https://localhost:8080/"
    },
    "id": "G4pntPu10ogl",
    "outputId": "557b6f56-dff5-46e9-da97-569001c59c79"
   },
   "outputs": [
    {
     "data": {
      "text/plain": [
       "(5303, 128)"
      ]
     },
     "execution_count": 50,
     "metadata": {},
     "output_type": "execute_result"
    }
   ],
   "source": [
    "items_vecs.shape"
   ]
  },
  {
   "cell_type": "code",
   "execution_count": 51,
   "id": "hnUX3Yte2Jcw",
   "metadata": {
    "id": "hnUX3Yte2Jcw"
   },
   "outputs": [],
   "source": [
    "dists = ED(users_vec, items_vecs)"
   ]
  },
  {
   "cell_type": "code",
   "execution_count": 52,
   "id": "MDgiwnnu2KHk",
   "metadata": {
    "colab": {
     "base_uri": "https://localhost:8080/"
    },
    "id": "MDgiwnnu2KHk",
    "outputId": "ae9eeb6f-8a29-4195-8bdf-eeaa51b6d049"
   },
   "outputs": [
    {
     "data": {
      "text/plain": [
       "(65552, 5303)"
      ]
     },
     "execution_count": 52,
     "metadata": {},
     "output_type": "execute_result"
    }
   ],
   "source": [
    "dists.shape"
   ]
  },
  {
   "cell_type": "code",
   "execution_count": 53,
   "id": "Ru8IQwSV2UrB",
   "metadata": {
    "id": "Ru8IQwSV2UrB"
   },
   "outputs": [],
   "source": [
    "top10_iids = np.argsort(dists, axis=1)[:,:10]"
   ]
  },
  {
   "cell_type": "code",
   "execution_count": 54,
   "id": "pAzg23jU3TSo",
   "metadata": {
    "colab": {
     "base_uri": "https://localhost:8080/"
    },
    "id": "pAzg23jU3TSo",
    "outputId": "baeb6ea9-ca6f-4bb9-da7b-3fc16669db23"
   },
   "outputs": [
    {
     "data": {
      "text/plain": [
       "(65552, 10)"
      ]
     },
     "execution_count": 54,
     "metadata": {},
     "output_type": "execute_result"
    }
   ],
   "source": [
    "top10_iids.reshape(dists.shape[0], 10).shape"
   ]
  },
  {
   "cell_type": "code",
   "execution_count": 55,
   "id": "l-yXdzmg7dlM",
   "metadata": {
    "colab": {
     "base_uri": "https://localhost:8080/"
    },
    "id": "l-yXdzmg7dlM",
    "outputId": "66f9b341-1fa2-4c0f-c3a4-cb5ec388483c"
   },
   "outputs": [
    {
     "data": {
      "text/plain": [
       "array([[2418, 1705, 4134, ..., 3324, 4153, 5195],\n",
       "       [3098, 4422, 4923, ..., 3577,  554, 3322],\n",
       "       [4422, 1164, 3178, ..., 3098, 3748, 1507],\n",
       "       ...,\n",
       "       [1795, 2418, 1705, ..., 3815, 5226, 4914],\n",
       "       [4098, 4574, 3098, ..., 2663,  387, 5172],\n",
       "       [4923, 1783, 2020, ..., 4640, 4642, 3178]], dtype=int64)"
      ]
     },
     "execution_count": 55,
     "metadata": {},
     "output_type": "execute_result"
    }
   ],
   "source": [
    "top10_iids"
   ]
  },
  {
   "cell_type": "code",
   "execution_count": 56,
   "id": "ehH1-C-S6yE9",
   "metadata": {
    "colab": {
     "base_uri": "https://localhost:8080/"
    },
    "id": "ehH1-C-S6yE9",
    "outputId": "5a08578e-7bc1-404a-db00-5d2114b7ad28"
   },
   "outputs": [
    {
     "data": {
      "text/plain": [
       "(65552, 10)"
      ]
     },
     "execution_count": 56,
     "metadata": {},
     "output_type": "execute_result"
    }
   ],
   "source": [
    "top10_iids.shape"
   ]
  },
  {
   "cell_type": "code",
   "execution_count": 57,
   "id": "srptkYsFsk1V",
   "metadata": {
    "id": "srptkYsFsk1V"
   },
   "outputs": [],
   "source": [
    "top10_iids_item = [iid_to_item_id[iid] for iid in top10_iids.reshape(-1)]"
   ]
  },
  {
   "cell_type": "code",
   "execution_count": 58,
   "id": "GWCz9zErskwn",
   "metadata": {
    "id": "GWCz9zErskwn"
   },
   "outputs": [],
   "source": [
    "top10_iids_item = np.array(top10_iids_item).reshape(top10_iids.shape)"
   ]
  },
  {
   "cell_type": "code",
   "execution_count": 59,
   "id": "pNq_brUisknx",
   "metadata": {
    "colab": {
     "base_uri": "https://localhost:8080/"
    },
    "id": "pNq_brUisknx",
    "outputId": "f1980332-ef9e-4920-b470-675a567c815a"
   },
   "outputs": [
    {
     "data": {
      "text/plain": [
       "(65552, 10)"
      ]
     },
     "execution_count": 59,
     "metadata": {},
     "output_type": "execute_result"
    }
   ],
   "source": [
    "top10_iids_item.shape"
   ]
  },
  {
   "cell_type": "code",
   "execution_count": 60,
   "id": "z6ussvRSth2h",
   "metadata": {
    "id": "z6ussvRSth2h"
   },
   "outputs": [],
   "source": [
    "df_dssm = pd.DataFrame(columns = ['user_id', 'item_id'])"
   ]
  },
  {
   "cell_type": "code",
   "execution_count": 61,
   "id": "Y9XvpPzRu82h",
   "metadata": {
    "colab": {
     "base_uri": "https://localhost:8080/",
     "height": 49
    },
    "id": "Y9XvpPzRu82h",
    "outputId": "8397c843-1427-444e-af8d-f5c5cd19a80d"
   },
   "outputs": [
    {
     "data": {
      "text/html": [
       "<div>\n",
       "<style scoped>\n",
       "    .dataframe tbody tr th:only-of-type {\n",
       "        vertical-align: middle;\n",
       "    }\n",
       "\n",
       "    .dataframe tbody tr th {\n",
       "        vertical-align: top;\n",
       "    }\n",
       "\n",
       "    .dataframe thead th {\n",
       "        text-align: right;\n",
       "    }\n",
       "</style>\n",
       "<table border=\"1\" class=\"dataframe\">\n",
       "  <thead>\n",
       "    <tr style=\"text-align: right;\">\n",
       "      <th></th>\n",
       "      <th>user_id</th>\n",
       "      <th>item_id</th>\n",
       "    </tr>\n",
       "  </thead>\n",
       "  <tbody>\n",
       "  </tbody>\n",
       "</table>\n",
       "</div>"
      ],
      "text/plain": [
       "Empty DataFrame\n",
       "Columns: [user_id, item_id]\n",
       "Index: []"
      ]
     },
     "execution_count": 61,
     "metadata": {},
     "output_type": "execute_result"
    }
   ],
   "source": [
    "df_dssm.head()"
   ]
  },
  {
   "cell_type": "code",
   "execution_count": 62,
   "id": "KieINSdwvIu7",
   "metadata": {
    "id": "KieINSdwvIu7"
   },
   "outputs": [],
   "source": [
    "df_dssm = pd.DataFrame({'user_id': [uid_to_user_id[uid] for uid in np.arange(top10_iids_item.shape[0])]})"
   ]
  },
  {
   "cell_type": "code",
   "execution_count": 63,
   "id": "RSYHUj7IuzT1",
   "metadata": {
    "id": "RSYHUj7IuzT1"
   },
   "outputs": [],
   "source": [
    "df_dssm['item_id'] = list(top10_iids_item)"
   ]
  },
  {
   "cell_type": "code",
   "execution_count": 64,
   "id": "607f04cc-daf9-4040-b7b5-d4267c8a17b9",
   "metadata": {},
   "outputs": [
    {
     "data": {
      "text/html": [
       "<div>\n",
       "<style scoped>\n",
       "    .dataframe tbody tr th:only-of-type {\n",
       "        vertical-align: middle;\n",
       "    }\n",
       "\n",
       "    .dataframe tbody tr th {\n",
       "        vertical-align: top;\n",
       "    }\n",
       "\n",
       "    .dataframe thead th {\n",
       "        text-align: right;\n",
       "    }\n",
       "</style>\n",
       "<table border=\"1\" class=\"dataframe\">\n",
       "  <thead>\n",
       "    <tr style=\"text-align: right;\">\n",
       "      <th></th>\n",
       "      <th>user_id</th>\n",
       "      <th>item_id</th>\n",
       "    </tr>\n",
       "  </thead>\n",
       "  <tbody>\n",
       "    <tr>\n",
       "      <th>0</th>\n",
       "      <td>2</td>\n",
       "      <td>[7582, 5411, 12965, 13915, 5894, 16270, 1290, ...</td>\n",
       "    </tr>\n",
       "    <tr>\n",
       "      <th>1</th>\n",
       "      <td>21</td>\n",
       "      <td>[9728, 13865, 15297, 3734, 3935, 7417, 14703, ...</td>\n",
       "    </tr>\n",
       "    <tr>\n",
       "      <th>2</th>\n",
       "      <td>53</td>\n",
       "      <td>[13865, 3734, 9996, 15297, 4151, 5658, 1844, 9...</td>\n",
       "    </tr>\n",
       "    <tr>\n",
       "      <th>3</th>\n",
       "      <td>60</td>\n",
       "      <td>[15297, 13865, 142, 1844, 849, 3734, 7417, 104...</td>\n",
       "    </tr>\n",
       "    <tr>\n",
       "      <th>4</th>\n",
       "      <td>81</td>\n",
       "      <td>[5287, 1844, 14901, 14703, 8486, 7417, 142, 37...</td>\n",
       "    </tr>\n",
       "    <tr>\n",
       "      <th>...</th>\n",
       "      <td>...</td>\n",
       "      <td>...</td>\n",
       "    </tr>\n",
       "    <tr>\n",
       "      <th>65547</th>\n",
       "      <td>1097486</td>\n",
       "      <td>[9728, 3734, 13865, 142, 10440, 11237, 7417, 6...</td>\n",
       "    </tr>\n",
       "    <tr>\n",
       "      <th>65548</th>\n",
       "      <td>1097489</td>\n",
       "      <td>[3834, 10444, 7582, 15074, 3541, 14215, 9164, ...</td>\n",
       "    </tr>\n",
       "    <tr>\n",
       "      <th>65549</th>\n",
       "      <td>1097508</td>\n",
       "      <td>[5681, 7582, 5411, 12965, 10761, 10214, 15074,...</td>\n",
       "    </tr>\n",
       "    <tr>\n",
       "      <th>65550</th>\n",
       "      <td>1097513</td>\n",
       "      <td>[12841, 14264, 9728, 6455, 4436, 8821, 12501, ...</td>\n",
       "    </tr>\n",
       "    <tr>\n",
       "      <th>65551</th>\n",
       "      <td>1097516</td>\n",
       "      <td>[15297, 5658, 6382, 10436, 7377, 12192, 14910,...</td>\n",
       "    </tr>\n",
       "  </tbody>\n",
       "</table>\n",
       "<p>65552 rows × 2 columns</p>\n",
       "</div>"
      ],
      "text/plain": [
       "       user_id                                            item_id\n",
       "0            2  [7582, 5411, 12965, 13915, 5894, 16270, 1290, ...\n",
       "1           21  [9728, 13865, 15297, 3734, 3935, 7417, 14703, ...\n",
       "2           53  [13865, 3734, 9996, 15297, 4151, 5658, 1844, 9...\n",
       "3           60  [15297, 13865, 142, 1844, 849, 3734, 7417, 104...\n",
       "4           81  [5287, 1844, 14901, 14703, 8486, 7417, 142, 37...\n",
       "...        ...                                                ...\n",
       "65547  1097486  [9728, 3734, 13865, 142, 10440, 11237, 7417, 6...\n",
       "65548  1097489  [3834, 10444, 7582, 15074, 3541, 14215, 9164, ...\n",
       "65549  1097508  [5681, 7582, 5411, 12965, 10761, 10214, 15074,...\n",
       "65550  1097513  [12841, 14264, 9728, 6455, 4436, 8821, 12501, ...\n",
       "65551  1097516  [15297, 5658, 6382, 10436, 7377, 12192, 14910,...\n",
       "\n",
       "[65552 rows x 2 columns]"
      ]
     },
     "execution_count": 64,
     "metadata": {},
     "output_type": "execute_result"
    }
   ],
   "source": [
    "df_dssm"
   ]
  },
  {
   "cell_type": "code",
   "execution_count": 65,
   "id": "xdPs4HY874OZ",
   "metadata": {
    "id": "xdPs4HY874OZ"
   },
   "outputs": [],
   "source": [
    "df_dssm = df_dssm.explode('item_id')\n",
    "df_dssm['rank'] = df_dssm.groupby('user_id').cumcount() + 1\n",
    "df_dssm = df_dssm.groupby('user_id').agg({'item_id': list}).reset_index()"
   ]
  },
  {
   "cell_type": "code",
   "execution_count": 66,
   "id": "C8kdzzf6wAuz",
   "metadata": {
    "colab": {
     "base_uri": "https://localhost:8080/",
     "height": 206
    },
    "id": "C8kdzzf6wAuz",
    "outputId": "df930923-8ad5-45f8-f76c-ab847237802d"
   },
   "outputs": [
    {
     "data": {
      "text/html": [
       "<div>\n",
       "<style scoped>\n",
       "    .dataframe tbody tr th:only-of-type {\n",
       "        vertical-align: middle;\n",
       "    }\n",
       "\n",
       "    .dataframe tbody tr th {\n",
       "        vertical-align: top;\n",
       "    }\n",
       "\n",
       "    .dataframe thead th {\n",
       "        text-align: right;\n",
       "    }\n",
       "</style>\n",
       "<table border=\"1\" class=\"dataframe\">\n",
       "  <thead>\n",
       "    <tr style=\"text-align: right;\">\n",
       "      <th></th>\n",
       "      <th>user_id</th>\n",
       "      <th>item_id</th>\n",
       "    </tr>\n",
       "  </thead>\n",
       "  <tbody>\n",
       "    <tr>\n",
       "      <th>0</th>\n",
       "      <td>2</td>\n",
       "      <td>[7582, 5411, 12965, 13915, 5894, 16270, 1290, ...</td>\n",
       "    </tr>\n",
       "    <tr>\n",
       "      <th>1</th>\n",
       "      <td>21</td>\n",
       "      <td>[9728, 13865, 15297, 3734, 3935, 7417, 14703, ...</td>\n",
       "    </tr>\n",
       "    <tr>\n",
       "      <th>2</th>\n",
       "      <td>53</td>\n",
       "      <td>[13865, 3734, 9996, 15297, 4151, 5658, 1844, 9...</td>\n",
       "    </tr>\n",
       "    <tr>\n",
       "      <th>3</th>\n",
       "      <td>60</td>\n",
       "      <td>[15297, 13865, 142, 1844, 849, 3734, 7417, 104...</td>\n",
       "    </tr>\n",
       "    <tr>\n",
       "      <th>4</th>\n",
       "      <td>81</td>\n",
       "      <td>[5287, 1844, 14901, 14703, 8486, 7417, 142, 37...</td>\n",
       "    </tr>\n",
       "  </tbody>\n",
       "</table>\n",
       "</div>"
      ],
      "text/plain": [
       "   user_id                                            item_id\n",
       "0        2  [7582, 5411, 12965, 13915, 5894, 16270, 1290, ...\n",
       "1       21  [9728, 13865, 15297, 3734, 3935, 7417, 14703, ...\n",
       "2       53  [13865, 3734, 9996, 15297, 4151, 5658, 1844, 9...\n",
       "3       60  [15297, 13865, 142, 1844, 849, 3734, 7417, 104...\n",
       "4       81  [5287, 1844, 14901, 14703, 8486, 7417, 142, 37..."
      ]
     },
     "execution_count": 66,
     "metadata": {},
     "output_type": "execute_result"
    }
   ],
   "source": [
    "df_dssm.head()"
   ]
  },
  {
   "cell_type": "code",
   "execution_count": 67,
   "id": "470520bf-c308-4e03-aec7-9ab328842464",
   "metadata": {},
   "outputs": [],
   "source": [
    "result_dict = df_dssm.set_index('user_id')['item_id'].to_dict()"
   ]
  },
  {
   "cell_type": "code",
   "execution_count": 68,
   "id": "d4e4d77a-a909-4acb-9384-3e805938ca33",
   "metadata": {},
   "outputs": [],
   "source": [
    "result_dict\n",
    "with open('offline_dssm.pkl', 'wb') as f\n",
    "    pickle.dump(result_dict, f)"
   ]
  },
  {
   "cell_type": "code",
   "execution_count": null,
   "id": "847f8e67-7bc6-4c71-8dda-0b6206ad87e8",
   "metadata": {},
   "outputs": [],
   "source": []
  }
 ],
 "metadata": {
  "colab": {
   "collapsed_sections": [
    "8bcc3e80",
    "8c284190",
    "fcdd65bb",
    "a86927cb"
   ],
   "provenance": []
  },
  "kernelspec": {
   "display_name": "Python 3 (ipykernel)",
   "language": "python",
   "name": "python3"
  },
  "language_info": {
   "codemirror_mode": {
    "name": "ipython",
    "version": 3
   },
   "file_extension": ".py",
   "mimetype": "text/x-python",
   "name": "python",
   "nbconvert_exporter": "python",
   "pygments_lexer": "ipython3",
   "version": "3.9.18"
  }
 },
 "nbformat": 4,
 "nbformat_minor": 5
}
